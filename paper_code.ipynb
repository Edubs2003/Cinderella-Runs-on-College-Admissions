{
 "cells": [
  {
   "cell_type": "markdown",
   "metadata": {},
   "source": [
    "## Data Cleaning"
   ]
  },
  {
   "cell_type": "code",
   "execution_count": 1,
   "metadata": {},
   "outputs": [
    {
     "data": {
      "text/html": [
       "<div>\n",
       "<style scoped>\n",
       "    .dataframe tbody tr th:only-of-type {\n",
       "        vertical-align: middle;\n",
       "    }\n",
       "\n",
       "    .dataframe tbody tr th {\n",
       "        vertical-align: top;\n",
       "    }\n",
       "\n",
       "    .dataframe thead th {\n",
       "        text-align: right;\n",
       "    }\n",
       "</style>\n",
       "<table border=\"1\" class=\"dataframe\">\n",
       "  <thead>\n",
       "    <tr style=\"text-align: right;\">\n",
       "      <th></th>\n",
       "      <th>YEAR</th>\n",
       "      <th>TEAM</th>\n",
       "      <th>CONF</th>\n",
       "      <th>G</th>\n",
       "      <th>WINS</th>\n",
       "      <th>LOSSES</th>\n",
       "      <th>W%</th>\n",
       "      <th>ADJOE</th>\n",
       "      <th>ADJDE</th>\n",
       "      <th>EFG%</th>\n",
       "      <th>...</th>\n",
       "      <th>2P%D</th>\n",
       "      <th>3P%</th>\n",
       "      <th>3P%D</th>\n",
       "      <th>3PR</th>\n",
       "      <th>3PRD</th>\n",
       "      <th>ADJ T.</th>\n",
       "      <th>WAB</th>\n",
       "      <th>SEED</th>\n",
       "      <th>FINISH</th>\n",
       "      <th>T_WINS</th>\n",
       "    </tr>\n",
       "  </thead>\n",
       "  <tbody>\n",
       "    <tr>\n",
       "      <th>0</th>\n",
       "      <td>2008</td>\n",
       "      <td>Kansas</td>\n",
       "      <td>B12</td>\n",
       "      <td>33.0</td>\n",
       "      <td>30.0</td>\n",
       "      <td>3.0</td>\n",
       "      <td>0.909</td>\n",
       "      <td>121.0</td>\n",
       "      <td>85.6</td>\n",
       "      <td>56.3</td>\n",
       "      <td>...</td>\n",
       "      <td>40.9</td>\n",
       "      <td>39.9</td>\n",
       "      <td>34.0</td>\n",
       "      <td>29.2</td>\n",
       "      <td>38.1</td>\n",
       "      <td>69.5</td>\n",
       "      <td>9.9</td>\n",
       "      <td>1.0</td>\n",
       "      <td>CHAMPS</td>\n",
       "      <td>6.0</td>\n",
       "    </tr>\n",
       "    <tr>\n",
       "      <th>1</th>\n",
       "      <td>2008</td>\n",
       "      <td>North Carolina</td>\n",
       "      <td>ACC</td>\n",
       "      <td>34.0</td>\n",
       "      <td>32.0</td>\n",
       "      <td>2.0</td>\n",
       "      <td>0.941</td>\n",
       "      <td>120.2</td>\n",
       "      <td>91.8</td>\n",
       "      <td>52.4</td>\n",
       "      <td>...</td>\n",
       "      <td>47.0</td>\n",
       "      <td>37.8</td>\n",
       "      <td>33.2</td>\n",
       "      <td>22.2</td>\n",
       "      <td>34.8</td>\n",
       "      <td>75.1</td>\n",
       "      <td>11.9</td>\n",
       "      <td>1.0</td>\n",
       "      <td>Final Four</td>\n",
       "      <td>4.0</td>\n",
       "    </tr>\n",
       "    <tr>\n",
       "      <th>2</th>\n",
       "      <td>2008</td>\n",
       "      <td>Texas</td>\n",
       "      <td>B12</td>\n",
       "      <td>33.0</td>\n",
       "      <td>27.0</td>\n",
       "      <td>6.0</td>\n",
       "      <td>0.818</td>\n",
       "      <td>120.0</td>\n",
       "      <td>94.2</td>\n",
       "      <td>51.4</td>\n",
       "      <td>...</td>\n",
       "      <td>43.6</td>\n",
       "      <td>37.7</td>\n",
       "      <td>33.2</td>\n",
       "      <td>34.3</td>\n",
       "      <td>38.9</td>\n",
       "      <td>64.8</td>\n",
       "      <td>8.4</td>\n",
       "      <td>2.0</td>\n",
       "      <td>Elite Eight</td>\n",
       "      <td>3.0</td>\n",
       "    </tr>\n",
       "    <tr>\n",
       "      <th>3</th>\n",
       "      <td>2008</td>\n",
       "      <td>Drake</td>\n",
       "      <td>MVC</td>\n",
       "      <td>30.0</td>\n",
       "      <td>26.0</td>\n",
       "      <td>4.0</td>\n",
       "      <td>0.867</td>\n",
       "      <td>118.0</td>\n",
       "      <td>96.3</td>\n",
       "      <td>52.8</td>\n",
       "      <td>...</td>\n",
       "      <td>49.2</td>\n",
       "      <td>36.6</td>\n",
       "      <td>33.8</td>\n",
       "      <td>45.5</td>\n",
       "      <td>39.3</td>\n",
       "      <td>64.2</td>\n",
       "      <td>5.2</td>\n",
       "      <td>5.0</td>\n",
       "      <td>R64</td>\n",
       "      <td>0.0</td>\n",
       "    </tr>\n",
       "    <tr>\n",
       "      <th>4</th>\n",
       "      <td>2008</td>\n",
       "      <td>Oregon</td>\n",
       "      <td>P10</td>\n",
       "      <td>31.0</td>\n",
       "      <td>18.0</td>\n",
       "      <td>13.0</td>\n",
       "      <td>0.581</td>\n",
       "      <td>117.8</td>\n",
       "      <td>101.2</td>\n",
       "      <td>56.3</td>\n",
       "      <td>...</td>\n",
       "      <td>50.1</td>\n",
       "      <td>40.1</td>\n",
       "      <td>33.6</td>\n",
       "      <td>39.0</td>\n",
       "      <td>35.3</td>\n",
       "      <td>67.9</td>\n",
       "      <td>0.8</td>\n",
       "      <td>9.0</td>\n",
       "      <td>R64</td>\n",
       "      <td>0.0</td>\n",
       "    </tr>\n",
       "    <tr>\n",
       "      <th>...</th>\n",
       "      <td>...</td>\n",
       "      <td>...</td>\n",
       "      <td>...</td>\n",
       "      <td>...</td>\n",
       "      <td>...</td>\n",
       "      <td>...</td>\n",
       "      <td>...</td>\n",
       "      <td>...</td>\n",
       "      <td>...</td>\n",
       "      <td>...</td>\n",
       "      <td>...</td>\n",
       "      <td>...</td>\n",
       "      <td>...</td>\n",
       "      <td>...</td>\n",
       "      <td>...</td>\n",
       "      <td>...</td>\n",
       "      <td>...</td>\n",
       "      <td>...</td>\n",
       "      <td>...</td>\n",
       "      <td>...</td>\n",
       "      <td>...</td>\n",
       "    </tr>\n",
       "    <tr>\n",
       "      <th>763</th>\n",
       "      <td>2019</td>\n",
       "      <td>VCU</td>\n",
       "      <td>A10</td>\n",
       "      <td>32.0</td>\n",
       "      <td>25.0</td>\n",
       "      <td>7.0</td>\n",
       "      <td>0.781</td>\n",
       "      <td>104.0</td>\n",
       "      <td>86.9</td>\n",
       "      <td>50.6</td>\n",
       "      <td>...</td>\n",
       "      <td>43.8</td>\n",
       "      <td>30.7</td>\n",
       "      <td>27.6</td>\n",
       "      <td>41.1</td>\n",
       "      <td>33.4</td>\n",
       "      <td>70.0</td>\n",
       "      <td>1.4</td>\n",
       "      <td>8.0</td>\n",
       "      <td>R64</td>\n",
       "      <td>0.0</td>\n",
       "    </tr>\n",
       "    <tr>\n",
       "      <th>764</th>\n",
       "      <td>2019</td>\n",
       "      <td>Abilene Christian</td>\n",
       "      <td>Slnd</td>\n",
       "      <td>29.0</td>\n",
       "      <td>23.0</td>\n",
       "      <td>6.0</td>\n",
       "      <td>0.793</td>\n",
       "      <td>102.2</td>\n",
       "      <td>101.0</td>\n",
       "      <td>52.4</td>\n",
       "      <td>...</td>\n",
       "      <td>49.2</td>\n",
       "      <td>38.3</td>\n",
       "      <td>33.5</td>\n",
       "      <td>34.2</td>\n",
       "      <td>33.4</td>\n",
       "      <td>66.3</td>\n",
       "      <td>-2.5</td>\n",
       "      <td>15.0</td>\n",
       "      <td>R64</td>\n",
       "      <td>0.0</td>\n",
       "    </tr>\n",
       "    <tr>\n",
       "      <th>765</th>\n",
       "      <td>2019</td>\n",
       "      <td>Saint Louis</td>\n",
       "      <td>A10</td>\n",
       "      <td>35.0</td>\n",
       "      <td>23.0</td>\n",
       "      <td>12.0</td>\n",
       "      <td>0.657</td>\n",
       "      <td>101.1</td>\n",
       "      <td>95.4</td>\n",
       "      <td>46.8</td>\n",
       "      <td>...</td>\n",
       "      <td>46.9</td>\n",
       "      <td>30.8</td>\n",
       "      <td>31.3</td>\n",
       "      <td>32.6</td>\n",
       "      <td>38.0</td>\n",
       "      <td>67.7</td>\n",
       "      <td>-3.0</td>\n",
       "      <td>13.0</td>\n",
       "      <td>R64</td>\n",
       "      <td>0.0</td>\n",
       "    </tr>\n",
       "    <tr>\n",
       "      <th>766</th>\n",
       "      <td>2019</td>\n",
       "      <td>Old Dominion</td>\n",
       "      <td>CUSA</td>\n",
       "      <td>34.0</td>\n",
       "      <td>26.0</td>\n",
       "      <td>8.0</td>\n",
       "      <td>0.765</td>\n",
       "      <td>100.4</td>\n",
       "      <td>95.5</td>\n",
       "      <td>47.7</td>\n",
       "      <td>...</td>\n",
       "      <td>43.5</td>\n",
       "      <td>35.3</td>\n",
       "      <td>32.5</td>\n",
       "      <td>37.3</td>\n",
       "      <td>40.1</td>\n",
       "      <td>69.5</td>\n",
       "      <td>-1.6</td>\n",
       "      <td>14.0</td>\n",
       "      <td>R64</td>\n",
       "      <td>0.0</td>\n",
       "    </tr>\n",
       "    <tr>\n",
       "      <th>767</th>\n",
       "      <td>2019</td>\n",
       "      <td>Bradley</td>\n",
       "      <td>MVC</td>\n",
       "      <td>33.0</td>\n",
       "      <td>19.0</td>\n",
       "      <td>14.0</td>\n",
       "      <td>0.576</td>\n",
       "      <td>100.0</td>\n",
       "      <td>101.1</td>\n",
       "      <td>49.7</td>\n",
       "      <td>...</td>\n",
       "      <td>46.4</td>\n",
       "      <td>36.8</td>\n",
       "      <td>33.0</td>\n",
       "      <td>35.2</td>\n",
       "      <td>39.6</td>\n",
       "      <td>66.0</td>\n",
       "      <td>-7.6</td>\n",
       "      <td>15.0</td>\n",
       "      <td>R64</td>\n",
       "      <td>0.0</td>\n",
       "    </tr>\n",
       "  </tbody>\n",
       "</table>\n",
       "<p>768 rows × 28 columns</p>\n",
       "</div>"
      ],
      "text/plain": [
       "     YEAR               TEAM  CONF     G  WINS  LOSSES     W%  ADJOE  ADJDE  \\\n",
       "0    2008             Kansas   B12  33.0  30.0     3.0  0.909  121.0   85.6   \n",
       "1    2008     North Carolina   ACC  34.0  32.0     2.0  0.941  120.2   91.8   \n",
       "2    2008              Texas   B12  33.0  27.0     6.0  0.818  120.0   94.2   \n",
       "3    2008              Drake   MVC  30.0  26.0     4.0  0.867  118.0   96.3   \n",
       "4    2008             Oregon   P10  31.0  18.0    13.0  0.581  117.8  101.2   \n",
       "..    ...                ...   ...   ...   ...     ...    ...    ...    ...   \n",
       "763  2019                VCU   A10  32.0  25.0     7.0  0.781  104.0   86.9   \n",
       "764  2019  Abilene Christian  Slnd  29.0  23.0     6.0  0.793  102.2  101.0   \n",
       "765  2019        Saint Louis   A10  35.0  23.0    12.0  0.657  101.1   95.4   \n",
       "766  2019       Old Dominion  CUSA  34.0  26.0     8.0  0.765  100.4   95.5   \n",
       "767  2019            Bradley   MVC  33.0  19.0    14.0  0.576  100.0  101.1   \n",
       "\n",
       "     EFG%  ...  2P%D   3P%  3P%D   3PR  3PRD  ADJ T.   WAB  SEED       FINISH  \\\n",
       "0    56.3  ...  40.9  39.9  34.0  29.2  38.1    69.5   9.9   1.0       CHAMPS   \n",
       "1    52.4  ...  47.0  37.8  33.2  22.2  34.8    75.1  11.9   1.0   Final Four   \n",
       "2    51.4  ...  43.6  37.7  33.2  34.3  38.9    64.8   8.4   2.0  Elite Eight   \n",
       "3    52.8  ...  49.2  36.6  33.8  45.5  39.3    64.2   5.2   5.0          R64   \n",
       "4    56.3  ...  50.1  40.1  33.6  39.0  35.3    67.9   0.8   9.0          R64   \n",
       "..    ...  ...   ...   ...   ...   ...   ...     ...   ...   ...          ...   \n",
       "763  50.6  ...  43.8  30.7  27.6  41.1  33.4    70.0   1.4   8.0          R64   \n",
       "764  52.4  ...  49.2  38.3  33.5  34.2  33.4    66.3  -2.5  15.0          R64   \n",
       "765  46.8  ...  46.9  30.8  31.3  32.6  38.0    67.7  -3.0  13.0          R64   \n",
       "766  47.7  ...  43.5  35.3  32.5  37.3  40.1    69.5  -1.6  14.0          R64   \n",
       "767  49.7  ...  46.4  36.8  33.0  35.2  39.6    66.0  -7.6  15.0          R64   \n",
       "\n",
       "     T_WINS  \n",
       "0       6.0  \n",
       "1       4.0  \n",
       "2       3.0  \n",
       "3       0.0  \n",
       "4       0.0  \n",
       "..      ...  \n",
       "763     0.0  \n",
       "764     0.0  \n",
       "765     0.0  \n",
       "766     0.0  \n",
       "767     0.0  \n",
       "\n",
       "[768 rows x 28 columns]"
      ]
     },
     "execution_count": 1,
     "metadata": {},
     "output_type": "execute_result"
    }
   ],
   "source": [
    "import pandas as pd\n",
    "df1 = pd.read_csv('game_data/games.csv')\n",
    "df2 = pd.read_csv('game_data/march copy.csv')\n",
    "df2 = df2[df2['YEAR'] < 2020]\n",
    "df2"
   ]
  },
  {
   "cell_type": "code",
   "execution_count": 2,
   "metadata": {},
   "outputs": [
    {
     "data": {
      "text/html": [
       "<div>\n",
       "<style scoped>\n",
       "    .dataframe tbody tr th:only-of-type {\n",
       "        vertical-align: middle;\n",
       "    }\n",
       "\n",
       "    .dataframe tbody tr th {\n",
       "        vertical-align: top;\n",
       "    }\n",
       "\n",
       "    .dataframe thead th {\n",
       "        text-align: right;\n",
       "    }\n",
       "</style>\n",
       "<table border=\"1\" class=\"dataframe\">\n",
       "  <thead>\n",
       "    <tr style=\"text-align: right;\">\n",
       "      <th></th>\n",
       "      <th>YEAR</th>\n",
       "      <th>TEAM</th>\n",
       "      <th>CONF</th>\n",
       "      <th>G</th>\n",
       "      <th>WINS</th>\n",
       "      <th>LOSSES</th>\n",
       "      <th>W%</th>\n",
       "      <th>ADJOE</th>\n",
       "      <th>ADJDE</th>\n",
       "      <th>EFG%</th>\n",
       "      <th>...</th>\n",
       "      <th>3P%D</th>\n",
       "      <th>3PR</th>\n",
       "      <th>3PRD</th>\n",
       "      <th>ADJ T.</th>\n",
       "      <th>WAB</th>\n",
       "      <th>SEED</th>\n",
       "      <th>FINISH</th>\n",
       "      <th>T_WINS</th>\n",
       "      <th>Corrected_Expected_Wins</th>\n",
       "      <th>Cinderella</th>\n",
       "    </tr>\n",
       "  </thead>\n",
       "  <tbody>\n",
       "    <tr>\n",
       "      <th>738</th>\n",
       "      <td>2019</td>\n",
       "      <td>Murray St.</td>\n",
       "      <td>OVC</td>\n",
       "      <td>29.0</td>\n",
       "      <td>25.0</td>\n",
       "      <td>4.0</td>\n",
       "      <td>0.862</td>\n",
       "      <td>110.5</td>\n",
       "      <td>98.5</td>\n",
       "      <td>55.2</td>\n",
       "      <td>...</td>\n",
       "      <td>28.5</td>\n",
       "      <td>36.9</td>\n",
       "      <td>35.4</td>\n",
       "      <td>69.8</td>\n",
       "      <td>1.3</td>\n",
       "      <td>12.0</td>\n",
       "      <td>R32</td>\n",
       "      <td>1.0</td>\n",
       "      <td>0</td>\n",
       "      <td>1.0</td>\n",
       "    </tr>\n",
       "    <tr>\n",
       "      <th>750</th>\n",
       "      <td>2019</td>\n",
       "      <td>Ohio St.</td>\n",
       "      <td>B10</td>\n",
       "      <td>33.0</td>\n",
       "      <td>19.0</td>\n",
       "      <td>14.0</td>\n",
       "      <td>0.576</td>\n",
       "      <td>108.3</td>\n",
       "      <td>94.1</td>\n",
       "      <td>50.5</td>\n",
       "      <td>...</td>\n",
       "      <td>33.0</td>\n",
       "      <td>39.7</td>\n",
       "      <td>37.4</td>\n",
       "      <td>67.0</td>\n",
       "      <td>0.9</td>\n",
       "      <td>11.0</td>\n",
       "      <td>R32</td>\n",
       "      <td>1.0</td>\n",
       "      <td>0</td>\n",
       "      <td>1.0</td>\n",
       "    </tr>\n",
       "    <tr>\n",
       "      <th>722</th>\n",
       "      <td>2019</td>\n",
       "      <td>Houston</td>\n",
       "      <td>Amer</td>\n",
       "      <td>34.0</td>\n",
       "      <td>31.0</td>\n",
       "      <td>3.0</td>\n",
       "      <td>0.912</td>\n",
       "      <td>114.1</td>\n",
       "      <td>90.9</td>\n",
       "      <td>52.1</td>\n",
       "      <td>...</td>\n",
       "      <td>27.6</td>\n",
       "      <td>42.9</td>\n",
       "      <td>41.1</td>\n",
       "      <td>67.0</td>\n",
       "      <td>7.9</td>\n",
       "      <td>3.0</td>\n",
       "      <td>Sweet Sixteen</td>\n",
       "      <td>2.0</td>\n",
       "      <td>2</td>\n",
       "      <td>0.0</td>\n",
       "    </tr>\n",
       "    <tr>\n",
       "      <th>721</th>\n",
       "      <td>2019</td>\n",
       "      <td>Saint Mary's</td>\n",
       "      <td>WCC</td>\n",
       "      <td>33.0</td>\n",
       "      <td>22.0</td>\n",
       "      <td>11.0</td>\n",
       "      <td>0.667</td>\n",
       "      <td>114.2</td>\n",
       "      <td>97.3</td>\n",
       "      <td>54.0</td>\n",
       "      <td>...</td>\n",
       "      <td>31.8</td>\n",
       "      <td>35.0</td>\n",
       "      <td>31.4</td>\n",
       "      <td>63.8</td>\n",
       "      <td>-0.6</td>\n",
       "      <td>11.0</td>\n",
       "      <td>R64</td>\n",
       "      <td>0.0</td>\n",
       "      <td>0</td>\n",
       "      <td>0.0</td>\n",
       "    </tr>\n",
       "    <tr>\n",
       "      <th>720</th>\n",
       "      <td>2019</td>\n",
       "      <td>Villanova</td>\n",
       "      <td>BE</td>\n",
       "      <td>34.0</td>\n",
       "      <td>25.0</td>\n",
       "      <td>9.0</td>\n",
       "      <td>0.735</td>\n",
       "      <td>115.1</td>\n",
       "      <td>98.7</td>\n",
       "      <td>53.4</td>\n",
       "      <td>...</td>\n",
       "      <td>33.5</td>\n",
       "      <td>53.5</td>\n",
       "      <td>39.3</td>\n",
       "      <td>64.8</td>\n",
       "      <td>3.7</td>\n",
       "      <td>6.0</td>\n",
       "      <td>R32</td>\n",
       "      <td>1.0</td>\n",
       "      <td>1</td>\n",
       "      <td>0.0</td>\n",
       "    </tr>\n",
       "    <tr>\n",
       "      <th>...</th>\n",
       "      <td>...</td>\n",
       "      <td>...</td>\n",
       "      <td>...</td>\n",
       "      <td>...</td>\n",
       "      <td>...</td>\n",
       "      <td>...</td>\n",
       "      <td>...</td>\n",
       "      <td>...</td>\n",
       "      <td>...</td>\n",
       "      <td>...</td>\n",
       "      <td>...</td>\n",
       "      <td>...</td>\n",
       "      <td>...</td>\n",
       "      <td>...</td>\n",
       "      <td>...</td>\n",
       "      <td>...</td>\n",
       "      <td>...</td>\n",
       "      <td>...</td>\n",
       "      <td>...</td>\n",
       "      <td>...</td>\n",
       "      <td>...</td>\n",
       "    </tr>\n",
       "    <tr>\n",
       "      <th>44</th>\n",
       "      <td>2008</td>\n",
       "      <td>Oklahoma</td>\n",
       "      <td>B12</td>\n",
       "      <td>33.0</td>\n",
       "      <td>22.0</td>\n",
       "      <td>11.0</td>\n",
       "      <td>0.667</td>\n",
       "      <td>108.0</td>\n",
       "      <td>92.3</td>\n",
       "      <td>50.1</td>\n",
       "      <td>...</td>\n",
       "      <td>31.9</td>\n",
       "      <td>33.5</td>\n",
       "      <td>35.0</td>\n",
       "      <td>65.4</td>\n",
       "      <td>2.8</td>\n",
       "      <td>6.0</td>\n",
       "      <td>R32</td>\n",
       "      <td>1.0</td>\n",
       "      <td>1</td>\n",
       "      <td>0.0</td>\n",
       "    </tr>\n",
       "    <tr>\n",
       "      <th>41</th>\n",
       "      <td>2008</td>\n",
       "      <td>Saint Mary's</td>\n",
       "      <td>WCC</td>\n",
       "      <td>30.0</td>\n",
       "      <td>24.0</td>\n",
       "      <td>6.0</td>\n",
       "      <td>0.800</td>\n",
       "      <td>108.2</td>\n",
       "      <td>92.7</td>\n",
       "      <td>52.7</td>\n",
       "      <td>...</td>\n",
       "      <td>31.0</td>\n",
       "      <td>37.9</td>\n",
       "      <td>26.1</td>\n",
       "      <td>68.2</td>\n",
       "      <td>1.2</td>\n",
       "      <td>10.0</td>\n",
       "      <td>R64</td>\n",
       "      <td>0.0</td>\n",
       "      <td>0</td>\n",
       "      <td>0.0</td>\n",
       "    </tr>\n",
       "    <tr>\n",
       "      <th>40</th>\n",
       "      <td>2008</td>\n",
       "      <td>UNLV</td>\n",
       "      <td>MWC</td>\n",
       "      <td>32.0</td>\n",
       "      <td>25.0</td>\n",
       "      <td>7.0</td>\n",
       "      <td>0.781</td>\n",
       "      <td>108.2</td>\n",
       "      <td>93.9</td>\n",
       "      <td>48.8</td>\n",
       "      <td>...</td>\n",
       "      <td>29.9</td>\n",
       "      <td>39.8</td>\n",
       "      <td>37.2</td>\n",
       "      <td>66.1</td>\n",
       "      <td>2.2</td>\n",
       "      <td>8.0</td>\n",
       "      <td>R32</td>\n",
       "      <td>1.0</td>\n",
       "      <td>1</td>\n",
       "      <td>0.0</td>\n",
       "    </tr>\n",
       "    <tr>\n",
       "      <th>38</th>\n",
       "      <td>2008</td>\n",
       "      <td>Purdue</td>\n",
       "      <td>B10</td>\n",
       "      <td>32.0</td>\n",
       "      <td>24.0</td>\n",
       "      <td>8.0</td>\n",
       "      <td>0.750</td>\n",
       "      <td>108.7</td>\n",
       "      <td>90.2</td>\n",
       "      <td>49.0</td>\n",
       "      <td>...</td>\n",
       "      <td>35.0</td>\n",
       "      <td>36.1</td>\n",
       "      <td>31.4</td>\n",
       "      <td>68.2</td>\n",
       "      <td>3.8</td>\n",
       "      <td>6.0</td>\n",
       "      <td>R32</td>\n",
       "      <td>1.0</td>\n",
       "      <td>1</td>\n",
       "      <td>0.0</td>\n",
       "    </tr>\n",
       "    <tr>\n",
       "      <th>49</th>\n",
       "      <td>2008</td>\n",
       "      <td>Mississippi St.</td>\n",
       "      <td>SEC</td>\n",
       "      <td>32.0</td>\n",
       "      <td>22.0</td>\n",
       "      <td>10.0</td>\n",
       "      <td>0.688</td>\n",
       "      <td>106.3</td>\n",
       "      <td>90.5</td>\n",
       "      <td>52.3</td>\n",
       "      <td>...</td>\n",
       "      <td>32.0</td>\n",
       "      <td>36.8</td>\n",
       "      <td>34.7</td>\n",
       "      <td>68.6</td>\n",
       "      <td>0.6</td>\n",
       "      <td>8.0</td>\n",
       "      <td>R32</td>\n",
       "      <td>1.0</td>\n",
       "      <td>1</td>\n",
       "      <td>0.0</td>\n",
       "    </tr>\n",
       "  </tbody>\n",
       "</table>\n",
       "<p>620 rows × 30 columns</p>\n",
       "</div>"
      ],
      "text/plain": [
       "     YEAR             TEAM  CONF     G  WINS  LOSSES     W%  ADJOE  ADJDE  \\\n",
       "738  2019       Murray St.   OVC  29.0  25.0     4.0  0.862  110.5   98.5   \n",
       "750  2019         Ohio St.   B10  33.0  19.0    14.0  0.576  108.3   94.1   \n",
       "722  2019          Houston  Amer  34.0  31.0     3.0  0.912  114.1   90.9   \n",
       "721  2019     Saint Mary's   WCC  33.0  22.0    11.0  0.667  114.2   97.3   \n",
       "720  2019        Villanova    BE  34.0  25.0     9.0  0.735  115.1   98.7   \n",
       "..    ...              ...   ...   ...   ...     ...    ...    ...    ...   \n",
       "44   2008         Oklahoma   B12  33.0  22.0    11.0  0.667  108.0   92.3   \n",
       "41   2008     Saint Mary's   WCC  30.0  24.0     6.0  0.800  108.2   92.7   \n",
       "40   2008             UNLV   MWC  32.0  25.0     7.0  0.781  108.2   93.9   \n",
       "38   2008           Purdue   B10  32.0  24.0     8.0  0.750  108.7   90.2   \n",
       "49   2008  Mississippi St.   SEC  32.0  22.0    10.0  0.688  106.3   90.5   \n",
       "\n",
       "     EFG%  ...  3P%D   3PR  3PRD  ADJ T.  WAB  SEED         FINISH  T_WINS  \\\n",
       "738  55.2  ...  28.5  36.9  35.4    69.8  1.3  12.0            R32     1.0   \n",
       "750  50.5  ...  33.0  39.7  37.4    67.0  0.9  11.0            R32     1.0   \n",
       "722  52.1  ...  27.6  42.9  41.1    67.0  7.9   3.0  Sweet Sixteen     2.0   \n",
       "721  54.0  ...  31.8  35.0  31.4    63.8 -0.6  11.0            R64     0.0   \n",
       "720  53.4  ...  33.5  53.5  39.3    64.8  3.7   6.0            R32     1.0   \n",
       "..    ...  ...   ...   ...   ...     ...  ...   ...            ...     ...   \n",
       "44   50.1  ...  31.9  33.5  35.0    65.4  2.8   6.0            R32     1.0   \n",
       "41   52.7  ...  31.0  37.9  26.1    68.2  1.2  10.0            R64     0.0   \n",
       "40   48.8  ...  29.9  39.8  37.2    66.1  2.2   8.0            R32     1.0   \n",
       "38   49.0  ...  35.0  36.1  31.4    68.2  3.8   6.0            R32     1.0   \n",
       "49   52.3  ...  32.0  36.8  34.7    68.6  0.6   8.0            R32     1.0   \n",
       "\n",
       "     Corrected_Expected_Wins  Cinderella  \n",
       "738                        0         1.0  \n",
       "750                        0         1.0  \n",
       "722                        2         0.0  \n",
       "721                        0         0.0  \n",
       "720                        1         0.0  \n",
       "..                       ...         ...  \n",
       "44                         1         0.0  \n",
       "41                         0         0.0  \n",
       "40                         1         0.0  \n",
       "38                         1         0.0  \n",
       "49                         1         0.0  \n",
       "\n",
       "[620 rows x 30 columns]"
      ]
     },
     "execution_count": 2,
     "metadata": {},
     "output_type": "execute_result"
    }
   ],
   "source": [
    "def corrected_expected_wins(seed):\n",
    "    if 9 <= seed <= 16:\n",
    "        return 0\n",
    "    elif 5 <= seed <= 8:\n",
    "        return 1\n",
    "    elif 3 <= seed <= 4:\n",
    "        return 2\n",
    "    elif seed == 2:\n",
    "        return 4\n",
    "    elif seed == 1:\n",
    "        return 5\n",
    "    else:\n",
    "        return 0  # Default case for any unexpected seed values\n",
    "\n",
    "# Apply the updated function to calculate the correct expected wins\n",
    "df2['Corrected_Expected_Wins'] = df2['SEED'].apply(corrected_expected_wins)\n",
    "\n",
    "# Recalculate Cinderella score based on the corrected expected wins\n",
    "df2['Cinderella'] = df2['T_WINS'] - df2['Corrected_Expected_Wins']\n",
    "df2.to_csv('cinderella.csv')\n",
    "df2 = df2.sort_values(by='Cinderella', ascending=False)\n",
    "df_cinderella = df2[(df2['Cinderella'] > 1) & (df2['SEED'] > 2) & (df2['YEAR'] < 2021)]\n",
    "df_not_cinderella = df2[(df2['Cinderella'] <= 1) & (df2['SEED'] > 2) & (df2['YEAR'] < 2021)]\n",
    "df_cinderella.sort_values(by='Cinderella', ascending=False)\n",
    "df_not_cinderella.sort_values(by='YEAR', ascending=False)\n",
    "\n"
   ]
  },
  {
   "cell_type": "code",
   "execution_count": 3,
   "metadata": {},
   "outputs": [
    {
     "data": {
      "application/vnd.plotly.v1+json": {
       "config": {
        "plotlyServerURL": "https://plot.ly"
       },
       "data": [
        {
         "cells": {
          "align": "left",
          "fill": {
           "color": "lavender"
          },
          "values": [
           [
            2014,
            2010,
            2011,
            2011,
            2011,
            2013,
            2014,
            2018,
            2016,
            2017,
            2019,
            2018,
            2018,
            2018,
            2008,
            2017,
            2015,
            2010,
            2014,
            2013,
            2019
           ],
           [
            "Connecticut",
            "Butler",
            "Connecticut",
            "Butler",
            "VCU",
            "Wichita St.",
            "Kentucky",
            "Loyola Chicago",
            "Syracuse",
            "South Carolina",
            "Auburn",
            "Kansas St.",
            "Michigan",
            "Florida St.",
            "Davidson",
            "Xavier",
            "Michigan St.",
            "Michigan St.",
            "Dayton",
            "Michigan",
            "Texas Tech"
           ],
           [
            5,
            4,
            4,
            4,
            4,
            4,
            4,
            4,
            4,
            3,
            3,
            3,
            3,
            3,
            3,
            3,
            3,
            3,
            3,
            3,
            3
           ],
           [
            7,
            5,
            3,
            8,
            11,
            9,
            8,
            11,
            10,
            7,
            5,
            9,
            3,
            9,
            10,
            11,
            7,
            5,
            11,
            4,
            3
           ],
           [
            "CHAMPS",
            "Finals",
            "CHAMPS",
            "Finals",
            "Final Four",
            "Final Four",
            "Finals",
            "Final Four",
            "Final Four",
            "Final Four",
            "Final Four",
            "Elite Eight",
            "Finals",
            "Elite Eight",
            "Elite Eight",
            "Elite Eight",
            "Final Four",
            "Final Four",
            "Elite Eight",
            "Finals",
            "Finals"
           ]
          ]
         },
         "header": {
          "align": "left",
          "fill": {
           "color": "paleturquoise"
          },
          "values": [
           "Year",
           "Team",
           "Cinderella Rating",
           "Seed",
           "Finish"
          ]
         },
         "type": "table"
        }
       ],
       "layout": {
        "height": 1400,
        "template": {
         "data": {
          "bar": [
           {
            "error_x": {
             "color": "#2a3f5f"
            },
            "error_y": {
             "color": "#2a3f5f"
            },
            "marker": {
             "line": {
              "color": "#E5ECF6",
              "width": 0.5
             },
             "pattern": {
              "fillmode": "overlay",
              "size": 10,
              "solidity": 0.2
             }
            },
            "type": "bar"
           }
          ],
          "barpolar": [
           {
            "marker": {
             "line": {
              "color": "#E5ECF6",
              "width": 0.5
             },
             "pattern": {
              "fillmode": "overlay",
              "size": 10,
              "solidity": 0.2
             }
            },
            "type": "barpolar"
           }
          ],
          "carpet": [
           {
            "aaxis": {
             "endlinecolor": "#2a3f5f",
             "gridcolor": "white",
             "linecolor": "white",
             "minorgridcolor": "white",
             "startlinecolor": "#2a3f5f"
            },
            "baxis": {
             "endlinecolor": "#2a3f5f",
             "gridcolor": "white",
             "linecolor": "white",
             "minorgridcolor": "white",
             "startlinecolor": "#2a3f5f"
            },
            "type": "carpet"
           }
          ],
          "choropleth": [
           {
            "colorbar": {
             "outlinewidth": 0,
             "ticks": ""
            },
            "type": "choropleth"
           }
          ],
          "contour": [
           {
            "colorbar": {
             "outlinewidth": 0,
             "ticks": ""
            },
            "colorscale": [
             [
              0,
              "#0d0887"
             ],
             [
              0.1111111111111111,
              "#46039f"
             ],
             [
              0.2222222222222222,
              "#7201a8"
             ],
             [
              0.3333333333333333,
              "#9c179e"
             ],
             [
              0.4444444444444444,
              "#bd3786"
             ],
             [
              0.5555555555555556,
              "#d8576b"
             ],
             [
              0.6666666666666666,
              "#ed7953"
             ],
             [
              0.7777777777777778,
              "#fb9f3a"
             ],
             [
              0.8888888888888888,
              "#fdca26"
             ],
             [
              1,
              "#f0f921"
             ]
            ],
            "type": "contour"
           }
          ],
          "contourcarpet": [
           {
            "colorbar": {
             "outlinewidth": 0,
             "ticks": ""
            },
            "type": "contourcarpet"
           }
          ],
          "heatmap": [
           {
            "colorbar": {
             "outlinewidth": 0,
             "ticks": ""
            },
            "colorscale": [
             [
              0,
              "#0d0887"
             ],
             [
              0.1111111111111111,
              "#46039f"
             ],
             [
              0.2222222222222222,
              "#7201a8"
             ],
             [
              0.3333333333333333,
              "#9c179e"
             ],
             [
              0.4444444444444444,
              "#bd3786"
             ],
             [
              0.5555555555555556,
              "#d8576b"
             ],
             [
              0.6666666666666666,
              "#ed7953"
             ],
             [
              0.7777777777777778,
              "#fb9f3a"
             ],
             [
              0.8888888888888888,
              "#fdca26"
             ],
             [
              1,
              "#f0f921"
             ]
            ],
            "type": "heatmap"
           }
          ],
          "heatmapgl": [
           {
            "colorbar": {
             "outlinewidth": 0,
             "ticks": ""
            },
            "colorscale": [
             [
              0,
              "#0d0887"
             ],
             [
              0.1111111111111111,
              "#46039f"
             ],
             [
              0.2222222222222222,
              "#7201a8"
             ],
             [
              0.3333333333333333,
              "#9c179e"
             ],
             [
              0.4444444444444444,
              "#bd3786"
             ],
             [
              0.5555555555555556,
              "#d8576b"
             ],
             [
              0.6666666666666666,
              "#ed7953"
             ],
             [
              0.7777777777777778,
              "#fb9f3a"
             ],
             [
              0.8888888888888888,
              "#fdca26"
             ],
             [
              1,
              "#f0f921"
             ]
            ],
            "type": "heatmapgl"
           }
          ],
          "histogram": [
           {
            "marker": {
             "pattern": {
              "fillmode": "overlay",
              "size": 10,
              "solidity": 0.2
             }
            },
            "type": "histogram"
           }
          ],
          "histogram2d": [
           {
            "colorbar": {
             "outlinewidth": 0,
             "ticks": ""
            },
            "colorscale": [
             [
              0,
              "#0d0887"
             ],
             [
              0.1111111111111111,
              "#46039f"
             ],
             [
              0.2222222222222222,
              "#7201a8"
             ],
             [
              0.3333333333333333,
              "#9c179e"
             ],
             [
              0.4444444444444444,
              "#bd3786"
             ],
             [
              0.5555555555555556,
              "#d8576b"
             ],
             [
              0.6666666666666666,
              "#ed7953"
             ],
             [
              0.7777777777777778,
              "#fb9f3a"
             ],
             [
              0.8888888888888888,
              "#fdca26"
             ],
             [
              1,
              "#f0f921"
             ]
            ],
            "type": "histogram2d"
           }
          ],
          "histogram2dcontour": [
           {
            "colorbar": {
             "outlinewidth": 0,
             "ticks": ""
            },
            "colorscale": [
             [
              0,
              "#0d0887"
             ],
             [
              0.1111111111111111,
              "#46039f"
             ],
             [
              0.2222222222222222,
              "#7201a8"
             ],
             [
              0.3333333333333333,
              "#9c179e"
             ],
             [
              0.4444444444444444,
              "#bd3786"
             ],
             [
              0.5555555555555556,
              "#d8576b"
             ],
             [
              0.6666666666666666,
              "#ed7953"
             ],
             [
              0.7777777777777778,
              "#fb9f3a"
             ],
             [
              0.8888888888888888,
              "#fdca26"
             ],
             [
              1,
              "#f0f921"
             ]
            ],
            "type": "histogram2dcontour"
           }
          ],
          "mesh3d": [
           {
            "colorbar": {
             "outlinewidth": 0,
             "ticks": ""
            },
            "type": "mesh3d"
           }
          ],
          "parcoords": [
           {
            "line": {
             "colorbar": {
              "outlinewidth": 0,
              "ticks": ""
             }
            },
            "type": "parcoords"
           }
          ],
          "pie": [
           {
            "automargin": true,
            "type": "pie"
           }
          ],
          "scatter": [
           {
            "fillpattern": {
             "fillmode": "overlay",
             "size": 10,
             "solidity": 0.2
            },
            "type": "scatter"
           }
          ],
          "scatter3d": [
           {
            "line": {
             "colorbar": {
              "outlinewidth": 0,
              "ticks": ""
             }
            },
            "marker": {
             "colorbar": {
              "outlinewidth": 0,
              "ticks": ""
             }
            },
            "type": "scatter3d"
           }
          ],
          "scattercarpet": [
           {
            "marker": {
             "colorbar": {
              "outlinewidth": 0,
              "ticks": ""
             }
            },
            "type": "scattercarpet"
           }
          ],
          "scattergeo": [
           {
            "marker": {
             "colorbar": {
              "outlinewidth": 0,
              "ticks": ""
             }
            },
            "type": "scattergeo"
           }
          ],
          "scattergl": [
           {
            "marker": {
             "colorbar": {
              "outlinewidth": 0,
              "ticks": ""
             }
            },
            "type": "scattergl"
           }
          ],
          "scattermapbox": [
           {
            "marker": {
             "colorbar": {
              "outlinewidth": 0,
              "ticks": ""
             }
            },
            "type": "scattermapbox"
           }
          ],
          "scatterpolar": [
           {
            "marker": {
             "colorbar": {
              "outlinewidth": 0,
              "ticks": ""
             }
            },
            "type": "scatterpolar"
           }
          ],
          "scatterpolargl": [
           {
            "marker": {
             "colorbar": {
              "outlinewidth": 0,
              "ticks": ""
             }
            },
            "type": "scatterpolargl"
           }
          ],
          "scatterternary": [
           {
            "marker": {
             "colorbar": {
              "outlinewidth": 0,
              "ticks": ""
             }
            },
            "type": "scatterternary"
           }
          ],
          "surface": [
           {
            "colorbar": {
             "outlinewidth": 0,
             "ticks": ""
            },
            "colorscale": [
             [
              0,
              "#0d0887"
             ],
             [
              0.1111111111111111,
              "#46039f"
             ],
             [
              0.2222222222222222,
              "#7201a8"
             ],
             [
              0.3333333333333333,
              "#9c179e"
             ],
             [
              0.4444444444444444,
              "#bd3786"
             ],
             [
              0.5555555555555556,
              "#d8576b"
             ],
             [
              0.6666666666666666,
              "#ed7953"
             ],
             [
              0.7777777777777778,
              "#fb9f3a"
             ],
             [
              0.8888888888888888,
              "#fdca26"
             ],
             [
              1,
              "#f0f921"
             ]
            ],
            "type": "surface"
           }
          ],
          "table": [
           {
            "cells": {
             "fill": {
              "color": "#EBF0F8"
             },
             "line": {
              "color": "white"
             }
            },
            "header": {
             "fill": {
              "color": "#C8D4E3"
             },
             "line": {
              "color": "white"
             }
            },
            "type": "table"
           }
          ]
         },
         "layout": {
          "annotationdefaults": {
           "arrowcolor": "#2a3f5f",
           "arrowhead": 0,
           "arrowwidth": 1
          },
          "autotypenumbers": "strict",
          "coloraxis": {
           "colorbar": {
            "outlinewidth": 0,
            "ticks": ""
           }
          },
          "colorscale": {
           "diverging": [
            [
             0,
             "#8e0152"
            ],
            [
             0.1,
             "#c51b7d"
            ],
            [
             0.2,
             "#de77ae"
            ],
            [
             0.3,
             "#f1b6da"
            ],
            [
             0.4,
             "#fde0ef"
            ],
            [
             0.5,
             "#f7f7f7"
            ],
            [
             0.6,
             "#e6f5d0"
            ],
            [
             0.7,
             "#b8e186"
            ],
            [
             0.8,
             "#7fbc41"
            ],
            [
             0.9,
             "#4d9221"
            ],
            [
             1,
             "#276419"
            ]
           ],
           "sequential": [
            [
             0,
             "#0d0887"
            ],
            [
             0.1111111111111111,
             "#46039f"
            ],
            [
             0.2222222222222222,
             "#7201a8"
            ],
            [
             0.3333333333333333,
             "#9c179e"
            ],
            [
             0.4444444444444444,
             "#bd3786"
            ],
            [
             0.5555555555555556,
             "#d8576b"
            ],
            [
             0.6666666666666666,
             "#ed7953"
            ],
            [
             0.7777777777777778,
             "#fb9f3a"
            ],
            [
             0.8888888888888888,
             "#fdca26"
            ],
            [
             1,
             "#f0f921"
            ]
           ],
           "sequentialminus": [
            [
             0,
             "#0d0887"
            ],
            [
             0.1111111111111111,
             "#46039f"
            ],
            [
             0.2222222222222222,
             "#7201a8"
            ],
            [
             0.3333333333333333,
             "#9c179e"
            ],
            [
             0.4444444444444444,
             "#bd3786"
            ],
            [
             0.5555555555555556,
             "#d8576b"
            ],
            [
             0.6666666666666666,
             "#ed7953"
            ],
            [
             0.7777777777777778,
             "#fb9f3a"
            ],
            [
             0.8888888888888888,
             "#fdca26"
            ],
            [
             1,
             "#f0f921"
            ]
           ]
          },
          "colorway": [
           "#636efa",
           "#EF553B",
           "#00cc96",
           "#ab63fa",
           "#FFA15A",
           "#19d3f3",
           "#FF6692",
           "#B6E880",
           "#FF97FF",
           "#FECB52"
          ],
          "font": {
           "color": "#2a3f5f"
          },
          "geo": {
           "bgcolor": "white",
           "lakecolor": "white",
           "landcolor": "#E5ECF6",
           "showlakes": true,
           "showland": true,
           "subunitcolor": "white"
          },
          "hoverlabel": {
           "align": "left"
          },
          "hovermode": "closest",
          "mapbox": {
           "style": "light"
          },
          "paper_bgcolor": "white",
          "plot_bgcolor": "#E5ECF6",
          "polar": {
           "angularaxis": {
            "gridcolor": "white",
            "linecolor": "white",
            "ticks": ""
           },
           "bgcolor": "#E5ECF6",
           "radialaxis": {
            "gridcolor": "white",
            "linecolor": "white",
            "ticks": ""
           }
          },
          "scene": {
           "xaxis": {
            "backgroundcolor": "#E5ECF6",
            "gridcolor": "white",
            "gridwidth": 2,
            "linecolor": "white",
            "showbackground": true,
            "ticks": "",
            "zerolinecolor": "white"
           },
           "yaxis": {
            "backgroundcolor": "#E5ECF6",
            "gridcolor": "white",
            "gridwidth": 2,
            "linecolor": "white",
            "showbackground": true,
            "ticks": "",
            "zerolinecolor": "white"
           },
           "zaxis": {
            "backgroundcolor": "#E5ECF6",
            "gridcolor": "white",
            "gridwidth": 2,
            "linecolor": "white",
            "showbackground": true,
            "ticks": "",
            "zerolinecolor": "white"
           }
          },
          "shapedefaults": {
           "line": {
            "color": "#2a3f5f"
           }
          },
          "ternary": {
           "aaxis": {
            "gridcolor": "white",
            "linecolor": "white",
            "ticks": ""
           },
           "baxis": {
            "gridcolor": "white",
            "linecolor": "white",
            "ticks": ""
           },
           "bgcolor": "#E5ECF6",
           "caxis": {
            "gridcolor": "white",
            "linecolor": "white",
            "ticks": ""
           }
          },
          "title": {
           "x": 0.05
          },
          "xaxis": {
           "automargin": true,
           "gridcolor": "white",
           "linecolor": "white",
           "ticks": "",
           "title": {
            "standoff": 15
           },
           "zerolinecolor": "white",
           "zerolinewidth": 2
          },
          "yaxis": {
           "automargin": true,
           "gridcolor": "white",
           "linecolor": "white",
           "ticks": "",
           "title": {
            "standoff": 15
           },
           "zerolinecolor": "white",
           "zerolinewidth": 2
          }
         }
        },
        "title": {
         "text": "Table of Teams with Cinderella Ratings of 3 and Higher (2008-2019)",
         "x": 0.5,
         "xanchor": "center",
         "y": 0.95,
         "yanchor": "top"
        },
        "width": 950
       }
      }
     },
     "metadata": {},
     "output_type": "display_data"
    }
   ],
   "source": [
    "import pandas as pd\n",
    "import plotly.express as px\n",
    "import plotly.graph_objects as go  # Correct import for creating table and other non-express figures\n",
    "\n",
    "data = pd.read_csv('game_data/cinderella.csv')\n",
    "\n",
    "# Filter the data for Cinderella ratings of 2 or higher\n",
    "filtered_data = data[data['Cinderella'] >= 3]\n",
    "\n",
    "# Sort the filtered data by Cinderella rating in descending order for better visibility\n",
    "filtered_data = filtered_data.sort_values(by='Cinderella', ascending=False)\n",
    "\n",
    "# Create an interactive table using Plotly graph_objects\n",
    "fig = go.Figure(data=[go.Table(\n",
    "    header=dict(values=['Year', 'Team', 'Cinderella Rating', 'Seed', 'Finish'],\n",
    "                fill_color='paleturquoise',\n",
    "                align='left'),\n",
    "    cells=dict(values=[filtered_data.YEAR, filtered_data.TEAM, filtered_data.Cinderella,\n",
    "                       filtered_data.SEED, filtered_data.FINISH],\n",
    "               fill_color='lavender',\n",
    "               align='left'))\n",
    "])\n",
    "\n",
    "# Update layout for better visibility\n",
    "fig.update_layout(\n",
    "    width=950, \n",
    "    height=1400, \n",
    "    title={\n",
    "        'text': \"Table of Teams with Cinderella Ratings of 3 and Higher (2008-2019)\",\n",
    "        'y':0.95,\n",
    "        'x':0.5,\n",
    "        'xanchor': 'center',\n",
    "        'yanchor': 'top'\n",
    "    }\n",
    ")\n",
    "\n",
    "# Show the plot\n",
    "fig.show()\n"
   ]
  },
  {
   "cell_type": "markdown",
   "metadata": {},
   "source": [
    "\n",
    "In the provided table, the distribution of college basketball teams with a Cinderella rating above two is displayed, offering a snapshot of underdog performances in NCAA tournaments. Each row represents a team, sorted by its Cinderella rating, which gauges the unexpectedness of a team's tournament run relative to their perceived pre-tournament strength. Alongside the ratings, we see the tournament seed, which indicates the team's initial ranking, and the team's final finish in the tournament. The \"Year\" and \"Team\" columns provide context to the performance, while the Cinderella rating serves as a numerical value of the surprise factor. "
   ]
  },
  {
   "cell_type": "code",
   "execution_count": 4,
   "metadata": {},
   "outputs": [],
   "source": [
    "\n",
    "df2['Adjusted_Cinderella'] = df2['Cinderella'].apply(lambda x: max(x, 0))\n",
    "\n",
    "# Find unique Cinderella scores from the adjusted column\n",
    "unique_cinderella_scores = df2['Adjusted_Cinderella'].unique()\n",
    "\n",
    "# Dictionary to hold dataframes for each unique adjusted Cinderella score\n",
    "cinderella_dfs = {}\n",
    "\n",
    "for score in unique_cinderella_scores:\n",
    "    # Filter df2 for each unique score and create a separate dataframe\n",
    "    cinderella_dfs[score] = df2[df2['Adjusted_Cinderella'] == score]\n",
    "\n",
    "# Now cinderella_dfs[score] will give you the dataframe for each unique adjusted Cinderella score\n"
   ]
  },
  {
   "cell_type": "code",
   "execution_count": 5,
   "metadata": {},
   "outputs": [
    {
     "data": {
      "image/png": "[encoded data removed]",
      "text/plain": [
       "<Figure size 1000x600 with 1 Axes>"
      ]
     },
     "metadata": {},
     "output_type": "display_data"
    }
   ],
   "source": [
    "import matplotlib.pyplot as plt\n",
    "\n",
    "plt.figure(figsize=(10, 6))\n",
    "plt.hist(df2['Adjusted_Cinderella'], bins=30, color='skyblue', edgecolor='black')\n",
    "plt.title('Histogram of Cinderella Ratings from 2008-2018')\n",
    "plt.xlabel('Cinderella Rating')\n",
    "plt.ylabel('Frequency')\n",
    "plt.grid(True)\n",
    "plt.show()\n"
   ]
  },
  {
   "cell_type": "code",
   "execution_count": 6,
   "metadata": {},
   "outputs": [],
   "source": [
    "df2['Adjusted_Cinderella'].to_csv('march_cinderella.csv', index=False)"
   ]
  },
  {
   "cell_type": "code",
   "execution_count": 7,
   "metadata": {},
   "outputs": [
    {
     "data": {
      "text/html": [
       "<div>\n",
       "<style scoped>\n",
       "    .dataframe tbody tr th:only-of-type {\n",
       "        vertical-align: middle;\n",
       "    }\n",
       "\n",
       "    .dataframe tbody tr th {\n",
       "        vertical-align: top;\n",
       "    }\n",
       "\n",
       "    .dataframe thead th {\n",
       "        text-align: right;\n",
       "    }\n",
       "</style>\n",
       "<table border=\"1\" class=\"dataframe\">\n",
       "  <thead>\n",
       "    <tr style=\"text-align: right;\">\n",
       "      <th></th>\n",
       "      <th>YEAR</th>\n",
       "      <th>TEAM</th>\n",
       "      <th>CONF</th>\n",
       "      <th>G</th>\n",
       "      <th>WINS</th>\n",
       "      <th>LOSSES</th>\n",
       "      <th>W%</th>\n",
       "      <th>ADJOE</th>\n",
       "      <th>ADJDE</th>\n",
       "      <th>EFG%</th>\n",
       "      <th>...</th>\n",
       "      <th>3PR</th>\n",
       "      <th>3PRD</th>\n",
       "      <th>ADJ T.</th>\n",
       "      <th>WAB</th>\n",
       "      <th>SEED</th>\n",
       "      <th>FINISH</th>\n",
       "      <th>T_WINS</th>\n",
       "      <th>Corrected_Expected_Wins</th>\n",
       "      <th>Cinderella</th>\n",
       "      <th>Adjusted_Cinderella</th>\n",
       "    </tr>\n",
       "  </thead>\n",
       "  <tbody>\n",
       "    <tr>\n",
       "      <th>766</th>\n",
       "      <td>2019</td>\n",
       "      <td>Old Dominion</td>\n",
       "      <td>CUSA</td>\n",
       "      <td>34.0</td>\n",
       "      <td>26.0</td>\n",
       "      <td>8.0</td>\n",
       "      <td>0.765</td>\n",
       "      <td>100.4</td>\n",
       "      <td>95.5</td>\n",
       "      <td>47.7</td>\n",
       "      <td>...</td>\n",
       "      <td>37.3</td>\n",
       "      <td>40.1</td>\n",
       "      <td>69.5</td>\n",
       "      <td>-1.6</td>\n",
       "      <td>14.0</td>\n",
       "      <td>R64</td>\n",
       "      <td>0.0</td>\n",
       "      <td>0</td>\n",
       "      <td>0.0</td>\n",
       "      <td>0.0</td>\n",
       "    </tr>\n",
       "    <tr>\n",
       "      <th>724</th>\n",
       "      <td>2019</td>\n",
       "      <td>Buffalo</td>\n",
       "      <td>MAC</td>\n",
       "      <td>33.0</td>\n",
       "      <td>30.0</td>\n",
       "      <td>3.0</td>\n",
       "      <td>0.909</td>\n",
       "      <td>113.2</td>\n",
       "      <td>95.2</td>\n",
       "      <td>53.4</td>\n",
       "      <td>...</td>\n",
       "      <td>43.9</td>\n",
       "      <td>36.1</td>\n",
       "      <td>74.2</td>\n",
       "      <td>5.7</td>\n",
       "      <td>6.0</td>\n",
       "      <td>R32</td>\n",
       "      <td>1.0</td>\n",
       "      <td>1</td>\n",
       "      <td>0.0</td>\n",
       "      <td>0.0</td>\n",
       "    </tr>\n",
       "    <tr>\n",
       "      <th>725</th>\n",
       "      <td>2019</td>\n",
       "      <td>Mississippi</td>\n",
       "      <td>SEC</td>\n",
       "      <td>32.0</td>\n",
       "      <td>20.0</td>\n",
       "      <td>12.0</td>\n",
       "      <td>0.625</td>\n",
       "      <td>113.1</td>\n",
       "      <td>96.6</td>\n",
       "      <td>53.0</td>\n",
       "      <td>...</td>\n",
       "      <td>39.5</td>\n",
       "      <td>34.9</td>\n",
       "      <td>69.0</td>\n",
       "      <td>1.0</td>\n",
       "      <td>8.0</td>\n",
       "      <td>R64</td>\n",
       "      <td>0.0</td>\n",
       "      <td>1</td>\n",
       "      <td>-1.0</td>\n",
       "      <td>0.0</td>\n",
       "    </tr>\n",
       "    <tr>\n",
       "      <th>713</th>\n",
       "      <td>2019</td>\n",
       "      <td>Iowa St.</td>\n",
       "      <td>B12</td>\n",
       "      <td>34.0</td>\n",
       "      <td>23.0</td>\n",
       "      <td>11.0</td>\n",
       "      <td>0.676</td>\n",
       "      <td>118.2</td>\n",
       "      <td>96.1</td>\n",
       "      <td>54.9</td>\n",
       "      <td>...</td>\n",
       "      <td>39.6</td>\n",
       "      <td>39.3</td>\n",
       "      <td>68.6</td>\n",
       "      <td>4.3</td>\n",
       "      <td>6.0</td>\n",
       "      <td>R64</td>\n",
       "      <td>0.0</td>\n",
       "      <td>1</td>\n",
       "      <td>-1.0</td>\n",
       "      <td>0.0</td>\n",
       "    </tr>\n",
       "    <tr>\n",
       "      <th>714</th>\n",
       "      <td>2019</td>\n",
       "      <td>Virginia Tech</td>\n",
       "      <td>ACC</td>\n",
       "      <td>32.0</td>\n",
       "      <td>24.0</td>\n",
       "      <td>8.0</td>\n",
       "      <td>0.750</td>\n",
       "      <td>118.0</td>\n",
       "      <td>94.3</td>\n",
       "      <td>56.4</td>\n",
       "      <td>...</td>\n",
       "      <td>45.0</td>\n",
       "      <td>50.1</td>\n",
       "      <td>65.3</td>\n",
       "      <td>5.0</td>\n",
       "      <td>4.0</td>\n",
       "      <td>Sweet Sixteen</td>\n",
       "      <td>2.0</td>\n",
       "      <td>2</td>\n",
       "      <td>0.0</td>\n",
       "      <td>0.0</td>\n",
       "    </tr>\n",
       "    <tr>\n",
       "      <th>...</th>\n",
       "      <td>...</td>\n",
       "      <td>...</td>\n",
       "      <td>...</td>\n",
       "      <td>...</td>\n",
       "      <td>...</td>\n",
       "      <td>...</td>\n",
       "      <td>...</td>\n",
       "      <td>...</td>\n",
       "      <td>...</td>\n",
       "      <td>...</td>\n",
       "      <td>...</td>\n",
       "      <td>...</td>\n",
       "      <td>...</td>\n",
       "      <td>...</td>\n",
       "      <td>...</td>\n",
       "      <td>...</td>\n",
       "      <td>...</td>\n",
       "      <td>...</td>\n",
       "      <td>...</td>\n",
       "      <td>...</td>\n",
       "      <td>...</td>\n",
       "    </tr>\n",
       "    <tr>\n",
       "      <th>15</th>\n",
       "      <td>2008</td>\n",
       "      <td>Washington St.</td>\n",
       "      <td>P10</td>\n",
       "      <td>32.0</td>\n",
       "      <td>24.0</td>\n",
       "      <td>8.0</td>\n",
       "      <td>0.750</td>\n",
       "      <td>114.2</td>\n",
       "      <td>91.7</td>\n",
       "      <td>54.4</td>\n",
       "      <td>...</td>\n",
       "      <td>34.4</td>\n",
       "      <td>32.5</td>\n",
       "      <td>60.1</td>\n",
       "      <td>4.9</td>\n",
       "      <td>4.0</td>\n",
       "      <td>Sweet Sixteen</td>\n",
       "      <td>2.0</td>\n",
       "      <td>2</td>\n",
       "      <td>0.0</td>\n",
       "      <td>0.0</td>\n",
       "    </tr>\n",
       "    <tr>\n",
       "      <th>19</th>\n",
       "      <td>2008</td>\n",
       "      <td>Saint Joseph's</td>\n",
       "      <td>A10</td>\n",
       "      <td>33.0</td>\n",
       "      <td>21.0</td>\n",
       "      <td>12.0</td>\n",
       "      <td>0.636</td>\n",
       "      <td>113.3</td>\n",
       "      <td>98.5</td>\n",
       "      <td>54.6</td>\n",
       "      <td>...</td>\n",
       "      <td>35.8</td>\n",
       "      <td>37.7</td>\n",
       "      <td>65.5</td>\n",
       "      <td>-1.2</td>\n",
       "      <td>11.0</td>\n",
       "      <td>R64</td>\n",
       "      <td>0.0</td>\n",
       "      <td>0</td>\n",
       "      <td>0.0</td>\n",
       "      <td>0.0</td>\n",
       "    </tr>\n",
       "    <tr>\n",
       "      <th>20</th>\n",
       "      <td>2008</td>\n",
       "      <td>Memphis</td>\n",
       "      <td>CUSA</td>\n",
       "      <td>34.0</td>\n",
       "      <td>33.0</td>\n",
       "      <td>1.0</td>\n",
       "      <td>0.971</td>\n",
       "      <td>113.3</td>\n",
       "      <td>83.8</td>\n",
       "      <td>53.0</td>\n",
       "      <td>...</td>\n",
       "      <td>36.7</td>\n",
       "      <td>28.7</td>\n",
       "      <td>70.7</td>\n",
       "      <td>8.9</td>\n",
       "      <td>1.0</td>\n",
       "      <td>Finals</td>\n",
       "      <td>5.0</td>\n",
       "      <td>5</td>\n",
       "      <td>0.0</td>\n",
       "      <td>0.0</td>\n",
       "    </tr>\n",
       "    <tr>\n",
       "      <th>5</th>\n",
       "      <td>2008</td>\n",
       "      <td>Duke</td>\n",
       "      <td>ACC</td>\n",
       "      <td>32.0</td>\n",
       "      <td>27.0</td>\n",
       "      <td>5.0</td>\n",
       "      <td>0.844</td>\n",
       "      <td>117.2</td>\n",
       "      <td>88.8</td>\n",
       "      <td>54.1</td>\n",
       "      <td>...</td>\n",
       "      <td>39.1</td>\n",
       "      <td>24.8</td>\n",
       "      <td>73.7</td>\n",
       "      <td>8.9</td>\n",
       "      <td>2.0</td>\n",
       "      <td>R32</td>\n",
       "      <td>1.0</td>\n",
       "      <td>4</td>\n",
       "      <td>-3.0</td>\n",
       "      <td>0.0</td>\n",
       "    </tr>\n",
       "    <tr>\n",
       "      <th>54</th>\n",
       "      <td>2008</td>\n",
       "      <td>American</td>\n",
       "      <td>Pat</td>\n",
       "      <td>32.0</td>\n",
       "      <td>21.0</td>\n",
       "      <td>11.0</td>\n",
       "      <td>0.656</td>\n",
       "      <td>105.0</td>\n",
       "      <td>104.5</td>\n",
       "      <td>52.5</td>\n",
       "      <td>...</td>\n",
       "      <td>40.1</td>\n",
       "      <td>35.4</td>\n",
       "      <td>62.7</td>\n",
       "      <td>-5.8</td>\n",
       "      <td>15.0</td>\n",
       "      <td>R64</td>\n",
       "      <td>0.0</td>\n",
       "      <td>0</td>\n",
       "      <td>0.0</td>\n",
       "      <td>0.0</td>\n",
       "    </tr>\n",
       "  </tbody>\n",
       "</table>\n",
       "<p>592 rows × 31 columns</p>\n",
       "</div>"
      ],
      "text/plain": [
       "     YEAR            TEAM  CONF     G  WINS  LOSSES     W%  ADJOE  ADJDE  \\\n",
       "766  2019    Old Dominion  CUSA  34.0  26.0     8.0  0.765  100.4   95.5   \n",
       "724  2019         Buffalo   MAC  33.0  30.0     3.0  0.909  113.2   95.2   \n",
       "725  2019     Mississippi   SEC  32.0  20.0    12.0  0.625  113.1   96.6   \n",
       "713  2019        Iowa St.   B12  34.0  23.0    11.0  0.676  118.2   96.1   \n",
       "714  2019   Virginia Tech   ACC  32.0  24.0     8.0  0.750  118.0   94.3   \n",
       "..    ...             ...   ...   ...   ...     ...    ...    ...    ...   \n",
       "15   2008  Washington St.   P10  32.0  24.0     8.0  0.750  114.2   91.7   \n",
       "19   2008  Saint Joseph's   A10  33.0  21.0    12.0  0.636  113.3   98.5   \n",
       "20   2008         Memphis  CUSA  34.0  33.0     1.0  0.971  113.3   83.8   \n",
       "5    2008            Duke   ACC  32.0  27.0     5.0  0.844  117.2   88.8   \n",
       "54   2008        American   Pat  32.0  21.0    11.0  0.656  105.0  104.5   \n",
       "\n",
       "     EFG%  ...   3PR  3PRD  ADJ T.  WAB  SEED         FINISH  T_WINS  \\\n",
       "766  47.7  ...  37.3  40.1    69.5 -1.6  14.0            R64     0.0   \n",
       "724  53.4  ...  43.9  36.1    74.2  5.7   6.0            R32     1.0   \n",
       "725  53.0  ...  39.5  34.9    69.0  1.0   8.0            R64     0.0   \n",
       "713  54.9  ...  39.6  39.3    68.6  4.3   6.0            R64     0.0   \n",
       "714  56.4  ...  45.0  50.1    65.3  5.0   4.0  Sweet Sixteen     2.0   \n",
       "..    ...  ...   ...   ...     ...  ...   ...            ...     ...   \n",
       "15   54.4  ...  34.4  32.5    60.1  4.9   4.0  Sweet Sixteen     2.0   \n",
       "19   54.6  ...  35.8  37.7    65.5 -1.2  11.0            R64     0.0   \n",
       "20   53.0  ...  36.7  28.7    70.7  8.9   1.0         Finals     5.0   \n",
       "5    54.1  ...  39.1  24.8    73.7  8.9   2.0            R32     1.0   \n",
       "54   52.5  ...  40.1  35.4    62.7 -5.8  15.0            R64     0.0   \n",
       "\n",
       "     Corrected_Expected_Wins  Cinderella  Adjusted_Cinderella  \n",
       "766                        0         0.0                  0.0  \n",
       "724                        1         0.0                  0.0  \n",
       "725                        1        -1.0                  0.0  \n",
       "713                        1        -1.0                  0.0  \n",
       "714                        2         0.0                  0.0  \n",
       "..                       ...         ...                  ...  \n",
       "15                         2         0.0                  0.0  \n",
       "19                         0         0.0                  0.0  \n",
       "20                         5         0.0                  0.0  \n",
       "5                          4        -3.0                  0.0  \n",
       "54                         0         0.0                  0.0  \n",
       "\n",
       "[592 rows x 31 columns]"
      ]
     },
     "execution_count": 7,
     "metadata": {},
     "output_type": "execute_result"
    }
   ],
   "source": [
    "cinderella_dfs[0].sort_values(by='YEAR', ascending=False)"
   ]
  },
  {
   "cell_type": "code",
   "execution_count": 8,
   "metadata": {},
   "outputs": [
    {
     "data": {
      "text/html": [
       "<div>\n",
       "<style scoped>\n",
       "    .dataframe tbody tr th:only-of-type {\n",
       "        vertical-align: middle;\n",
       "    }\n",
       "\n",
       "    .dataframe tbody tr th {\n",
       "        vertical-align: top;\n",
       "    }\n",
       "\n",
       "    .dataframe thead th {\n",
       "        text-align: right;\n",
       "    }\n",
       "</style>\n",
       "<table border=\"1\" class=\"dataframe\">\n",
       "  <thead>\n",
       "    <tr style=\"text-align: right;\">\n",
       "      <th></th>\n",
       "      <th>YEAR</th>\n",
       "      <th>TEAM</th>\n",
       "      <th>CONF</th>\n",
       "      <th>G</th>\n",
       "      <th>WINS</th>\n",
       "      <th>LOSSES</th>\n",
       "      <th>W%</th>\n",
       "      <th>ADJOE</th>\n",
       "      <th>ADJDE</th>\n",
       "      <th>EFG%</th>\n",
       "      <th>...</th>\n",
       "      <th>3PR</th>\n",
       "      <th>3PRD</th>\n",
       "      <th>ADJ T.</th>\n",
       "      <th>WAB</th>\n",
       "      <th>SEED</th>\n",
       "      <th>FINISH</th>\n",
       "      <th>T_WINS</th>\n",
       "      <th>Corrected_Expected_Wins</th>\n",
       "      <th>Cinderella</th>\n",
       "      <th>Adjusted_Cinderella</th>\n",
       "    </tr>\n",
       "  </thead>\n",
       "  <tbody>\n",
       "    <tr>\n",
       "      <th>340</th>\n",
       "      <td>2013</td>\n",
       "      <td>Louisville</td>\n",
       "      <td>BE</td>\n",
       "      <td>34.0</td>\n",
       "      <td>29.0</td>\n",
       "      <td>5.0</td>\n",
       "      <td>0.853</td>\n",
       "      <td>112.6</td>\n",
       "      <td>83.5</td>\n",
       "      <td>49.5</td>\n",
       "      <td>...</td>\n",
       "      <td>30.3</td>\n",
       "      <td>33.5</td>\n",
       "      <td>67.5</td>\n",
       "      <td>9.0</td>\n",
       "      <td>1.0</td>\n",
       "      <td>CHAMPS</td>\n",
       "      <td>6.0</td>\n",
       "      <td>5</td>\n",
       "      <td>1.0</td>\n",
       "      <td>1.0</td>\n",
       "    </tr>\n",
       "    <tr>\n",
       "      <th>706</th>\n",
       "      <td>2019</td>\n",
       "      <td>Virginia</td>\n",
       "      <td>ACC</td>\n",
       "      <td>32.0</td>\n",
       "      <td>29.0</td>\n",
       "      <td>3.0</td>\n",
       "      <td>0.906</td>\n",
       "      <td>122.6</td>\n",
       "      <td>88.7</td>\n",
       "      <td>55.7</td>\n",
       "      <td>...</td>\n",
       "      <td>38.7</td>\n",
       "      <td>40.9</td>\n",
       "      <td>61.5</td>\n",
       "      <td>11.1</td>\n",
       "      <td>1.0</td>\n",
       "      <td>CHAMPS</td>\n",
       "      <td>6.0</td>\n",
       "      <td>5</td>\n",
       "      <td>1.0</td>\n",
       "      <td>1.0</td>\n",
       "    </tr>\n",
       "    <tr>\n",
       "      <th>449</th>\n",
       "      <td>2015</td>\n",
       "      <td>Duke</td>\n",
       "      <td>ACC</td>\n",
       "      <td>33.0</td>\n",
       "      <td>29.0</td>\n",
       "      <td>4.0</td>\n",
       "      <td>0.879</td>\n",
       "      <td>124.6</td>\n",
       "      <td>93.1</td>\n",
       "      <td>56.9</td>\n",
       "      <td>...</td>\n",
       "      <td>34.5</td>\n",
       "      <td>27.7</td>\n",
       "      <td>66.8</td>\n",
       "      <td>10.6</td>\n",
       "      <td>1.0</td>\n",
       "      <td>CHAMPS</td>\n",
       "      <td>6.0</td>\n",
       "      <td>5</td>\n",
       "      <td>1.0</td>\n",
       "      <td>1.0</td>\n",
       "    </tr>\n",
       "    <tr>\n",
       "      <th>258</th>\n",
       "      <td>2012</td>\n",
       "      <td>Kentucky</td>\n",
       "      <td>SEC</td>\n",
       "      <td>34.0</td>\n",
       "      <td>32.0</td>\n",
       "      <td>2.0</td>\n",
       "      <td>0.941</td>\n",
       "      <td>119.7</td>\n",
       "      <td>88.5</td>\n",
       "      <td>53.4</td>\n",
       "      <td>...</td>\n",
       "      <td>27.3</td>\n",
       "      <td>30.0</td>\n",
       "      <td>66.1</td>\n",
       "      <td>11.3</td>\n",
       "      <td>1.0</td>\n",
       "      <td>CHAMPS</td>\n",
       "      <td>6.0</td>\n",
       "      <td>5</td>\n",
       "      <td>1.0</td>\n",
       "      <td>1.0</td>\n",
       "    </tr>\n",
       "    <tr>\n",
       "      <th>640</th>\n",
       "      <td>2018</td>\n",
       "      <td>Villanova</td>\n",
       "      <td>BE</td>\n",
       "      <td>34.0</td>\n",
       "      <td>30.0</td>\n",
       "      <td>4.0</td>\n",
       "      <td>0.882</td>\n",
       "      <td>127.7</td>\n",
       "      <td>95.4</td>\n",
       "      <td>59.7</td>\n",
       "      <td>...</td>\n",
       "      <td>46.6</td>\n",
       "      <td>35.5</td>\n",
       "      <td>69.5</td>\n",
       "      <td>10.6</td>\n",
       "      <td>1.0</td>\n",
       "      <td>CHAMPS</td>\n",
       "      <td>6.0</td>\n",
       "      <td>5</td>\n",
       "      <td>1.0</td>\n",
       "      <td>1.0</td>\n",
       "    </tr>\n",
       "    <tr>\n",
       "      <th>...</th>\n",
       "      <td>...</td>\n",
       "      <td>...</td>\n",
       "      <td>...</td>\n",
       "      <td>...</td>\n",
       "      <td>...</td>\n",
       "      <td>...</td>\n",
       "      <td>...</td>\n",
       "      <td>...</td>\n",
       "      <td>...</td>\n",
       "      <td>...</td>\n",
       "      <td>...</td>\n",
       "      <td>...</td>\n",
       "      <td>...</td>\n",
       "      <td>...</td>\n",
       "      <td>...</td>\n",
       "      <td>...</td>\n",
       "      <td>...</td>\n",
       "      <td>...</td>\n",
       "      <td>...</td>\n",
       "      <td>...</td>\n",
       "      <td>...</td>\n",
       "    </tr>\n",
       "    <tr>\n",
       "      <th>431</th>\n",
       "      <td>2014</td>\n",
       "      <td>Mercer</td>\n",
       "      <td>ASun</td>\n",
       "      <td>31.0</td>\n",
       "      <td>23.0</td>\n",
       "      <td>8.0</td>\n",
       "      <td>0.742</td>\n",
       "      <td>108.4</td>\n",
       "      <td>101.0</td>\n",
       "      <td>53.9</td>\n",
       "      <td>...</td>\n",
       "      <td>37.2</td>\n",
       "      <td>36.3</td>\n",
       "      <td>65.4</td>\n",
       "      <td>-2.6</td>\n",
       "      <td>14.0</td>\n",
       "      <td>R32</td>\n",
       "      <td>1.0</td>\n",
       "      <td>0</td>\n",
       "      <td>1.0</td>\n",
       "      <td>1.0</td>\n",
       "    </tr>\n",
       "    <tr>\n",
       "      <th>571</th>\n",
       "      <td>2016</td>\n",
       "      <td>Middle Tennessee</td>\n",
       "      <td>CUSA</td>\n",
       "      <td>31.0</td>\n",
       "      <td>22.0</td>\n",
       "      <td>9.0</td>\n",
       "      <td>0.710</td>\n",
       "      <td>102.2</td>\n",
       "      <td>98.6</td>\n",
       "      <td>51.8</td>\n",
       "      <td>...</td>\n",
       "      <td>35.7</td>\n",
       "      <td>33.8</td>\n",
       "      <td>68.6</td>\n",
       "      <td>-3.0</td>\n",
       "      <td>15.0</td>\n",
       "      <td>R32</td>\n",
       "      <td>1.0</td>\n",
       "      <td>0</td>\n",
       "      <td>1.0</td>\n",
       "      <td>1.0</td>\n",
       "    </tr>\n",
       "    <tr>\n",
       "      <th>301</th>\n",
       "      <td>2012</td>\n",
       "      <td>Lehigh</td>\n",
       "      <td>Pat</td>\n",
       "      <td>32.0</td>\n",
       "      <td>25.0</td>\n",
       "      <td>7.0</td>\n",
       "      <td>0.781</td>\n",
       "      <td>106.7</td>\n",
       "      <td>98.8</td>\n",
       "      <td>50.9</td>\n",
       "      <td>...</td>\n",
       "      <td>36.1</td>\n",
       "      <td>32.2</td>\n",
       "      <td>68.7</td>\n",
       "      <td>-1.1</td>\n",
       "      <td>15.0</td>\n",
       "      <td>R32</td>\n",
       "      <td>1.0</td>\n",
       "      <td>0</td>\n",
       "      <td>1.0</td>\n",
       "      <td>1.0</td>\n",
       "    </tr>\n",
       "    <tr>\n",
       "      <th>318</th>\n",
       "      <td>2012</td>\n",
       "      <td>Norfolk St.</td>\n",
       "      <td>MEAC</td>\n",
       "      <td>32.0</td>\n",
       "      <td>24.0</td>\n",
       "      <td>8.0</td>\n",
       "      <td>0.750</td>\n",
       "      <td>97.8</td>\n",
       "      <td>99.9</td>\n",
       "      <td>49.7</td>\n",
       "      <td>...</td>\n",
       "      <td>31.4</td>\n",
       "      <td>32.0</td>\n",
       "      <td>68.0</td>\n",
       "      <td>-2.7</td>\n",
       "      <td>15.0</td>\n",
       "      <td>R32</td>\n",
       "      <td>1.0</td>\n",
       "      <td>0</td>\n",
       "      <td>1.0</td>\n",
       "      <td>1.0</td>\n",
       "    </tr>\n",
       "    <tr>\n",
       "      <th>701</th>\n",
       "      <td>2018</td>\n",
       "      <td>UMBC</td>\n",
       "      <td>AE</td>\n",
       "      <td>31.0</td>\n",
       "      <td>21.0</td>\n",
       "      <td>10.0</td>\n",
       "      <td>0.677</td>\n",
       "      <td>102.5</td>\n",
       "      <td>105.5</td>\n",
       "      <td>52.2</td>\n",
       "      <td>...</td>\n",
       "      <td>44.1</td>\n",
       "      <td>40.9</td>\n",
       "      <td>69.3</td>\n",
       "      <td>-4.8</td>\n",
       "      <td>16.0</td>\n",
       "      <td>R32</td>\n",
       "      <td>1.0</td>\n",
       "      <td>0</td>\n",
       "      <td>1.0</td>\n",
       "      <td>1.0</td>\n",
       "    </tr>\n",
       "  </tbody>\n",
       "</table>\n",
       "<p>123 rows × 31 columns</p>\n",
       "</div>"
      ],
      "text/plain": [
       "     YEAR              TEAM  CONF     G  WINS  LOSSES     W%  ADJOE  ADJDE  \\\n",
       "340  2013        Louisville    BE  34.0  29.0     5.0  0.853  112.6   83.5   \n",
       "706  2019          Virginia   ACC  32.0  29.0     3.0  0.906  122.6   88.7   \n",
       "449  2015              Duke   ACC  33.0  29.0     4.0  0.879  124.6   93.1   \n",
       "258  2012          Kentucky   SEC  34.0  32.0     2.0  0.941  119.7   88.5   \n",
       "640  2018         Villanova    BE  34.0  30.0     4.0  0.882  127.7   95.4   \n",
       "..    ...               ...   ...   ...   ...     ...    ...    ...    ...   \n",
       "431  2014            Mercer  ASun  31.0  23.0     8.0  0.742  108.4  101.0   \n",
       "571  2016  Middle Tennessee  CUSA  31.0  22.0     9.0  0.710  102.2   98.6   \n",
       "301  2012            Lehigh   Pat  32.0  25.0     7.0  0.781  106.7   98.8   \n",
       "318  2012       Norfolk St.  MEAC  32.0  24.0     8.0  0.750   97.8   99.9   \n",
       "701  2018              UMBC    AE  31.0  21.0    10.0  0.677  102.5  105.5   \n",
       "\n",
       "     EFG%  ...   3PR  3PRD  ADJ T.   WAB  SEED  FINISH  T_WINS  \\\n",
       "340  49.5  ...  30.3  33.5    67.5   9.0   1.0  CHAMPS     6.0   \n",
       "706  55.7  ...  38.7  40.9    61.5  11.1   1.0  CHAMPS     6.0   \n",
       "449  56.9  ...  34.5  27.7    66.8  10.6   1.0  CHAMPS     6.0   \n",
       "258  53.4  ...  27.3  30.0    66.1  11.3   1.0  CHAMPS     6.0   \n",
       "640  59.7  ...  46.6  35.5    69.5  10.6   1.0  CHAMPS     6.0   \n",
       "..    ...  ...   ...   ...     ...   ...   ...     ...     ...   \n",
       "431  53.9  ...  37.2  36.3    65.4  -2.6  14.0     R32     1.0   \n",
       "571  51.8  ...  35.7  33.8    68.6  -3.0  15.0     R32     1.0   \n",
       "301  50.9  ...  36.1  32.2    68.7  -1.1  15.0     R32     1.0   \n",
       "318  49.7  ...  31.4  32.0    68.0  -2.7  15.0     R32     1.0   \n",
       "701  52.2  ...  44.1  40.9    69.3  -4.8  16.0     R32     1.0   \n",
       "\n",
       "     Corrected_Expected_Wins  Cinderella  Adjusted_Cinderella  \n",
       "340                        5         1.0                  1.0  \n",
       "706                        5         1.0                  1.0  \n",
       "449                        5         1.0                  1.0  \n",
       "258                        5         1.0                  1.0  \n",
       "640                        5         1.0                  1.0  \n",
       "..                       ...         ...                  ...  \n",
       "431                        0         1.0                  1.0  \n",
       "571                        0         1.0                  1.0  \n",
       "301                        0         1.0                  1.0  \n",
       "318                        0         1.0                  1.0  \n",
       "701                        0         1.0                  1.0  \n",
       "\n",
       "[123 rows x 31 columns]"
      ]
     },
     "execution_count": 8,
     "metadata": {},
     "output_type": "execute_result"
    }
   ],
   "source": [
    "cinderella_dfs[1].sort_values(by='SEED')"
   ]
  },
  {
   "cell_type": "code",
   "execution_count": 9,
   "metadata": {},
   "outputs": [
    {
     "data": {
      "text/html": [
       "<div>\n",
       "<style scoped>\n",
       "    .dataframe tbody tr th:only-of-type {\n",
       "        vertical-align: middle;\n",
       "    }\n",
       "\n",
       "    .dataframe tbody tr th {\n",
       "        vertical-align: top;\n",
       "    }\n",
       "\n",
       "    .dataframe thead th {\n",
       "        text-align: right;\n",
       "    }\n",
       "</style>\n",
       "<table border=\"1\" class=\"dataframe\">\n",
       "  <thead>\n",
       "    <tr style=\"text-align: right;\">\n",
       "      <th></th>\n",
       "      <th>YEAR</th>\n",
       "      <th>TEAM</th>\n",
       "      <th>CONF</th>\n",
       "      <th>G</th>\n",
       "      <th>WINS</th>\n",
       "      <th>LOSSES</th>\n",
       "      <th>W%</th>\n",
       "      <th>ADJOE</th>\n",
       "      <th>ADJDE</th>\n",
       "      <th>EFG%</th>\n",
       "      <th>...</th>\n",
       "      <th>3PR</th>\n",
       "      <th>3PRD</th>\n",
       "      <th>ADJ T.</th>\n",
       "      <th>WAB</th>\n",
       "      <th>SEED</th>\n",
       "      <th>FINISH</th>\n",
       "      <th>T_WINS</th>\n",
       "      <th>Corrected_Expected_Wins</th>\n",
       "      <th>Cinderella</th>\n",
       "      <th>Adjusted_Cinderella</th>\n",
       "    </tr>\n",
       "  </thead>\n",
       "  <tbody>\n",
       "    <tr>\n",
       "      <th>45</th>\n",
       "      <td>2008</td>\n",
       "      <td>Villanova</td>\n",
       "      <td>BE</td>\n",
       "      <td>32.0</td>\n",
       "      <td>20.0</td>\n",
       "      <td>12.0</td>\n",
       "      <td>0.625</td>\n",
       "      <td>107.7</td>\n",
       "      <td>95.0</td>\n",
       "      <td>49.0</td>\n",
       "      <td>...</td>\n",
       "      <td>35.6</td>\n",
       "      <td>40.5</td>\n",
       "      <td>69.4</td>\n",
       "      <td>0.3</td>\n",
       "      <td>12.0</td>\n",
       "      <td>Sweet Sixteen</td>\n",
       "      <td>2.0</td>\n",
       "      <td>0</td>\n",
       "      <td>2.0</td>\n",
       "      <td>2.0</td>\n",
       "    </tr>\n",
       "    <tr>\n",
       "      <th>39</th>\n",
       "      <td>2008</td>\n",
       "      <td>Western Kentucky</td>\n",
       "      <td>SB</td>\n",
       "      <td>31.0</td>\n",
       "      <td>25.0</td>\n",
       "      <td>6.0</td>\n",
       "      <td>0.806</td>\n",
       "      <td>108.6</td>\n",
       "      <td>95.5</td>\n",
       "      <td>53.6</td>\n",
       "      <td>...</td>\n",
       "      <td>32.4</td>\n",
       "      <td>31.6</td>\n",
       "      <td>69.0</td>\n",
       "      <td>0.2</td>\n",
       "      <td>12.0</td>\n",
       "      <td>Sweet Sixteen</td>\n",
       "      <td>2.0</td>\n",
       "      <td>0</td>\n",
       "      <td>2.0</td>\n",
       "      <td>2.0</td>\n",
       "    </tr>\n",
       "    <tr>\n",
       "      <th>85</th>\n",
       "      <td>2009</td>\n",
       "      <td>Villanova</td>\n",
       "      <td>BE</td>\n",
       "      <td>33.0</td>\n",
       "      <td>26.0</td>\n",
       "      <td>7.0</td>\n",
       "      <td>0.788</td>\n",
       "      <td>112.4</td>\n",
       "      <td>91.0</td>\n",
       "      <td>51.5</td>\n",
       "      <td>...</td>\n",
       "      <td>31.6</td>\n",
       "      <td>41.2</td>\n",
       "      <td>68.2</td>\n",
       "      <td>6.0</td>\n",
       "      <td>3.0</td>\n",
       "      <td>Final Four</td>\n",
       "      <td>4.0</td>\n",
       "      <td>2</td>\n",
       "      <td>2.0</td>\n",
       "      <td>2.0</td>\n",
       "    </tr>\n",
       "    <tr>\n",
       "      <th>71</th>\n",
       "      <td>2009</td>\n",
       "      <td>Arizona</td>\n",
       "      <td>P10</td>\n",
       "      <td>32.0</td>\n",
       "      <td>19.0</td>\n",
       "      <td>13.0</td>\n",
       "      <td>0.594</td>\n",
       "      <td>116.3</td>\n",
       "      <td>99.8</td>\n",
       "      <td>53.2</td>\n",
       "      <td>...</td>\n",
       "      <td>29.0</td>\n",
       "      <td>40.7</td>\n",
       "      <td>65.4</td>\n",
       "      <td>0.7</td>\n",
       "      <td>12.0</td>\n",
       "      <td>Sweet Sixteen</td>\n",
       "      <td>2.0</td>\n",
       "      <td>0</td>\n",
       "      <td>2.0</td>\n",
       "      <td>2.0</td>\n",
       "    </tr>\n",
       "    <tr>\n",
       "      <th>172</th>\n",
       "      <td>2010</td>\n",
       "      <td>Northern Iowa</td>\n",
       "      <td>MVC</td>\n",
       "      <td>32.0</td>\n",
       "      <td>28.0</td>\n",
       "      <td>4.0</td>\n",
       "      <td>0.875</td>\n",
       "      <td>107.0</td>\n",
       "      <td>89.5</td>\n",
       "      <td>49.7</td>\n",
       "      <td>...</td>\n",
       "      <td>37.4</td>\n",
       "      <td>35.4</td>\n",
       "      <td>60.3</td>\n",
       "      <td>3.9</td>\n",
       "      <td>9.0</td>\n",
       "      <td>Sweet Sixteen</td>\n",
       "      <td>2.0</td>\n",
       "      <td>0</td>\n",
       "      <td>2.0</td>\n",
       "      <td>2.0</td>\n",
       "    </tr>\n",
       "    <tr>\n",
       "      <th>156</th>\n",
       "      <td>2010</td>\n",
       "      <td>Washington</td>\n",
       "      <td>P10</td>\n",
       "      <td>33.0</td>\n",
       "      <td>24.0</td>\n",
       "      <td>9.0</td>\n",
       "      <td>0.727</td>\n",
       "      <td>111.3</td>\n",
       "      <td>93.3</td>\n",
       "      <td>49.4</td>\n",
       "      <td>...</td>\n",
       "      <td>25.8</td>\n",
       "      <td>27.1</td>\n",
       "      <td>73.3</td>\n",
       "      <td>1.2</td>\n",
       "      <td>11.0</td>\n",
       "      <td>Sweet Sixteen</td>\n",
       "      <td>2.0</td>\n",
       "      <td>0</td>\n",
       "      <td>2.0</td>\n",
       "      <td>2.0</td>\n",
       "    </tr>\n",
       "    <tr>\n",
       "      <th>148</th>\n",
       "      <td>2010</td>\n",
       "      <td>Cornell</td>\n",
       "      <td>Ivy</td>\n",
       "      <td>29.0</td>\n",
       "      <td>25.0</td>\n",
       "      <td>4.0</td>\n",
       "      <td>0.862</td>\n",
       "      <td>114.0</td>\n",
       "      <td>100.9</td>\n",
       "      <td>56.4</td>\n",
       "      <td>...</td>\n",
       "      <td>39.9</td>\n",
       "      <td>31.1</td>\n",
       "      <td>65.9</td>\n",
       "      <td>2.0</td>\n",
       "      <td>12.0</td>\n",
       "      <td>Sweet Sixteen</td>\n",
       "      <td>2.0</td>\n",
       "      <td>0</td>\n",
       "      <td>2.0</td>\n",
       "      <td>2.0</td>\n",
       "    </tr>\n",
       "    <tr>\n",
       "      <th>140</th>\n",
       "      <td>2010</td>\n",
       "      <td>Saint Mary's</td>\n",
       "      <td>WCC</td>\n",
       "      <td>30.0</td>\n",
       "      <td>25.0</td>\n",
       "      <td>5.0</td>\n",
       "      <td>0.833</td>\n",
       "      <td>115.2</td>\n",
       "      <td>97.3</td>\n",
       "      <td>55.7</td>\n",
       "      <td>...</td>\n",
       "      <td>35.6</td>\n",
       "      <td>22.5</td>\n",
       "      <td>68.2</td>\n",
       "      <td>2.0</td>\n",
       "      <td>10.0</td>\n",
       "      <td>Sweet Sixteen</td>\n",
       "      <td>2.0</td>\n",
       "      <td>0</td>\n",
       "      <td>2.0</td>\n",
       "      <td>2.0</td>\n",
       "    </tr>\n",
       "    <tr>\n",
       "      <th>173</th>\n",
       "      <td>2010</td>\n",
       "      <td>Tennessee</td>\n",
       "      <td>SEC</td>\n",
       "      <td>33.0</td>\n",
       "      <td>25.0</td>\n",
       "      <td>8.0</td>\n",
       "      <td>0.758</td>\n",
       "      <td>106.7</td>\n",
       "      <td>89.5</td>\n",
       "      <td>50.2</td>\n",
       "      <td>...</td>\n",
       "      <td>31.7</td>\n",
       "      <td>38.0</td>\n",
       "      <td>69.6</td>\n",
       "      <td>3.9</td>\n",
       "      <td>6.0</td>\n",
       "      <td>Elite Eight</td>\n",
       "      <td>3.0</td>\n",
       "      <td>1</td>\n",
       "      <td>2.0</td>\n",
       "      <td>2.0</td>\n",
       "    </tr>\n",
       "    <tr>\n",
       "      <th>197</th>\n",
       "      <td>2011</td>\n",
       "      <td>Kentucky</td>\n",
       "      <td>SEC</td>\n",
       "      <td>33.0</td>\n",
       "      <td>25.0</td>\n",
       "      <td>8.0</td>\n",
       "      <td>0.758</td>\n",
       "      <td>118.4</td>\n",
       "      <td>92.2</td>\n",
       "      <td>52.4</td>\n",
       "      <td>...</td>\n",
       "      <td>31.9</td>\n",
       "      <td>29.9</td>\n",
       "      <td>66.9</td>\n",
       "      <td>5.2</td>\n",
       "      <td>4.0</td>\n",
       "      <td>Final Four</td>\n",
       "      <td>4.0</td>\n",
       "      <td>2</td>\n",
       "      <td>2.0</td>\n",
       "      <td>2.0</td>\n",
       "    </tr>\n",
       "    <tr>\n",
       "      <th>201</th>\n",
       "      <td>2011</td>\n",
       "      <td>Arizona</td>\n",
       "      <td>P10</td>\n",
       "      <td>34.0</td>\n",
       "      <td>27.0</td>\n",
       "      <td>7.0</td>\n",
       "      <td>0.794</td>\n",
       "      <td>115.7</td>\n",
       "      <td>95.7</td>\n",
       "      <td>54.4</td>\n",
       "      <td>...</td>\n",
       "      <td>36.8</td>\n",
       "      <td>28.5</td>\n",
       "      <td>66.5</td>\n",
       "      <td>4.6</td>\n",
       "      <td>5.0</td>\n",
       "      <td>Elite Eight</td>\n",
       "      <td>3.0</td>\n",
       "      <td>1</td>\n",
       "      <td>2.0</td>\n",
       "      <td>2.0</td>\n",
       "    </tr>\n",
       "    <tr>\n",
       "      <th>223</th>\n",
       "      <td>2011</td>\n",
       "      <td>Richmond</td>\n",
       "      <td>A10</td>\n",
       "      <td>34.0</td>\n",
       "      <td>27.0</td>\n",
       "      <td>7.0</td>\n",
       "      <td>0.794</td>\n",
       "      <td>110.2</td>\n",
       "      <td>95.7</td>\n",
       "      <td>53.6</td>\n",
       "      <td>...</td>\n",
       "      <td>36.5</td>\n",
       "      <td>30.0</td>\n",
       "      <td>63.9</td>\n",
       "      <td>1.8</td>\n",
       "      <td>12.0</td>\n",
       "      <td>Sweet Sixteen</td>\n",
       "      <td>2.0</td>\n",
       "      <td>0</td>\n",
       "      <td>2.0</td>\n",
       "      <td>2.0</td>\n",
       "    </tr>\n",
       "    <tr>\n",
       "      <th>203</th>\n",
       "      <td>2011</td>\n",
       "      <td>Marquette</td>\n",
       "      <td>BE</td>\n",
       "      <td>34.0</td>\n",
       "      <td>20.0</td>\n",
       "      <td>14.0</td>\n",
       "      <td>0.588</td>\n",
       "      <td>115.3</td>\n",
       "      <td>97.2</td>\n",
       "      <td>51.4</td>\n",
       "      <td>...</td>\n",
       "      <td>26.3</td>\n",
       "      <td>34.7</td>\n",
       "      <td>67.9</td>\n",
       "      <td>0.6</td>\n",
       "      <td>11.0</td>\n",
       "      <td>Sweet Sixteen</td>\n",
       "      <td>2.0</td>\n",
       "      <td>0</td>\n",
       "      <td>2.0</td>\n",
       "      <td>2.0</td>\n",
       "    </tr>\n",
       "    <tr>\n",
       "      <th>251</th>\n",
       "      <td>2011</td>\n",
       "      <td>Florida St.</td>\n",
       "      <td>ACC</td>\n",
       "      <td>31.0</td>\n",
       "      <td>21.0</td>\n",
       "      <td>10.0</td>\n",
       "      <td>0.677</td>\n",
       "      <td>101.2</td>\n",
       "      <td>87.1</td>\n",
       "      <td>49.1</td>\n",
       "      <td>...</td>\n",
       "      <td>33.4</td>\n",
       "      <td>38.8</td>\n",
       "      <td>69.6</td>\n",
       "      <td>1.1</td>\n",
       "      <td>10.0</td>\n",
       "      <td>Sweet Sixteen</td>\n",
       "      <td>2.0</td>\n",
       "      <td>0</td>\n",
       "      <td>2.0</td>\n",
       "      <td>2.0</td>\n",
       "    </tr>\n",
       "    <tr>\n",
       "      <th>313</th>\n",
       "      <td>2012</td>\n",
       "      <td>Louisville</td>\n",
       "      <td>BE</td>\n",
       "      <td>35.0</td>\n",
       "      <td>26.0</td>\n",
       "      <td>9.0</td>\n",
       "      <td>0.743</td>\n",
       "      <td>103.7</td>\n",
       "      <td>85.9</td>\n",
       "      <td>47.6</td>\n",
       "      <td>...</td>\n",
       "      <td>33.2</td>\n",
       "      <td>32.0</td>\n",
       "      <td>67.5</td>\n",
       "      <td>5.5</td>\n",
       "      <td>4.0</td>\n",
       "      <td>Final Four</td>\n",
       "      <td>4.0</td>\n",
       "      <td>2</td>\n",
       "      <td>2.0</td>\n",
       "      <td>2.0</td>\n",
       "    </tr>\n",
       "    <tr>\n",
       "      <th>311</th>\n",
       "      <td>2012</td>\n",
       "      <td>Ohio</td>\n",
       "      <td>MAC</td>\n",
       "      <td>33.0</td>\n",
       "      <td>26.0</td>\n",
       "      <td>7.0</td>\n",
       "      <td>0.788</td>\n",
       "      <td>104.2</td>\n",
       "      <td>93.4</td>\n",
       "      <td>49.0</td>\n",
       "      <td>...</td>\n",
       "      <td>38.1</td>\n",
       "      <td>35.5</td>\n",
       "      <td>67.3</td>\n",
       "      <td>0.4</td>\n",
       "      <td>13.0</td>\n",
       "      <td>Sweet Sixteen</td>\n",
       "      <td>2.0</td>\n",
       "      <td>0</td>\n",
       "      <td>2.0</td>\n",
       "      <td>2.0</td>\n",
       "    </tr>\n",
       "    <tr>\n",
       "      <th>304</th>\n",
       "      <td>2012</td>\n",
       "      <td>Xavier</td>\n",
       "      <td>A10</td>\n",
       "      <td>33.0</td>\n",
       "      <td>21.0</td>\n",
       "      <td>12.0</td>\n",
       "      <td>0.636</td>\n",
       "      <td>106.3</td>\n",
       "      <td>94.7</td>\n",
       "      <td>49.6</td>\n",
       "      <td>...</td>\n",
       "      <td>25.2</td>\n",
       "      <td>35.7</td>\n",
       "      <td>67.9</td>\n",
       "      <td>0.7</td>\n",
       "      <td>10.0</td>\n",
       "      <td>Sweet Sixteen</td>\n",
       "      <td>2.0</td>\n",
       "      <td>0</td>\n",
       "      <td>2.0</td>\n",
       "      <td>2.0</td>\n",
       "    </tr>\n",
       "    <tr>\n",
       "      <th>278</th>\n",
       "      <td>2012</td>\n",
       "      <td>North Carolina St.</td>\n",
       "      <td>ACC</td>\n",
       "      <td>34.0</td>\n",
       "      <td>22.0</td>\n",
       "      <td>12.0</td>\n",
       "      <td>0.647</td>\n",
       "      <td>111.4</td>\n",
       "      <td>96.9</td>\n",
       "      <td>50.9</td>\n",
       "      <td>...</td>\n",
       "      <td>26.1</td>\n",
       "      <td>33.0</td>\n",
       "      <td>68.1</td>\n",
       "      <td>0.4</td>\n",
       "      <td>11.0</td>\n",
       "      <td>Sweet Sixteen</td>\n",
       "      <td>2.0</td>\n",
       "      <td>0</td>\n",
       "      <td>2.0</td>\n",
       "      <td>2.0</td>\n",
       "    </tr>\n",
       "    <tr>\n",
       "      <th>257</th>\n",
       "      <td>2012</td>\n",
       "      <td>Florida</td>\n",
       "      <td>SEC</td>\n",
       "      <td>33.0</td>\n",
       "      <td>23.0</td>\n",
       "      <td>10.0</td>\n",
       "      <td>0.697</td>\n",
       "      <td>120.5</td>\n",
       "      <td>98.1</td>\n",
       "      <td>54.7</td>\n",
       "      <td>...</td>\n",
       "      <td>44.4</td>\n",
       "      <td>31.8</td>\n",
       "      <td>65.6</td>\n",
       "      <td>3.0</td>\n",
       "      <td>7.0</td>\n",
       "      <td>Elite Eight</td>\n",
       "      <td>3.0</td>\n",
       "      <td>1</td>\n",
       "      <td>2.0</td>\n",
       "      <td>2.0</td>\n",
       "    </tr>\n",
       "    <tr>\n",
       "      <th>378</th>\n",
       "      <td>2013</td>\n",
       "      <td>Florida Gulf Coast</td>\n",
       "      <td>ASun</td>\n",
       "      <td>32.0</td>\n",
       "      <td>22.0</td>\n",
       "      <td>10.0</td>\n",
       "      <td>0.688</td>\n",
       "      <td>101.9</td>\n",
       "      <td>97.4</td>\n",
       "      <td>51.4</td>\n",
       "      <td>...</td>\n",
       "      <td>34.8</td>\n",
       "      <td>38.0</td>\n",
       "      <td>68.9</td>\n",
       "      <td>-3.9</td>\n",
       "      <td>15.0</td>\n",
       "      <td>Sweet Sixteen</td>\n",
       "      <td>2.0</td>\n",
       "      <td>0</td>\n",
       "      <td>2.0</td>\n",
       "      <td>2.0</td>\n",
       "    </tr>\n",
       "    <tr>\n",
       "      <th>351</th>\n",
       "      <td>2013</td>\n",
       "      <td>La Salle</td>\n",
       "      <td>A10</td>\n",
       "      <td>30.0</td>\n",
       "      <td>21.0</td>\n",
       "      <td>9.0</td>\n",
       "      <td>0.700</td>\n",
       "      <td>109.8</td>\n",
       "      <td>95.5</td>\n",
       "      <td>51.5</td>\n",
       "      <td>...</td>\n",
       "      <td>35.7</td>\n",
       "      <td>24.4</td>\n",
       "      <td>66.6</td>\n",
       "      <td>0.5</td>\n",
       "      <td>13.0</td>\n",
       "      <td>Sweet Sixteen</td>\n",
       "      <td>2.0</td>\n",
       "      <td>0</td>\n",
       "      <td>2.0</td>\n",
       "      <td>2.0</td>\n",
       "    </tr>\n",
       "    <tr>\n",
       "      <th>333</th>\n",
       "      <td>2013</td>\n",
       "      <td>Syracuse</td>\n",
       "      <td>BE</td>\n",
       "      <td>35.0</td>\n",
       "      <td>26.0</td>\n",
       "      <td>9.0</td>\n",
       "      <td>0.743</td>\n",
       "      <td>113.4</td>\n",
       "      <td>89.9</td>\n",
       "      <td>49.2</td>\n",
       "      <td>...</td>\n",
       "      <td>31.0</td>\n",
       "      <td>39.8</td>\n",
       "      <td>65.7</td>\n",
       "      <td>5.1</td>\n",
       "      <td>4.0</td>\n",
       "      <td>Final Four</td>\n",
       "      <td>4.0</td>\n",
       "      <td>2</td>\n",
       "      <td>2.0</td>\n",
       "      <td>2.0</td>\n",
       "    </tr>\n",
       "    <tr>\n",
       "      <th>375</th>\n",
       "      <td>2013</td>\n",
       "      <td>Oregon</td>\n",
       "      <td>P12</td>\n",
       "      <td>34.0</td>\n",
       "      <td>26.0</td>\n",
       "      <td>8.0</td>\n",
       "      <td>0.765</td>\n",
       "      <td>103.8</td>\n",
       "      <td>89.2</td>\n",
       "      <td>49.1</td>\n",
       "      <td>...</td>\n",
       "      <td>27.4</td>\n",
       "      <td>29.6</td>\n",
       "      <td>69.2</td>\n",
       "      <td>2.9</td>\n",
       "      <td>12.0</td>\n",
       "      <td>Sweet Sixteen</td>\n",
       "      <td>2.0</td>\n",
       "      <td>0</td>\n",
       "      <td>2.0</td>\n",
       "      <td>2.0</td>\n",
       "    </tr>\n",
       "    <tr>\n",
       "      <th>398</th>\n",
       "      <td>2014</td>\n",
       "      <td>Tennessee</td>\n",
       "      <td>SEC</td>\n",
       "      <td>32.0</td>\n",
       "      <td>20.0</td>\n",
       "      <td>12.0</td>\n",
       "      <td>0.625</td>\n",
       "      <td>116.2</td>\n",
       "      <td>93.6</td>\n",
       "      <td>49.3</td>\n",
       "      <td>...</td>\n",
       "      <td>30.6</td>\n",
       "      <td>27.3</td>\n",
       "      <td>63.4</td>\n",
       "      <td>0.4</td>\n",
       "      <td>11.0</td>\n",
       "      <td>Sweet Sixteen</td>\n",
       "      <td>2.0</td>\n",
       "      <td>0</td>\n",
       "      <td>2.0</td>\n",
       "      <td>2.0</td>\n",
       "    </tr>\n",
       "    <tr>\n",
       "      <th>414</th>\n",
       "      <td>2014</td>\n",
       "      <td>Stanford</td>\n",
       "      <td>P12</td>\n",
       "      <td>33.0</td>\n",
       "      <td>21.0</td>\n",
       "      <td>12.0</td>\n",
       "      <td>0.636</td>\n",
       "      <td>112.5</td>\n",
       "      <td>97.8</td>\n",
       "      <td>51.9</td>\n",
       "      <td>...</td>\n",
       "      <td>29.3</td>\n",
       "      <td>33.7</td>\n",
       "      <td>67.3</td>\n",
       "      <td>1.2</td>\n",
       "      <td>10.0</td>\n",
       "      <td>Sweet Sixteen</td>\n",
       "      <td>2.0</td>\n",
       "      <td>0</td>\n",
       "      <td>2.0</td>\n",
       "      <td>2.0</td>\n",
       "    </tr>\n",
       "    <tr>\n",
       "      <th>482</th>\n",
       "      <td>2015</td>\n",
       "      <td>UCLA</td>\n",
       "      <td>P12</td>\n",
       "      <td>33.0</td>\n",
       "      <td>20.0</td>\n",
       "      <td>13.0</td>\n",
       "      <td>0.606</td>\n",
       "      <td>110.1</td>\n",
       "      <td>96.9</td>\n",
       "      <td>49.4</td>\n",
       "      <td>...</td>\n",
       "      <td>29.3</td>\n",
       "      <td>39.1</td>\n",
       "      <td>66.9</td>\n",
       "      <td>0.0</td>\n",
       "      <td>11.0</td>\n",
       "      <td>Sweet Sixteen</td>\n",
       "      <td>2.0</td>\n",
       "      <td>0</td>\n",
       "      <td>2.0</td>\n",
       "      <td>2.0</td>\n",
       "    </tr>\n",
       "    <tr>\n",
       "      <th>528</th>\n",
       "      <td>2016</td>\n",
       "      <td>Gonzaga</td>\n",
       "      <td>WCC</td>\n",
       "      <td>32.0</td>\n",
       "      <td>25.0</td>\n",
       "      <td>7.0</td>\n",
       "      <td>0.781</td>\n",
       "      <td>117.0</td>\n",
       "      <td>96.3</td>\n",
       "      <td>55.3</td>\n",
       "      <td>...</td>\n",
       "      <td>35.9</td>\n",
       "      <td>33.1</td>\n",
       "      <td>68.2</td>\n",
       "      <td>2.2</td>\n",
       "      <td>11.0</td>\n",
       "      <td>Sweet Sixteen</td>\n",
       "      <td>2.0</td>\n",
       "      <td>0</td>\n",
       "      <td>2.0</td>\n",
       "      <td>2.0</td>\n",
       "    </tr>\n",
       "    <tr>\n",
       "      <th>522</th>\n",
       "      <td>2016</td>\n",
       "      <td>Notre Dame</td>\n",
       "      <td>ACC</td>\n",
       "      <td>32.0</td>\n",
       "      <td>21.0</td>\n",
       "      <td>11.0</td>\n",
       "      <td>0.656</td>\n",
       "      <td>118.4</td>\n",
       "      <td>103.5</td>\n",
       "      <td>53.5</td>\n",
       "      <td>...</td>\n",
       "      <td>34.5</td>\n",
       "      <td>34.2</td>\n",
       "      <td>65.9</td>\n",
       "      <td>2.3</td>\n",
       "      <td>6.0</td>\n",
       "      <td>Elite Eight</td>\n",
       "      <td>3.0</td>\n",
       "      <td>1</td>\n",
       "      <td>2.0</td>\n",
       "      <td>2.0</td>\n",
       "    </tr>\n",
       "    <tr>\n",
       "      <th>520</th>\n",
       "      <td>2016</td>\n",
       "      <td>Villanova</td>\n",
       "      <td>BE</td>\n",
       "      <td>34.0</td>\n",
       "      <td>29.0</td>\n",
       "      <td>5.0</td>\n",
       "      <td>0.853</td>\n",
       "      <td>118.9</td>\n",
       "      <td>90.4</td>\n",
       "      <td>54.3</td>\n",
       "      <td>...</td>\n",
       "      <td>43.8</td>\n",
       "      <td>37.5</td>\n",
       "      <td>67.3</td>\n",
       "      <td>9.0</td>\n",
       "      <td>2.0</td>\n",
       "      <td>CHAMPS</td>\n",
       "      <td>6.0</td>\n",
       "      <td>4</td>\n",
       "      <td>2.0</td>\n",
       "      <td>2.0</td>\n",
       "    </tr>\n",
       "    <tr>\n",
       "      <th>600</th>\n",
       "      <td>2017</td>\n",
       "      <td>Oregon</td>\n",
       "      <td>P12</td>\n",
       "      <td>33.0</td>\n",
       "      <td>28.0</td>\n",
       "      <td>5.0</td>\n",
       "      <td>0.848</td>\n",
       "      <td>116.0</td>\n",
       "      <td>93.7</td>\n",
       "      <td>55.6</td>\n",
       "      <td>...</td>\n",
       "      <td>39.1</td>\n",
       "      <td>37.2</td>\n",
       "      <td>68.5</td>\n",
       "      <td>6.0</td>\n",
       "      <td>3.0</td>\n",
       "      <td>Final Four</td>\n",
       "      <td>4.0</td>\n",
       "      <td>2</td>\n",
       "      <td>2.0</td>\n",
       "      <td>2.0</td>\n",
       "    </tr>\n",
       "    <tr>\n",
       "      <th>694</th>\n",
       "      <td>2018</td>\n",
       "      <td>Syracuse</td>\n",
       "      <td>ACC</td>\n",
       "      <td>33.0</td>\n",
       "      <td>20.0</td>\n",
       "      <td>13.0</td>\n",
       "      <td>0.606</td>\n",
       "      <td>106.3</td>\n",
       "      <td>93.0</td>\n",
       "      <td>47.2</td>\n",
       "      <td>...</td>\n",
       "      <td>33.5</td>\n",
       "      <td>43.8</td>\n",
       "      <td>64.5</td>\n",
       "      <td>-0.4</td>\n",
       "      <td>11.0</td>\n",
       "      <td>Sweet Sixteen</td>\n",
       "      <td>2.0</td>\n",
       "      <td>0</td>\n",
       "      <td>2.0</td>\n",
       "      <td>2.0</td>\n",
       "    </tr>\n",
       "    <tr>\n",
       "      <th>756</th>\n",
       "      <td>2019</td>\n",
       "      <td>Oregon</td>\n",
       "      <td>P12</td>\n",
       "      <td>35.0</td>\n",
       "      <td>23.0</td>\n",
       "      <td>12.0</td>\n",
       "      <td>0.657</td>\n",
       "      <td>106.4</td>\n",
       "      <td>92.9</td>\n",
       "      <td>51.7</td>\n",
       "      <td>...</td>\n",
       "      <td>39.3</td>\n",
       "      <td>45.2</td>\n",
       "      <td>65.2</td>\n",
       "      <td>-1.0</td>\n",
       "      <td>12.0</td>\n",
       "      <td>Sweet Sixteen</td>\n",
       "      <td>2.0</td>\n",
       "      <td>0</td>\n",
       "      <td>2.0</td>\n",
       "      <td>2.0</td>\n",
       "    </tr>\n",
       "  </tbody>\n",
       "</table>\n",
       "<p>32 rows × 31 columns</p>\n",
       "</div>"
      ],
      "text/plain": [
       "     YEAR                TEAM  CONF     G  WINS  LOSSES     W%  ADJOE  ADJDE  \\\n",
       "45   2008           Villanova    BE  32.0  20.0    12.0  0.625  107.7   95.0   \n",
       "39   2008    Western Kentucky    SB  31.0  25.0     6.0  0.806  108.6   95.5   \n",
       "85   2009           Villanova    BE  33.0  26.0     7.0  0.788  112.4   91.0   \n",
       "71   2009             Arizona   P10  32.0  19.0    13.0  0.594  116.3   99.8   \n",
       "172  2010       Northern Iowa   MVC  32.0  28.0     4.0  0.875  107.0   89.5   \n",
       "156  2010          Washington   P10  33.0  24.0     9.0  0.727  111.3   93.3   \n",
       "148  2010             Cornell   Ivy  29.0  25.0     4.0  0.862  114.0  100.9   \n",
       "140  2010        Saint Mary's   WCC  30.0  25.0     5.0  0.833  115.2   97.3   \n",
       "173  2010           Tennessee   SEC  33.0  25.0     8.0  0.758  106.7   89.5   \n",
       "197  2011            Kentucky   SEC  33.0  25.0     8.0  0.758  118.4   92.2   \n",
       "201  2011             Arizona   P10  34.0  27.0     7.0  0.794  115.7   95.7   \n",
       "223  2011            Richmond   A10  34.0  27.0     7.0  0.794  110.2   95.7   \n",
       "203  2011           Marquette    BE  34.0  20.0    14.0  0.588  115.3   97.2   \n",
       "251  2011         Florida St.   ACC  31.0  21.0    10.0  0.677  101.2   87.1   \n",
       "313  2012          Louisville    BE  35.0  26.0     9.0  0.743  103.7   85.9   \n",
       "311  2012                Ohio   MAC  33.0  26.0     7.0  0.788  104.2   93.4   \n",
       "304  2012              Xavier   A10  33.0  21.0    12.0  0.636  106.3   94.7   \n",
       "278  2012  North Carolina St.   ACC  34.0  22.0    12.0  0.647  111.4   96.9   \n",
       "257  2012             Florida   SEC  33.0  23.0    10.0  0.697  120.5   98.1   \n",
       "378  2013  Florida Gulf Coast  ASun  32.0  22.0    10.0  0.688  101.9   97.4   \n",
       "351  2013            La Salle   A10  30.0  21.0     9.0  0.700  109.8   95.5   \n",
       "333  2013            Syracuse    BE  35.0  26.0     9.0  0.743  113.4   89.9   \n",
       "375  2013              Oregon   P12  34.0  26.0     8.0  0.765  103.8   89.2   \n",
       "398  2014           Tennessee   SEC  32.0  20.0    12.0  0.625  116.2   93.6   \n",
       "414  2014            Stanford   P12  33.0  21.0    12.0  0.636  112.5   97.8   \n",
       "482  2015                UCLA   P12  33.0  20.0    13.0  0.606  110.1   96.9   \n",
       "528  2016             Gonzaga   WCC  32.0  25.0     7.0  0.781  117.0   96.3   \n",
       "522  2016          Notre Dame   ACC  32.0  21.0    11.0  0.656  118.4  103.5   \n",
       "520  2016           Villanova    BE  34.0  29.0     5.0  0.853  118.9   90.4   \n",
       "600  2017              Oregon   P12  33.0  28.0     5.0  0.848  116.0   93.7   \n",
       "694  2018            Syracuse   ACC  33.0  20.0    13.0  0.606  106.3   93.0   \n",
       "756  2019              Oregon   P12  35.0  23.0    12.0  0.657  106.4   92.9   \n",
       "\n",
       "     EFG%  ...   3PR  3PRD  ADJ T.  WAB  SEED         FINISH  T_WINS  \\\n",
       "45   49.0  ...  35.6  40.5    69.4  0.3  12.0  Sweet Sixteen     2.0   \n",
       "39   53.6  ...  32.4  31.6    69.0  0.2  12.0  Sweet Sixteen     2.0   \n",
       "85   51.5  ...  31.6  41.2    68.2  6.0   3.0     Final Four     4.0   \n",
       "71   53.2  ...  29.0  40.7    65.4  0.7  12.0  Sweet Sixteen     2.0   \n",
       "172  49.7  ...  37.4  35.4    60.3  3.9   9.0  Sweet Sixteen     2.0   \n",
       "156  49.4  ...  25.8  27.1    73.3  1.2  11.0  Sweet Sixteen     2.0   \n",
       "148  56.4  ...  39.9  31.1    65.9  2.0  12.0  Sweet Sixteen     2.0   \n",
       "140  55.7  ...  35.6  22.5    68.2  2.0  10.0  Sweet Sixteen     2.0   \n",
       "173  50.2  ...  31.7  38.0    69.6  3.9   6.0    Elite Eight     3.0   \n",
       "197  52.4  ...  31.9  29.9    66.9  5.2   4.0     Final Four     4.0   \n",
       "201  54.4  ...  36.8  28.5    66.5  4.6   5.0    Elite Eight     3.0   \n",
       "223  53.6  ...  36.5  30.0    63.9  1.8  12.0  Sweet Sixteen     2.0   \n",
       "203  51.4  ...  26.3  34.7    67.9  0.6  11.0  Sweet Sixteen     2.0   \n",
       "251  49.1  ...  33.4  38.8    69.6  1.1  10.0  Sweet Sixteen     2.0   \n",
       "313  47.6  ...  33.2  32.0    67.5  5.5   4.0     Final Four     4.0   \n",
       "311  49.0  ...  38.1  35.5    67.3  0.4  13.0  Sweet Sixteen     2.0   \n",
       "304  49.6  ...  25.2  35.7    67.9  0.7  10.0  Sweet Sixteen     2.0   \n",
       "278  50.9  ...  26.1  33.0    68.1  0.4  11.0  Sweet Sixteen     2.0   \n",
       "257  54.7  ...  44.4  31.8    65.6  3.0   7.0    Elite Eight     3.0   \n",
       "378  51.4  ...  34.8  38.0    68.9 -3.9  15.0  Sweet Sixteen     2.0   \n",
       "351  51.5  ...  35.7  24.4    66.6  0.5  13.0  Sweet Sixteen     2.0   \n",
       "333  49.2  ...  31.0  39.8    65.7  5.1   4.0     Final Four     4.0   \n",
       "375  49.1  ...  27.4  29.6    69.2  2.9  12.0  Sweet Sixteen     2.0   \n",
       "398  49.3  ...  30.6  27.3    63.4  0.4  11.0  Sweet Sixteen     2.0   \n",
       "414  51.9  ...  29.3  33.7    67.3  1.2  10.0  Sweet Sixteen     2.0   \n",
       "482  49.4  ...  29.3  39.1    66.9  0.0  11.0  Sweet Sixteen     2.0   \n",
       "528  55.3  ...  35.9  33.1    68.2  2.2  11.0  Sweet Sixteen     2.0   \n",
       "522  53.5  ...  34.5  34.2    65.9  2.3   6.0    Elite Eight     3.0   \n",
       "520  54.3  ...  43.8  37.5    67.3  9.0   2.0         CHAMPS     6.0   \n",
       "600  55.6  ...  39.1  37.2    68.5  6.0   3.0     Final Four     4.0   \n",
       "694  47.2  ...  33.5  43.8    64.5 -0.4  11.0  Sweet Sixteen     2.0   \n",
       "756  51.7  ...  39.3  45.2    65.2 -1.0  12.0  Sweet Sixteen     2.0   \n",
       "\n",
       "     Corrected_Expected_Wins  Cinderella  Adjusted_Cinderella  \n",
       "45                         0         2.0                  2.0  \n",
       "39                         0         2.0                  2.0  \n",
       "85                         2         2.0                  2.0  \n",
       "71                         0         2.0                  2.0  \n",
       "172                        0         2.0                  2.0  \n",
       "156                        0         2.0                  2.0  \n",
       "148                        0         2.0                  2.0  \n",
       "140                        0         2.0                  2.0  \n",
       "173                        1         2.0                  2.0  \n",
       "197                        2         2.0                  2.0  \n",
       "201                        1         2.0                  2.0  \n",
       "223                        0         2.0                  2.0  \n",
       "203                        0         2.0                  2.0  \n",
       "251                        0         2.0                  2.0  \n",
       "313                        2         2.0                  2.0  \n",
       "311                        0         2.0                  2.0  \n",
       "304                        0         2.0                  2.0  \n",
       "278                        0         2.0                  2.0  \n",
       "257                        1         2.0                  2.0  \n",
       "378                        0         2.0                  2.0  \n",
       "351                        0         2.0                  2.0  \n",
       "333                        2         2.0                  2.0  \n",
       "375                        0         2.0                  2.0  \n",
       "398                        0         2.0                  2.0  \n",
       "414                        0         2.0                  2.0  \n",
       "482                        0         2.0                  2.0  \n",
       "528                        0         2.0                  2.0  \n",
       "522                        1         2.0                  2.0  \n",
       "520                        4         2.0                  2.0  \n",
       "600                        2         2.0                  2.0  \n",
       "694                        0         2.0                  2.0  \n",
       "756                        0         2.0                  2.0  \n",
       "\n",
       "[32 rows x 31 columns]"
      ]
     },
     "execution_count": 9,
     "metadata": {},
     "output_type": "execute_result"
    }
   ],
   "source": [
    "cinderella_dfs[2].sort_values(by='YEAR')"
   ]
  },
  {
   "cell_type": "code",
   "execution_count": 10,
   "metadata": {},
   "outputs": [
    {
     "data": {
      "text/html": [
       "<div>\n",
       "<style scoped>\n",
       "    .dataframe tbody tr th:only-of-type {\n",
       "        vertical-align: middle;\n",
       "    }\n",
       "\n",
       "    .dataframe tbody tr th {\n",
       "        vertical-align: top;\n",
       "    }\n",
       "\n",
       "    .dataframe thead th {\n",
       "        text-align: right;\n",
       "    }\n",
       "</style>\n",
       "<table border=\"1\" class=\"dataframe\">\n",
       "  <thead>\n",
       "    <tr style=\"text-align: right;\">\n",
       "      <th></th>\n",
       "      <th>YEAR</th>\n",
       "      <th>TEAM</th>\n",
       "      <th>CONF</th>\n",
       "      <th>G</th>\n",
       "      <th>WINS</th>\n",
       "      <th>LOSSES</th>\n",
       "      <th>W%</th>\n",
       "      <th>ADJOE</th>\n",
       "      <th>ADJDE</th>\n",
       "      <th>EFG%</th>\n",
       "      <th>...</th>\n",
       "      <th>3PR</th>\n",
       "      <th>3PRD</th>\n",
       "      <th>ADJ T.</th>\n",
       "      <th>WAB</th>\n",
       "      <th>SEED</th>\n",
       "      <th>FINISH</th>\n",
       "      <th>T_WINS</th>\n",
       "      <th>Corrected_Expected_Wins</th>\n",
       "      <th>Cinderella</th>\n",
       "      <th>Adjusted_Cinderella</th>\n",
       "    </tr>\n",
       "  </thead>\n",
       "  <tbody>\n",
       "    <tr>\n",
       "      <th>709</th>\n",
       "      <td>2019</td>\n",
       "      <td>Auburn</td>\n",
       "      <td>SEC</td>\n",
       "      <td>34.0</td>\n",
       "      <td>25.0</td>\n",
       "      <td>9.0</td>\n",
       "      <td>0.735</td>\n",
       "      <td>119.4</td>\n",
       "      <td>95.9</td>\n",
       "      <td>54.2</td>\n",
       "      <td>...</td>\n",
       "      <td>49.6</td>\n",
       "      <td>44.1</td>\n",
       "      <td>69.0</td>\n",
       "      <td>6.1</td>\n",
       "      <td>5.0</td>\n",
       "      <td>Final Four</td>\n",
       "      <td>4.0</td>\n",
       "      <td>1</td>\n",
       "      <td>3.0</td>\n",
       "      <td>3.0</td>\n",
       "    </tr>\n",
       "    <tr>\n",
       "      <th>732</th>\n",
       "      <td>2019</td>\n",
       "      <td>Texas Tech</td>\n",
       "      <td>B12</td>\n",
       "      <td>32.0</td>\n",
       "      <td>26.0</td>\n",
       "      <td>6.0</td>\n",
       "      <td>0.812</td>\n",
       "      <td>112.1</td>\n",
       "      <td>86.3</td>\n",
       "      <td>53.7</td>\n",
       "      <td>...</td>\n",
       "      <td>35.5</td>\n",
       "      <td>39.7</td>\n",
       "      <td>67.2</td>\n",
       "      <td>7.0</td>\n",
       "      <td>3.0</td>\n",
       "      <td>Finals</td>\n",
       "      <td>5.0</td>\n",
       "      <td>2</td>\n",
       "      <td>3.0</td>\n",
       "      <td>3.0</td>\n",
       "    </tr>\n",
       "    <tr>\n",
       "      <th>675</th>\n",
       "      <td>2018</td>\n",
       "      <td>Kansas St.</td>\n",
       "      <td>B12</td>\n",
       "      <td>33.0</td>\n",
       "      <td>22.0</td>\n",
       "      <td>11.0</td>\n",
       "      <td>0.667</td>\n",
       "      <td>112.3</td>\n",
       "      <td>95.8</td>\n",
       "      <td>53.5</td>\n",
       "      <td>...</td>\n",
       "      <td>36.8</td>\n",
       "      <td>39.7</td>\n",
       "      <td>66.5</td>\n",
       "      <td>2.5</td>\n",
       "      <td>9.0</td>\n",
       "      <td>Elite Eight</td>\n",
       "      <td>3.0</td>\n",
       "      <td>0</td>\n",
       "      <td>3.0</td>\n",
       "      <td>3.0</td>\n",
       "    </tr>\n",
       "    <tr>\n",
       "      <th>669</th>\n",
       "      <td>2018</td>\n",
       "      <td>Michigan</td>\n",
       "      <td>B10</td>\n",
       "      <td>34.0</td>\n",
       "      <td>27.0</td>\n",
       "      <td>7.0</td>\n",
       "      <td>0.794</td>\n",
       "      <td>114.3</td>\n",
       "      <td>92.5</td>\n",
       "      <td>54.4</td>\n",
       "      <td>...</td>\n",
       "      <td>43.1</td>\n",
       "      <td>30.2</td>\n",
       "      <td>65.7</td>\n",
       "      <td>6.9</td>\n",
       "      <td>3.0</td>\n",
       "      <td>Finals</td>\n",
       "      <td>5.0</td>\n",
       "      <td>2</td>\n",
       "      <td>3.0</td>\n",
       "      <td>3.0</td>\n",
       "    </tr>\n",
       "    <tr>\n",
       "      <th>666</th>\n",
       "      <td>2018</td>\n",
       "      <td>Florida St.</td>\n",
       "      <td>ACC</td>\n",
       "      <td>31.0</td>\n",
       "      <td>20.0</td>\n",
       "      <td>11.0</td>\n",
       "      <td>0.645</td>\n",
       "      <td>114.5</td>\n",
       "      <td>98.4</td>\n",
       "      <td>53.9</td>\n",
       "      <td>...</td>\n",
       "      <td>36.9</td>\n",
       "      <td>37.6</td>\n",
       "      <td>73.0</td>\n",
       "      <td>1.0</td>\n",
       "      <td>9.0</td>\n",
       "      <td>Elite Eight</td>\n",
       "      <td>3.0</td>\n",
       "      <td>0</td>\n",
       "      <td>3.0</td>\n",
       "      <td>3.0</td>\n",
       "    </tr>\n",
       "    <tr>\n",
       "      <th>633</th>\n",
       "      <td>2017</td>\n",
       "      <td>South Carolina</td>\n",
       "      <td>SEC</td>\n",
       "      <td>31.0</td>\n",
       "      <td>21.0</td>\n",
       "      <td>10.0</td>\n",
       "      <td>0.677</td>\n",
       "      <td>105.2</td>\n",
       "      <td>88.3</td>\n",
       "      <td>46.7</td>\n",
       "      <td>...</td>\n",
       "      <td>33.7</td>\n",
       "      <td>33.9</td>\n",
       "      <td>69.6</td>\n",
       "      <td>1.7</td>\n",
       "      <td>7.0</td>\n",
       "      <td>Final Four</td>\n",
       "      <td>4.0</td>\n",
       "      <td>1</td>\n",
       "      <td>3.0</td>\n",
       "      <td>3.0</td>\n",
       "    </tr>\n",
       "    <tr>\n",
       "      <th>604</th>\n",
       "      <td>2017</td>\n",
       "      <td>Xavier</td>\n",
       "      <td>BE</td>\n",
       "      <td>34.0</td>\n",
       "      <td>21.0</td>\n",
       "      <td>13.0</td>\n",
       "      <td>0.618</td>\n",
       "      <td>114.5</td>\n",
       "      <td>97.3</td>\n",
       "      <td>51.6</td>\n",
       "      <td>...</td>\n",
       "      <td>36.4</td>\n",
       "      <td>39.2</td>\n",
       "      <td>68.7</td>\n",
       "      <td>1.6</td>\n",
       "      <td>11.0</td>\n",
       "      <td>Elite Eight</td>\n",
       "      <td>3.0</td>\n",
       "      <td>0</td>\n",
       "      <td>3.0</td>\n",
       "      <td>3.0</td>\n",
       "    </tr>\n",
       "    <tr>\n",
       "      <th>462</th>\n",
       "      <td>2015</td>\n",
       "      <td>Michigan St.</td>\n",
       "      <td>B10</td>\n",
       "      <td>34.0</td>\n",
       "      <td>23.0</td>\n",
       "      <td>11.0</td>\n",
       "      <td>0.676</td>\n",
       "      <td>114.8</td>\n",
       "      <td>92.6</td>\n",
       "      <td>53.8</td>\n",
       "      <td>...</td>\n",
       "      <td>34.7</td>\n",
       "      <td>35.3</td>\n",
       "      <td>64.1</td>\n",
       "      <td>3.0</td>\n",
       "      <td>7.0</td>\n",
       "      <td>Final Four</td>\n",
       "      <td>4.0</td>\n",
       "      <td>1</td>\n",
       "      <td>3.0</td>\n",
       "      <td>3.0</td>\n",
       "    </tr>\n",
       "    <tr>\n",
       "      <th>411</th>\n",
       "      <td>2014</td>\n",
       "      <td>Dayton</td>\n",
       "      <td>A10</td>\n",
       "      <td>33.0</td>\n",
       "      <td>23.0</td>\n",
       "      <td>10.0</td>\n",
       "      <td>0.697</td>\n",
       "      <td>113.2</td>\n",
       "      <td>100.6</td>\n",
       "      <td>52.6</td>\n",
       "      <td>...</td>\n",
       "      <td>31.6</td>\n",
       "      <td>32.1</td>\n",
       "      <td>65.4</td>\n",
       "      <td>0.7</td>\n",
       "      <td>11.0</td>\n",
       "      <td>Elite Eight</td>\n",
       "      <td>3.0</td>\n",
       "      <td>0</td>\n",
       "      <td>3.0</td>\n",
       "      <td>3.0</td>\n",
       "    </tr>\n",
       "    <tr>\n",
       "      <th>321</th>\n",
       "      <td>2013</td>\n",
       "      <td>Michigan</td>\n",
       "      <td>B10</td>\n",
       "      <td>32.0</td>\n",
       "      <td>25.0</td>\n",
       "      <td>7.0</td>\n",
       "      <td>0.781</td>\n",
       "      <td>120.4</td>\n",
       "      <td>95.0</td>\n",
       "      <td>54.4</td>\n",
       "      <td>...</td>\n",
       "      <td>34.0</td>\n",
       "      <td>35.0</td>\n",
       "      <td>64.8</td>\n",
       "      <td>6.2</td>\n",
       "      <td>4.0</td>\n",
       "      <td>Finals</td>\n",
       "      <td>5.0</td>\n",
       "      <td>2</td>\n",
       "      <td>3.0</td>\n",
       "      <td>3.0</td>\n",
       "    </tr>\n",
       "    <tr>\n",
       "      <th>155</th>\n",
       "      <td>2010</td>\n",
       "      <td>Michigan St.</td>\n",
       "      <td>B10</td>\n",
       "      <td>32.0</td>\n",
       "      <td>24.0</td>\n",
       "      <td>8.0</td>\n",
       "      <td>0.750</td>\n",
       "      <td>111.6</td>\n",
       "      <td>92.1</td>\n",
       "      <td>51.5</td>\n",
       "      <td>...</td>\n",
       "      <td>25.2</td>\n",
       "      <td>37.2</td>\n",
       "      <td>67.5</td>\n",
       "      <td>3.5</td>\n",
       "      <td>5.0</td>\n",
       "      <td>Final Four</td>\n",
       "      <td>4.0</td>\n",
       "      <td>1</td>\n",
       "      <td>3.0</td>\n",
       "      <td>3.0</td>\n",
       "    </tr>\n",
       "    <tr>\n",
       "      <th>31</th>\n",
       "      <td>2008</td>\n",
       "      <td>Davidson</td>\n",
       "      <td>SC</td>\n",
       "      <td>31.0</td>\n",
       "      <td>25.0</td>\n",
       "      <td>6.0</td>\n",
       "      <td>0.806</td>\n",
       "      <td>110.8</td>\n",
       "      <td>92.0</td>\n",
       "      <td>54.4</td>\n",
       "      <td>...</td>\n",
       "      <td>40.0</td>\n",
       "      <td>37.2</td>\n",
       "      <td>69.0</td>\n",
       "      <td>1.5</td>\n",
       "      <td>10.0</td>\n",
       "      <td>Elite Eight</td>\n",
       "      <td>3.0</td>\n",
       "      <td>0</td>\n",
       "      <td>3.0</td>\n",
       "      <td>3.0</td>\n",
       "    </tr>\n",
       "  </tbody>\n",
       "</table>\n",
       "<p>12 rows × 31 columns</p>\n",
       "</div>"
      ],
      "text/plain": [
       "     YEAR            TEAM CONF     G  WINS  LOSSES     W%  ADJOE  ADJDE  EFG%  \\\n",
       "709  2019          Auburn  SEC  34.0  25.0     9.0  0.735  119.4   95.9  54.2   \n",
       "732  2019      Texas Tech  B12  32.0  26.0     6.0  0.812  112.1   86.3  53.7   \n",
       "675  2018      Kansas St.  B12  33.0  22.0    11.0  0.667  112.3   95.8  53.5   \n",
       "669  2018        Michigan  B10  34.0  27.0     7.0  0.794  114.3   92.5  54.4   \n",
       "666  2018     Florida St.  ACC  31.0  20.0    11.0  0.645  114.5   98.4  53.9   \n",
       "633  2017  South Carolina  SEC  31.0  21.0    10.0  0.677  105.2   88.3  46.7   \n",
       "604  2017          Xavier   BE  34.0  21.0    13.0  0.618  114.5   97.3  51.6   \n",
       "462  2015    Michigan St.  B10  34.0  23.0    11.0  0.676  114.8   92.6  53.8   \n",
       "411  2014          Dayton  A10  33.0  23.0    10.0  0.697  113.2  100.6  52.6   \n",
       "321  2013        Michigan  B10  32.0  25.0     7.0  0.781  120.4   95.0  54.4   \n",
       "155  2010    Michigan St.  B10  32.0  24.0     8.0  0.750  111.6   92.1  51.5   \n",
       "31   2008        Davidson   SC  31.0  25.0     6.0  0.806  110.8   92.0  54.4   \n",
       "\n",
       "     ...   3PR  3PRD  ADJ T.  WAB  SEED       FINISH  T_WINS  \\\n",
       "709  ...  49.6  44.1    69.0  6.1   5.0   Final Four     4.0   \n",
       "732  ...  35.5  39.7    67.2  7.0   3.0       Finals     5.0   \n",
       "675  ...  36.8  39.7    66.5  2.5   9.0  Elite Eight     3.0   \n",
       "669  ...  43.1  30.2    65.7  6.9   3.0       Finals     5.0   \n",
       "666  ...  36.9  37.6    73.0  1.0   9.0  Elite Eight     3.0   \n",
       "633  ...  33.7  33.9    69.6  1.7   7.0   Final Four     4.0   \n",
       "604  ...  36.4  39.2    68.7  1.6  11.0  Elite Eight     3.0   \n",
       "462  ...  34.7  35.3    64.1  3.0   7.0   Final Four     4.0   \n",
       "411  ...  31.6  32.1    65.4  0.7  11.0  Elite Eight     3.0   \n",
       "321  ...  34.0  35.0    64.8  6.2   4.0       Finals     5.0   \n",
       "155  ...  25.2  37.2    67.5  3.5   5.0   Final Four     4.0   \n",
       "31   ...  40.0  37.2    69.0  1.5  10.0  Elite Eight     3.0   \n",
       "\n",
       "     Corrected_Expected_Wins  Cinderella  Adjusted_Cinderella  \n",
       "709                        1         3.0                  3.0  \n",
       "732                        2         3.0                  3.0  \n",
       "675                        0         3.0                  3.0  \n",
       "669                        2         3.0                  3.0  \n",
       "666                        0         3.0                  3.0  \n",
       "633                        1         3.0                  3.0  \n",
       "604                        0         3.0                  3.0  \n",
       "462                        1         3.0                  3.0  \n",
       "411                        0         3.0                  3.0  \n",
       "321                        2         3.0                  3.0  \n",
       "155                        1         3.0                  3.0  \n",
       "31                         0         3.0                  3.0  \n",
       "\n",
       "[12 rows x 31 columns]"
      ]
     },
     "execution_count": 10,
     "metadata": {},
     "output_type": "execute_result"
    }
   ],
   "source": [
    "cinderella_dfs[3].sort_values(by='YEAR', ascending=False)"
   ]
  },
  {
   "cell_type": "code",
   "execution_count": 11,
   "metadata": {},
   "outputs": [
    {
     "data": {
      "text/html": [
       "<div>\n",
       "<style scoped>\n",
       "    .dataframe tbody tr th:only-of-type {\n",
       "        vertical-align: middle;\n",
       "    }\n",
       "\n",
       "    .dataframe tbody tr th {\n",
       "        vertical-align: top;\n",
       "    }\n",
       "\n",
       "    .dataframe thead th {\n",
       "        text-align: right;\n",
       "    }\n",
       "</style>\n",
       "<table border=\"1\" class=\"dataframe\">\n",
       "  <thead>\n",
       "    <tr style=\"text-align: right;\">\n",
       "      <th></th>\n",
       "      <th>YEAR</th>\n",
       "      <th>TEAM</th>\n",
       "      <th>CONF</th>\n",
       "      <th>G</th>\n",
       "      <th>WINS</th>\n",
       "      <th>LOSSES</th>\n",
       "      <th>W%</th>\n",
       "      <th>ADJOE</th>\n",
       "      <th>ADJDE</th>\n",
       "      <th>EFG%</th>\n",
       "      <th>...</th>\n",
       "      <th>3PR</th>\n",
       "      <th>3PRD</th>\n",
       "      <th>ADJ T.</th>\n",
       "      <th>WAB</th>\n",
       "      <th>SEED</th>\n",
       "      <th>FINISH</th>\n",
       "      <th>T_WINS</th>\n",
       "      <th>Corrected_Expected_Wins</th>\n",
       "      <th>Cinderella</th>\n",
       "      <th>Adjusted_Cinderella</th>\n",
       "    </tr>\n",
       "  </thead>\n",
       "  <tbody>\n",
       "    <tr>\n",
       "      <th>683</th>\n",
       "      <td>2018</td>\n",
       "      <td>Loyola Chicago</td>\n",
       "      <td>MVC</td>\n",
       "      <td>32.0</td>\n",
       "      <td>27.0</td>\n",
       "      <td>5.0</td>\n",
       "      <td>0.844</td>\n",
       "      <td>109.0</td>\n",
       "      <td>96.8</td>\n",
       "      <td>57.8</td>\n",
       "      <td>...</td>\n",
       "      <td>35.7</td>\n",
       "      <td>36.4</td>\n",
       "      <td>66.5</td>\n",
       "      <td>2.0</td>\n",
       "      <td>11.0</td>\n",
       "      <td>Final Four</td>\n",
       "      <td>4.0</td>\n",
       "      <td>0</td>\n",
       "      <td>4.0</td>\n",
       "      <td>4.0</td>\n",
       "    </tr>\n",
       "    <tr>\n",
       "      <th>546</th>\n",
       "      <td>2016</td>\n",
       "      <td>Syracuse</td>\n",
       "      <td>ACC</td>\n",
       "      <td>32.0</td>\n",
       "      <td>19.0</td>\n",
       "      <td>13.0</td>\n",
       "      <td>0.594</td>\n",
       "      <td>110.8</td>\n",
       "      <td>94.6</td>\n",
       "      <td>50.4</td>\n",
       "      <td>...</td>\n",
       "      <td>43.2</td>\n",
       "      <td>40.3</td>\n",
       "      <td>65.7</td>\n",
       "      <td>-0.3</td>\n",
       "      <td>10.0</td>\n",
       "      <td>Final Four</td>\n",
       "      <td>4.0</td>\n",
       "      <td>0</td>\n",
       "      <td>4.0</td>\n",
       "      <td>4.0</td>\n",
       "    </tr>\n",
       "    <tr>\n",
       "      <th>401</th>\n",
       "      <td>2014</td>\n",
       "      <td>Kentucky</td>\n",
       "      <td>SEC</td>\n",
       "      <td>34.0</td>\n",
       "      <td>24.0</td>\n",
       "      <td>10.0</td>\n",
       "      <td>0.706</td>\n",
       "      <td>115.9</td>\n",
       "      <td>95.7</td>\n",
       "      <td>49.7</td>\n",
       "      <td>...</td>\n",
       "      <td>28.0</td>\n",
       "      <td>29.4</td>\n",
       "      <td>66.5</td>\n",
       "      <td>4.0</td>\n",
       "      <td>8.0</td>\n",
       "      <td>Finals</td>\n",
       "      <td>5.0</td>\n",
       "      <td>1</td>\n",
       "      <td>4.0</td>\n",
       "      <td>4.0</td>\n",
       "    </tr>\n",
       "    <tr>\n",
       "      <th>360</th>\n",
       "      <td>2013</td>\n",
       "      <td>Wichita St.</td>\n",
       "      <td>MVC</td>\n",
       "      <td>34.0</td>\n",
       "      <td>26.0</td>\n",
       "      <td>8.0</td>\n",
       "      <td>0.765</td>\n",
       "      <td>107.8</td>\n",
       "      <td>91.6</td>\n",
       "      <td>50.2</td>\n",
       "      <td>...</td>\n",
       "      <td>35.2</td>\n",
       "      <td>36.2</td>\n",
       "      <td>64.8</td>\n",
       "      <td>2.3</td>\n",
       "      <td>9.0</td>\n",
       "      <td>Final Four</td>\n",
       "      <td>4.0</td>\n",
       "      <td>0</td>\n",
       "      <td>4.0</td>\n",
       "      <td>4.0</td>\n",
       "    </tr>\n",
       "    <tr>\n",
       "      <th>232</th>\n",
       "      <td>2011</td>\n",
       "      <td>VCU</td>\n",
       "      <td>CAA</td>\n",
       "      <td>34.0</td>\n",
       "      <td>23.0</td>\n",
       "      <td>11.0</td>\n",
       "      <td>0.676</td>\n",
       "      <td>108.8</td>\n",
       "      <td>100.6</td>\n",
       "      <td>50.9</td>\n",
       "      <td>...</td>\n",
       "      <td>40.8</td>\n",
       "      <td>29.1</td>\n",
       "      <td>66.9</td>\n",
       "      <td>-1.9</td>\n",
       "      <td>11.0</td>\n",
       "      <td>Final Four</td>\n",
       "      <td>4.0</td>\n",
       "      <td>0</td>\n",
       "      <td>4.0</td>\n",
       "      <td>4.0</td>\n",
       "    </tr>\n",
       "    <tr>\n",
       "      <th>216</th>\n",
       "      <td>2011</td>\n",
       "      <td>Butler</td>\n",
       "      <td>Horz</td>\n",
       "      <td>31.0</td>\n",
       "      <td>22.0</td>\n",
       "      <td>9.0</td>\n",
       "      <td>0.710</td>\n",
       "      <td>111.6</td>\n",
       "      <td>96.5</td>\n",
       "      <td>51.0</td>\n",
       "      <td>...</td>\n",
       "      <td>36.9</td>\n",
       "      <td>36.1</td>\n",
       "      <td>64.9</td>\n",
       "      <td>-0.4</td>\n",
       "      <td>8.0</td>\n",
       "      <td>Finals</td>\n",
       "      <td>5.0</td>\n",
       "      <td>1</td>\n",
       "      <td>4.0</td>\n",
       "      <td>4.0</td>\n",
       "    </tr>\n",
       "    <tr>\n",
       "      <th>206</th>\n",
       "      <td>2011</td>\n",
       "      <td>Connecticut</td>\n",
       "      <td>BE</td>\n",
       "      <td>35.0</td>\n",
       "      <td>26.0</td>\n",
       "      <td>9.0</td>\n",
       "      <td>0.743</td>\n",
       "      <td>113.8</td>\n",
       "      <td>93.9</td>\n",
       "      <td>48.1</td>\n",
       "      <td>...</td>\n",
       "      <td>29.3</td>\n",
       "      <td>31.1</td>\n",
       "      <td>66.2</td>\n",
       "      <td>6.8</td>\n",
       "      <td>3.0</td>\n",
       "      <td>CHAMPS</td>\n",
       "      <td>6.0</td>\n",
       "      <td>2</td>\n",
       "      <td>4.0</td>\n",
       "      <td>4.0</td>\n",
       "    </tr>\n",
       "    <tr>\n",
       "      <th>167</th>\n",
       "      <td>2010</td>\n",
       "      <td>Butler</td>\n",
       "      <td>Horz</td>\n",
       "      <td>32.0</td>\n",
       "      <td>28.0</td>\n",
       "      <td>4.0</td>\n",
       "      <td>0.875</td>\n",
       "      <td>109.2</td>\n",
       "      <td>90.6</td>\n",
       "      <td>52.0</td>\n",
       "      <td>...</td>\n",
       "      <td>39.4</td>\n",
       "      <td>31.7</td>\n",
       "      <td>65.1</td>\n",
       "      <td>4.6</td>\n",
       "      <td>5.0</td>\n",
       "      <td>Finals</td>\n",
       "      <td>5.0</td>\n",
       "      <td>1</td>\n",
       "      <td>4.0</td>\n",
       "      <td>4.0</td>\n",
       "    </tr>\n",
       "  </tbody>\n",
       "</table>\n",
       "<p>8 rows × 31 columns</p>\n",
       "</div>"
      ],
      "text/plain": [
       "     YEAR            TEAM  CONF     G  WINS  LOSSES     W%  ADJOE  ADJDE  \\\n",
       "683  2018  Loyola Chicago   MVC  32.0  27.0     5.0  0.844  109.0   96.8   \n",
       "546  2016        Syracuse   ACC  32.0  19.0    13.0  0.594  110.8   94.6   \n",
       "401  2014        Kentucky   SEC  34.0  24.0    10.0  0.706  115.9   95.7   \n",
       "360  2013     Wichita St.   MVC  34.0  26.0     8.0  0.765  107.8   91.6   \n",
       "232  2011             VCU   CAA  34.0  23.0    11.0  0.676  108.8  100.6   \n",
       "216  2011          Butler  Horz  31.0  22.0     9.0  0.710  111.6   96.5   \n",
       "206  2011     Connecticut    BE  35.0  26.0     9.0  0.743  113.8   93.9   \n",
       "167  2010          Butler  Horz  32.0  28.0     4.0  0.875  109.2   90.6   \n",
       "\n",
       "     EFG%  ...   3PR  3PRD  ADJ T.  WAB  SEED      FINISH  T_WINS  \\\n",
       "683  57.8  ...  35.7  36.4    66.5  2.0  11.0  Final Four     4.0   \n",
       "546  50.4  ...  43.2  40.3    65.7 -0.3  10.0  Final Four     4.0   \n",
       "401  49.7  ...  28.0  29.4    66.5  4.0   8.0      Finals     5.0   \n",
       "360  50.2  ...  35.2  36.2    64.8  2.3   9.0  Final Four     4.0   \n",
       "232  50.9  ...  40.8  29.1    66.9 -1.9  11.0  Final Four     4.0   \n",
       "216  51.0  ...  36.9  36.1    64.9 -0.4   8.0      Finals     5.0   \n",
       "206  48.1  ...  29.3  31.1    66.2  6.8   3.0      CHAMPS     6.0   \n",
       "167  52.0  ...  39.4  31.7    65.1  4.6   5.0      Finals     5.0   \n",
       "\n",
       "     Corrected_Expected_Wins  Cinderella  Adjusted_Cinderella  \n",
       "683                        0         4.0                  4.0  \n",
       "546                        0         4.0                  4.0  \n",
       "401                        1         4.0                  4.0  \n",
       "360                        0         4.0                  4.0  \n",
       "232                        0         4.0                  4.0  \n",
       "216                        1         4.0                  4.0  \n",
       "206                        2         4.0                  4.0  \n",
       "167                        1         4.0                  4.0  \n",
       "\n",
       "[8 rows x 31 columns]"
      ]
     },
     "execution_count": 11,
     "metadata": {},
     "output_type": "execute_result"
    }
   ],
   "source": [
    "cinderella_dfs[4].sort_values(by='YEAR', ascending=False)"
   ]
  },
  {
   "cell_type": "code",
   "execution_count": 12,
   "metadata": {},
   "outputs": [
    {
     "data": {
      "text/html": [
       "<div>\n",
       "<style scoped>\n",
       "    .dataframe tbody tr th:only-of-type {\n",
       "        vertical-align: middle;\n",
       "    }\n",
       "\n",
       "    .dataframe tbody tr th {\n",
       "        vertical-align: top;\n",
       "    }\n",
       "\n",
       "    .dataframe thead th {\n",
       "        text-align: right;\n",
       "    }\n",
       "</style>\n",
       "<table border=\"1\" class=\"dataframe\">\n",
       "  <thead>\n",
       "    <tr style=\"text-align: right;\">\n",
       "      <th></th>\n",
       "      <th>YEAR</th>\n",
       "      <th>TEAM</th>\n",
       "      <th>CONF</th>\n",
       "      <th>G</th>\n",
       "      <th>WINS</th>\n",
       "      <th>LOSSES</th>\n",
       "      <th>W%</th>\n",
       "      <th>ADJOE</th>\n",
       "      <th>ADJDE</th>\n",
       "      <th>EFG%</th>\n",
       "      <th>...</th>\n",
       "      <th>3PR</th>\n",
       "      <th>3PRD</th>\n",
       "      <th>ADJ T.</th>\n",
       "      <th>WAB</th>\n",
       "      <th>SEED</th>\n",
       "      <th>FINISH</th>\n",
       "      <th>T_WINS</th>\n",
       "      <th>Corrected_Expected_Wins</th>\n",
       "      <th>Cinderella</th>\n",
       "      <th>Adjusted_Cinderella</th>\n",
       "    </tr>\n",
       "  </thead>\n",
       "  <tbody>\n",
       "    <tr>\n",
       "      <th>418</th>\n",
       "      <td>2014</td>\n",
       "      <td>Connecticut</td>\n",
       "      <td>Amer</td>\n",
       "      <td>34.0</td>\n",
       "      <td>26.0</td>\n",
       "      <td>8.0</td>\n",
       "      <td>0.765</td>\n",
       "      <td>111.6</td>\n",
       "      <td>92.8</td>\n",
       "      <td>51.4</td>\n",
       "      <td>...</td>\n",
       "      <td>33.8</td>\n",
       "      <td>31.6</td>\n",
       "      <td>65.1</td>\n",
       "      <td>4.8</td>\n",
       "      <td>7.0</td>\n",
       "      <td>CHAMPS</td>\n",
       "      <td>6.0</td>\n",
       "      <td>1</td>\n",
       "      <td>5.0</td>\n",
       "      <td>5.0</td>\n",
       "    </tr>\n",
       "  </tbody>\n",
       "</table>\n",
       "<p>1 rows × 31 columns</p>\n",
       "</div>"
      ],
      "text/plain": [
       "     YEAR         TEAM  CONF     G  WINS  LOSSES     W%  ADJOE  ADJDE  EFG%  \\\n",
       "418  2014  Connecticut  Amer  34.0  26.0     8.0  0.765  111.6   92.8  51.4   \n",
       "\n",
       "     ...   3PR  3PRD  ADJ T.  WAB  SEED  FINISH  T_WINS  \\\n",
       "418  ...  33.8  31.6    65.1  4.8   7.0  CHAMPS     6.0   \n",
       "\n",
       "     Corrected_Expected_Wins  Cinderella  Adjusted_Cinderella  \n",
       "418                        1         5.0                  5.0  \n",
       "\n",
       "[1 rows x 31 columns]"
      ]
     },
     "execution_count": 12,
     "metadata": {},
     "output_type": "execute_result"
    }
   ],
   "source": [
    "cinderella_dfs[5].sort_values(by='YEAR', ascending=False)"
   ]
  },
  {
   "cell_type": "code",
   "execution_count": 13,
   "metadata": {},
   "outputs": [
    {
     "data": {
      "text/html": [
       "<div>\n",
       "<style scoped>\n",
       "    .dataframe tbody tr th:only-of-type {\n",
       "        vertical-align: middle;\n",
       "    }\n",
       "\n",
       "    .dataframe tbody tr th {\n",
       "        vertical-align: top;\n",
       "    }\n",
       "\n",
       "    .dataframe thead th {\n",
       "        text-align: right;\n",
       "    }\n",
       "</style>\n",
       "<table border=\"1\" class=\"dataframe\">\n",
       "  <thead>\n",
       "    <tr style=\"text-align: right;\">\n",
       "      <th></th>\n",
       "      <th>School Identifier</th>\n",
       "      <th>Year</th>\n",
       "      <th>Cinderella_0 (Y)</th>\n",
       "      <th>Cinderella_1 (Y)</th>\n",
       "      <th>Cinderella_2 (Y)</th>\n",
       "      <th>Cinderella_3+ (Y)</th>\n",
       "      <th>March Madness Participation (Y)</th>\n",
       "      <th>SAT_AVG (Y to Y+1)</th>\n",
       "      <th>Admission Rate (Y to Y+1)</th>\n",
       "      <th>Undergraduate Size (Y to Y+1)</th>\n",
       "      <th>SAT_AVG (Y+1 to Y+2)</th>\n",
       "      <th>Admission Rate (Y+1 to Y+2)</th>\n",
       "      <th>SAT_AVG (Y+2 to Y+3)</th>\n",
       "      <th>Admission Rate (Y+2 to Y+3)</th>\n",
       "    </tr>\n",
       "  </thead>\n",
       "  <tbody>\n",
       "    <tr>\n",
       "      <th>0</th>\n",
       "      <td>Connecticut</td>\n",
       "      <td>2008</td>\n",
       "      <td>1</td>\n",
       "      <td>0</td>\n",
       "      <td>0</td>\n",
       "      <td>0</td>\n",
       "      <td>1</td>\n",
       "      <td>0.0</td>\n",
       "      <td>0.0</td>\n",
       "      <td>0.0</td>\n",
       "      <td>0.0</td>\n",
       "      <td>0.0</td>\n",
       "      <td>0.0</td>\n",
       "      <td>0.0</td>\n",
       "    </tr>\n",
       "    <tr>\n",
       "      <th>1</th>\n",
       "      <td>Connecticut</td>\n",
       "      <td>2009</td>\n",
       "      <td>1</td>\n",
       "      <td>0</td>\n",
       "      <td>0</td>\n",
       "      <td>0</td>\n",
       "      <td>1</td>\n",
       "      <td>0.0</td>\n",
       "      <td>0.0</td>\n",
       "      <td>0.0</td>\n",
       "      <td>0.0</td>\n",
       "      <td>0.0</td>\n",
       "      <td>0.0</td>\n",
       "      <td>0.0</td>\n",
       "    </tr>\n",
       "    <tr>\n",
       "      <th>2</th>\n",
       "      <td>Connecticut</td>\n",
       "      <td>2010</td>\n",
       "      <td>0</td>\n",
       "      <td>0</td>\n",
       "      <td>0</td>\n",
       "      <td>0</td>\n",
       "      <td>0</td>\n",
       "      <td>0.0</td>\n",
       "      <td>0.0</td>\n",
       "      <td>0.0</td>\n",
       "      <td>0.0</td>\n",
       "      <td>0.0</td>\n",
       "      <td>0.0</td>\n",
       "      <td>0.0</td>\n",
       "    </tr>\n",
       "    <tr>\n",
       "      <th>3</th>\n",
       "      <td>Connecticut</td>\n",
       "      <td>2011</td>\n",
       "      <td>0</td>\n",
       "      <td>0</td>\n",
       "      <td>0</td>\n",
       "      <td>1</td>\n",
       "      <td>1</td>\n",
       "      <td>0.0</td>\n",
       "      <td>0.0</td>\n",
       "      <td>0.0</td>\n",
       "      <td>0.0</td>\n",
       "      <td>0.0</td>\n",
       "      <td>0.0</td>\n",
       "      <td>0.0</td>\n",
       "    </tr>\n",
       "    <tr>\n",
       "      <th>4</th>\n",
       "      <td>Connecticut</td>\n",
       "      <td>2012</td>\n",
       "      <td>1</td>\n",
       "      <td>0</td>\n",
       "      <td>0</td>\n",
       "      <td>0</td>\n",
       "      <td>1</td>\n",
       "      <td>0.0</td>\n",
       "      <td>0.0</td>\n",
       "      <td>0.0</td>\n",
       "      <td>0.0</td>\n",
       "      <td>0.0</td>\n",
       "      <td>0.0</td>\n",
       "      <td>0.0</td>\n",
       "    </tr>\n",
       "    <tr>\n",
       "      <th>...</th>\n",
       "      <td>...</td>\n",
       "      <td>...</td>\n",
       "      <td>...</td>\n",
       "      <td>...</td>\n",
       "      <td>...</td>\n",
       "      <td>...</td>\n",
       "      <td>...</td>\n",
       "      <td>...</td>\n",
       "      <td>...</td>\n",
       "      <td>...</td>\n",
       "      <td>...</td>\n",
       "      <td>...</td>\n",
       "      <td>...</td>\n",
       "      <td>...</td>\n",
       "    </tr>\n",
       "    <tr>\n",
       "      <th>2683</th>\n",
       "      <td>SMU</td>\n",
       "      <td>2015</td>\n",
       "      <td>1</td>\n",
       "      <td>0</td>\n",
       "      <td>0</td>\n",
       "      <td>0</td>\n",
       "      <td>1</td>\n",
       "      <td>0.0</td>\n",
       "      <td>0.0</td>\n",
       "      <td>0.0</td>\n",
       "      <td>0.0</td>\n",
       "      <td>0.0</td>\n",
       "      <td>0.0</td>\n",
       "      <td>0.0</td>\n",
       "    </tr>\n",
       "    <tr>\n",
       "      <th>2684</th>\n",
       "      <td>SMU</td>\n",
       "      <td>2016</td>\n",
       "      <td>0</td>\n",
       "      <td>0</td>\n",
       "      <td>0</td>\n",
       "      <td>0</td>\n",
       "      <td>0</td>\n",
       "      <td>0.0</td>\n",
       "      <td>0.0</td>\n",
       "      <td>0.0</td>\n",
       "      <td>0.0</td>\n",
       "      <td>0.0</td>\n",
       "      <td>0.0</td>\n",
       "      <td>0.0</td>\n",
       "    </tr>\n",
       "    <tr>\n",
       "      <th>2685</th>\n",
       "      <td>SMU</td>\n",
       "      <td>2017</td>\n",
       "      <td>1</td>\n",
       "      <td>0</td>\n",
       "      <td>0</td>\n",
       "      <td>0</td>\n",
       "      <td>1</td>\n",
       "      <td>0.0</td>\n",
       "      <td>0.0</td>\n",
       "      <td>0.0</td>\n",
       "      <td>0.0</td>\n",
       "      <td>0.0</td>\n",
       "      <td>0.0</td>\n",
       "      <td>0.0</td>\n",
       "    </tr>\n",
       "    <tr>\n",
       "      <th>2686</th>\n",
       "      <td>SMU</td>\n",
       "      <td>2018</td>\n",
       "      <td>0</td>\n",
       "      <td>0</td>\n",
       "      <td>0</td>\n",
       "      <td>0</td>\n",
       "      <td>0</td>\n",
       "      <td>0.0</td>\n",
       "      <td>0.0</td>\n",
       "      <td>0.0</td>\n",
       "      <td>0.0</td>\n",
       "      <td>0.0</td>\n",
       "      <td>0.0</td>\n",
       "      <td>0.0</td>\n",
       "    </tr>\n",
       "    <tr>\n",
       "      <th>2687</th>\n",
       "      <td>SMU</td>\n",
       "      <td>2019</td>\n",
       "      <td>0</td>\n",
       "      <td>0</td>\n",
       "      <td>0</td>\n",
       "      <td>0</td>\n",
       "      <td>0</td>\n",
       "      <td>0.0</td>\n",
       "      <td>0.0</td>\n",
       "      <td>0.0</td>\n",
       "      <td>0.0</td>\n",
       "      <td>0.0</td>\n",
       "      <td>0.0</td>\n",
       "      <td>0.0</td>\n",
       "    </tr>\n",
       "  </tbody>\n",
       "</table>\n",
       "<p>2688 rows × 14 columns</p>\n",
       "</div>"
      ],
      "text/plain": [
       "     School Identifier  Year  Cinderella_0 (Y)  Cinderella_1 (Y)  \\\n",
       "0          Connecticut  2008                 1                 0   \n",
       "1          Connecticut  2009                 1                 0   \n",
       "2          Connecticut  2010                 0                 0   \n",
       "3          Connecticut  2011                 0                 0   \n",
       "4          Connecticut  2012                 1                 0   \n",
       "...                ...   ...               ...               ...   \n",
       "2683               SMU  2015                 1                 0   \n",
       "2684               SMU  2016                 0                 0   \n",
       "2685               SMU  2017                 1                 0   \n",
       "2686               SMU  2018                 0                 0   \n",
       "2687               SMU  2019                 0                 0   \n",
       "\n",
       "      Cinderella_2 (Y)  Cinderella_3+ (Y)  March Madness Participation (Y)  \\\n",
       "0                    0                  0                                1   \n",
       "1                    0                  0                                1   \n",
       "2                    0                  0                                0   \n",
       "3                    0                  1                                1   \n",
       "4                    0                  0                                1   \n",
       "...                ...                ...                              ...   \n",
       "2683                 0                  0                                1   \n",
       "2684                 0                  0                                0   \n",
       "2685                 0                  0                                1   \n",
       "2686                 0                  0                                0   \n",
       "2687                 0                  0                                0   \n",
       "\n",
       "      SAT_AVG (Y to Y+1)  Admission Rate (Y to Y+1)  \\\n",
       "0                    0.0                        0.0   \n",
       "1                    0.0                        0.0   \n",
       "2                    0.0                        0.0   \n",
       "3                    0.0                        0.0   \n",
       "4                    0.0                        0.0   \n",
       "...                  ...                        ...   \n",
       "2683                 0.0                        0.0   \n",
       "2684                 0.0                        0.0   \n",
       "2685                 0.0                        0.0   \n",
       "2686                 0.0                        0.0   \n",
       "2687                 0.0                        0.0   \n",
       "\n",
       "      Undergraduate Size (Y to Y+1)  SAT_AVG (Y+1 to Y+2)  \\\n",
       "0                               0.0                   0.0   \n",
       "1                               0.0                   0.0   \n",
       "2                               0.0                   0.0   \n",
       "3                               0.0                   0.0   \n",
       "4                               0.0                   0.0   \n",
       "...                             ...                   ...   \n",
       "2683                            0.0                   0.0   \n",
       "2684                            0.0                   0.0   \n",
       "2685                            0.0                   0.0   \n",
       "2686                            0.0                   0.0   \n",
       "2687                            0.0                   0.0   \n",
       "\n",
       "      Admission Rate (Y+1 to Y+2)  SAT_AVG (Y+2 to Y+3)  \\\n",
       "0                             0.0                   0.0   \n",
       "1                             0.0                   0.0   \n",
       "2                             0.0                   0.0   \n",
       "3                             0.0                   0.0   \n",
       "4                             0.0                   0.0   \n",
       "...                           ...                   ...   \n",
       "2683                          0.0                   0.0   \n",
       "2684                          0.0                   0.0   \n",
       "2685                          0.0                   0.0   \n",
       "2686                          0.0                   0.0   \n",
       "2687                          0.0                   0.0   \n",
       "\n",
       "      Admission Rate (Y+2 to Y+3)  \n",
       "0                             0.0  \n",
       "1                             0.0  \n",
       "2                             0.0  \n",
       "3                             0.0  \n",
       "4                             0.0  \n",
       "...                           ...  \n",
       "2683                          0.0  \n",
       "2684                          0.0  \n",
       "2685                          0.0  \n",
       "2686                          0.0  \n",
       "2687                          0.0  \n",
       "\n",
       "[2688 rows x 14 columns]"
      ]
     },
     "execution_count": 13,
     "metadata": {},
     "output_type": "execute_result"
    }
   ],
   "source": [
    "teams = df2['TEAM'].unique()\n",
    "\n",
    "# Years of interest from 2008 to 2019\n",
    "years = range(2008, 2020)\n",
    "\n",
    "# Initialize an empty DataFrame to store the processed data\n",
    "columns = ['School Identifier', 'Year', 'Cinderella_0 (Y)', 'Cinderella_1 (Y)', 'Cinderella_2 (Y)','Cinderella_3+ (Y)', 'March Madness Participation (Y)', 'SAT_AVG (Y to Y+1)','Admission Rate (Y to Y+1)','Undergraduate Size (Y to Y+1)', 'SAT_AVG (Y+1 to Y+2)', 'Admission Rate (Y+1 to Y+2)', 'SAT_AVG (Y+2 to Y+3)', 'Admission Rate (Y+2 to Y+3)']\n",
    "processed_data = pd.DataFrame(columns=columns)\n",
    "\n",
    "# Loop through each team and each year\n",
    "for team in teams:\n",
    "    for year in years:\n",
    "        team_year_data = df2[(df2['TEAM'] == team) & (df2['YEAR'] == year)]\n",
    "        if not team_year_data.empty:\n",
    "            # There is data for this team and year\n",
    "            for index, row in team_year_data.iterrows():\n",
    "                # Determine the Cinderella dummy variables based on the rating\n",
    "                cinderella_0 = 1 if row['Cinderella'] <= 0 else 0\n",
    "                cinderella_1 = 1 if row['Cinderella'] == 1 else 0\n",
    "                cinderella_2 = 1 if row['Cinderella'] == 2 else 0\n",
    "                cinderella_3_plus = 1 if row['Cinderella'] >= 3 else 0\n",
    "\n",
    "                processed_data.loc[len(processed_data)] = {\n",
    "                    'School Identifier': team,\n",
    "                    'Year': year,\n",
    "                    'Cinderella_0 (Y)': cinderella_0,\n",
    "                    'Cinderella_1 (Y)': cinderella_1,\n",
    "                    'Cinderella_2 (Y)': cinderella_2,\n",
    "                    'Cinderella_3+ (Y)': cinderella_3_plus,\n",
    "                    'March Madness Participation (Y)': 1,\n",
    "                    'SAT_AVG (Y to Y+1)': 0.0,  # Replace 0.0 with the actual data if available\n",
    "                    'Admission Rate (Y to Y+1)': 0.0,  # Replace 0.0 with the actual data if available\n",
    "                    'Undergraduate Size (Y to Y+1)': 0.0,  # Replace 0.0 with the actual data if available\n",
    "                    'SAT_AVG (Y+1 to Y+2)': 0.0,  # Replace 0.0 with the actual data if available\n",
    "                    'Admission Rate (Y+1 to Y+2)': 0.0, # Replace 0.0 with the actual data if available\n",
    "                    'SAT_AVG (Y+2 to Y+3)': 0.0,  # Replace 0.0 with the actual data if available\n",
    "                    'Admission Rate (Y+2 to Y+3)': 0.0  # Replace 0.0 with the actual data if available\n",
    "                }\n",
    "        else:\n",
    "            # No data for this team and year, use defaults\n",
    "            processed_data.loc[len(processed_data)] = {\n",
    "                'School Identifier': team,\n",
    "                'Year': year,\n",
    "                'Cinderella_0 (Y)': 0,  # Default to 1 as no data means not a Cinderella\n",
    "                'Cinderella_1 (Y)': 0,\n",
    "                'Cinderella_2 (Y)': 0,\n",
    "                'Cinderella_3+ (Y)': 0,\n",
    "                'March Madness Participation (Y)': 0,\n",
    "                'SAT_AVG (Y to Y+1)': 0.0,\n",
    "                'Admission Rate (Y to Y+1)': 0.0,\n",
    "                'Undergraduate Size (Y to Y+1)': 0.0,  # Replace 0.0 with the actual data if available\n",
    "                'SAT_AVG (Y+1 to Y+2)': 0.0,  # Replace 0.0 with the actual data if available\n",
    "                'Admission Rate (Y+1 to Y+2)': 0.0,  # Replace 0.0 with the actual data if available\n",
    "                'SAT_AVG (Y+2 to Y+3)': 0.0,  # Replace 0.0 with the actual data if available\n",
    "                'Admission Rate (Y+2 to Y+3)': 0.0  # Replace 0.0 with the actual data if available\n",
    "            }\n",
    "\n",
    "processed_data #2008-2009 students (that's why the column is named (Y to Y+1)) have already made their decision before the 2008 March Madness Tournament"
   ]
  },
  {
   "cell_type": "code",
   "execution_count": 14,
   "metadata": {},
   "outputs": [
    {
     "data": {
      "text/plain": [
       "224"
      ]
     },
     "execution_count": 14,
     "metadata": {},
     "output_type": "execute_result"
    }
   ],
   "source": [
    "college_names = {\n",
    "    'Connecticut': 'University of Connecticut',\n",
    "    'VCU': 'Virginia Commonwealth University',\n",
    "    'Syracuse': 'Syracuse University',\n",
    "    'Wichita St.': 'Wichita State University',\n",
    "    'Loyola Chicago': 'Loyola University Chicago',\n",
    "    'Kentucky': 'University of Kentucky',\n",
    "    'Butler': 'Butler University',\n",
    "    'Kansas St.': 'Kansas State University',\n",
    "    'Dayton': 'University of Dayton',\n",
    "    'Auburn': 'Auburn University',\n",
    "    'Texas Tech': 'Texas Tech University',\n",
    "    'Davidson': 'Davidson College',\n",
    "    'Michigan': 'University of Michigan-Ann Arbor',\n",
    "    'Michigan St.': 'Michigan State University',\n",
    "    'Florida St.': 'Florida State University',\n",
    "    'South Carolina': 'University of South Carolina-Columbia',\n",
    "    'Xavier': 'Xavier University',\n",
    "    'North Carolina St.': 'North Carolina State University at Raleigh',\n",
    "    \"Saint Mary's\": \"Saint Mary's College of California\",\n",
    "    'UCLA': 'University of California-Los Angeles',\n",
    "    'Florida': 'University of Florida',\n",
    "    'Villanova': 'Villanova University',\n",
    "    'Notre Dame': 'University of Notre Dame',\n",
    "    'Arizona': 'University of Arizona',\n",
    "    'Cornell': 'Cornell University',\n",
    "    'Washington': 'University of Washington-Seattle Campus',\n",
    "    'Gonzaga': 'Gonzaga University',\n",
    "    'Richmond': 'University of Richmond',\n",
    "    'Oregon': 'University of Oregon',\n",
    "    'Northern Iowa': 'University of Northern Iowa',\n",
    "    'Tennessee': 'The University of Tennessee-Knoxville',\n",
    "    'Marquette': 'Marquette University',\n",
    "    'Florida Gulf Coast': 'Florida Gulf Coast University',\n",
    "    'Western Kentucky': 'Western Kentucky University',\n",
    "    'Louisville': 'University of Louisville',\n",
    "    'La Salle': 'La Salle University',\n",
    "    'Stanford': 'Stanford University',\n",
    "    'Ohio': 'Ohio University-Main Campus',\n",
    "    'Minnesota': 'University of Minnesota-Twin Cities',\n",
    "    'Little Rock': 'University of Arkansas at Little Rock',\n",
    "    'Hawaii': 'University of Hawaii at Manoa',\n",
    "    'Harvard': 'Harvard University',\n",
    "    'Temple': 'Temple University',\n",
    "    'Yale': 'Yale University',\n",
    "    'Middle Tennessee': 'Middle Tennessee State University',\n",
    "    'North Carolina': 'University of North Carolina at Chapel Hill',\n",
    "    'Murray St.': 'Murray State University',\n",
    "    'Wake Forest': 'Wake Forest University',\n",
    "    'Utah': 'University of Utah',\n",
    "    'Old Dominion': 'Old Dominion University',\n",
    "    'Mississippi': 'University of Mississippi',\n",
    "    'California': 'University of California-Berkeley',\n",
    "    'Rhode Island': 'University of Rhode Island',\n",
    "    'USC': 'University of Southern California',\n",
    "    'Wisconsin': 'University of Wisconsin-Madison',\n",
    "    'Baylor': 'Baylor University',\n",
    "    'Pittsburgh': 'University of Pittsburgh-Pittsburgh Campus',\n",
    "    'Missouri': 'University of Missouri-Columbia',\n",
    "    'North Dakota St.': 'North Dakota State University-Main Campus',\n",
    "    'Georgia Tech': 'Georgia Institute of Technology-Main Campus',\n",
    "    'Stephen F. Austin': 'Stephen F Austin State University',\n",
    "    'Illinois': 'University of Illinois Urbana-Champaign',\n",
    "    'West Virginia': 'West Virginia University',\n",
    "    'Purdue': 'Purdue University-Main Campus',\n",
    "    'Kansas': 'University of Kansas',\n",
    "    'Georgia St.': 'Georgia State University',\n",
    "    'Lehigh': 'Lehigh University',\n",
    "    'Duke': 'Duke University',\n",
    "    'Saint Louis': 'Saint Louis University',\n",
    "    'Ohio St.': 'Ohio State University-Main Campus',\n",
    "    'UAB': 'University of Alabama at Birmingham',\n",
    "    'Providence': 'Providence College',\n",
    "    'Cincinnati': 'University of Cincinnati-Main Campus',\n",
    "    'Iowa St.': 'Iowa State University',\n",
    "    'Maryland': 'University of Maryland-College Park',\n",
    "    'Morehead St.': 'Morehead State University',\n",
    "    'Mercer': 'Mercer University',\n",
    "    'Norfolk St.': 'Norfolk State University',\n",
    "    'South Florida': 'University of South Florida',\n",
    "    'Colorado': 'University of Colorado Boulder',\n",
    "    'Indiana': 'Indiana University-Bloomington',\n",
    "    'San Diego': 'University of San Diego',\n",
    "    'Texas A&M': 'Texas A & M University-College Station',\n",
    "    'Arkansas': 'University of Arkansas',\n",
    "    'Alabama': 'The University of Alabama',\n",
    "    'Liberty': 'Liberty University',\n",
    "    'Oklahoma': 'University of Oklahoma-Norman Campus',\n",
    "    'Siena': 'Siena College',\n",
    "    'Marshall': 'Marshall University',\n",
    "    'Buffalo': 'University at Buffalo',\n",
    "    'Clemson': 'Clemson University',\n",
    "    'UCF': 'University of Central Florida',\n",
    "    'Cleveland St.': 'Cleveland State University',\n",
    "    'Iowa': 'University of Iowa',\n",
    "    'UC Irvine': 'University of California-Irvine',\n",
    "    'Virginia': 'University of Virginia-Main Campus',\n",
    "    'Nevada': 'University of Nevada-Reno',\n",
    "    'UMBC': 'University of Maryland-Baltimore County',\n",
    "    'American': 'American University',\n",
    "    'Albany': 'SUNY at Albany',\n",
    "    'Cal Poly': 'California Polytechnic State University-San Luis Obispo',\n",
    "    'New Mexico St.': 'New Mexico State University-Main Campus',\n",
    "    'Lafayette': 'Lafayette College',\n",
    "    'Wofford': 'Wofford College',\n",
    "    'Milwaukee': 'University of Wisconsin-Milwaukee',\n",
    "    'Oklahoma St.': 'Oklahoma State University-Main Campus',\n",
    "    \"St. John's\": \"St. John's University-New York\",\n",
    "    'Western Michigan': 'Western Michigan University',\n",
    "    'Wright St.': 'Wright State University-Main Campus',\n",
    "    'Radford': 'Radford University',\n",
    "    'LSU': 'Louisiana State University and Agricultural & Mechanical College',\n",
    "    'Texas': 'The University of Texas at Austin',\n",
    "    'Houston': 'University of Houston',\n",
    "    'Belmont': 'Belmont University',\n",
    "    'Eastern Washington': 'Eastern Washington University',\n",
    "    'Coastal Carolina': 'Coastal Carolina University',\n",
    "    'Virginia Tech': 'Virginia Polytechnic Institute and State University',\n",
    "    'Bucknell': 'Bucknell University',\n",
    "    'Fairleigh Dickinson': 'Fairleigh Dickinson University-Metropolitan Campus',\n",
    "    'Vermont': 'University of Vermont',\n",
    "    'Montana': 'The University of Montana',\n",
    "    'BYU': 'Brigham Young University',\n",
    "    'Gardner Webb': 'Gardner-Webb University',\n",
    "    'Iona': 'Iona University',\n",
    "    'Abilene Christian': 'Abilene Christian University',\n",
    "    'North Carolina A&T': 'North Carolina A & T State University',\n",
    "    'Southern': 'Southern University and A & M College',\n",
    "    'James Madison': 'James Madison University',\n",
    "    'Weber St.': 'Weber State University',\n",
    "    'Arizona St.': 'Arizona State University Campus Immersion',\n",
    "    'Tulsa': 'University of Tulsa',\n",
    "    'North Carolina Central': 'North Carolina Central University',\n",
    "    'Manhattan': 'Manhattan College',\n",
    "    'San Diego St.': 'San Diego State University',\n",
    "    'Nebraska': 'University of Nebraska-Lincoln',\n",
    "    'George Washington': 'George Washington University',\n",
    "    \"Saint Joseph's\": \"Saint Joseph's University\",\n",
    "    'Delaware': 'University of Delaware',\n",
    "    'Louisiana Lafayette': 'University of Louisiana at Lafayette',\n",
    "    'Eastern Kentucky': 'Eastern Kentucky University',\n",
    "    'Colgate': 'Colgate University',\n",
    "    'Northern Kentucky': 'Northern Kentucky University',\n",
    "    'Memphis': 'University of Memphis',\n",
    "    'Seton Hall': 'Seton Hall University',\n",
    "    'Northeastern': 'Northeastern University',\n",
    "    'UNC Wilmington': 'University of North Carolina Wilmington',\n",
    "    'Holy Cross': 'College of the Holy Cross',\n",
    "    'Hampton': 'Hampton University',\n",
    "    'Austin Peay': 'Austin Peay State University',\n",
    "    'Cal St. Bakersfield': 'California State University-Bakersfield',\n",
    "    'Chattanooga': 'The University of Tennessee-Chattanooga',\n",
    "    'Jacksonville St.': 'Jacksonville State University',\n",
    "    'East Tennessee St.': 'East Tennessee State University',\n",
    "    'Princeton': 'Princeton University',\n",
    "    'South Dakota St.': 'South Dakota State University',\n",
    "    'Troy': 'Troy University',\n",
    "    'Winthrop': 'Winthrop University',\n",
    "    'Kent St.': 'Kent State University at Kent',\n",
    "    'North Dakota': 'University of North Dakota',\n",
    "    'Northwestern': 'Northwestern University',\n",
    "    'Texas Southern': 'Texas Southern University',\n",
    "    \"Mount St. Mary's\": \"Mount St. Mary's University\",\n",
    "    'Vanderbilt': 'Vanderbilt University',\n",
    "    'UC Davis': 'University of California-Davis',\n",
    "    'Fresno St.': 'California State University-Fresno',\n",
    "    'Georgia': 'University of Georgia',\n",
    "    'Wyoming': 'University of Wyoming',\n",
    "    'Robert Morris': 'Robert Morris University',\n",
    "    'UNC Greensboro': 'University of North Carolina at Greensboro',\n",
    "    'Valparaiso': 'Valparaiso University',\n",
    "    'Penn': 'University of Pennsylvania',\n",
    "    'Lipscomb': 'Lipscomb University',\n",
    "    'Cal St. Fullerton': 'California State University-Fullerton',\n",
    "    'College of Charleston': 'College of Charleston',\n",
    "    'Stony Brook': 'Stony Brook University',\n",
    "    'Green Bay': 'University of Wisconsin-Green Bay',\n",
    "    'St. Bonaventure': 'St Bonaventure University',\n",
    "    'Miami FL': 'University of Miami',\n",
    "    'UNC Asheville': 'University of North Carolina at Asheville',\n",
    "    'Bradley': 'Bradley University',\n",
    "    'North Texas': 'University of North Texas',\n",
    "    'Morgan St.': 'Morgan State University',\n",
    "    'Oakland': 'Oakland University',\n",
    "    'UTEP': 'The University of Texas at El Paso',\n",
    "    'Sam Houston St.': 'Sam Houston State University',\n",
    "    'Northwestern St.': 'Northwestern State University of Louisiana',\n",
    "    'Utah St.': 'Utah State University',\n",
    "    'Cal St. Northridge': 'California State University-Northridge',\n",
    "    'Indiana St.': 'Indiana State University',\n",
    "    'Northern Colorado': 'University of Northern Colorado',\n",
    "    'LIU Brooklyn': 'Long Island University',\n",
    "    'Penn St.': 'Pennsylvania State University-Main Campus',\n",
    "    'George Mason': 'George Mason University',\n",
    "    'Arkansas Pine Bluff': 'University of Arkansas at Pine Bluff',\n",
    "    'Binghamton': 'Binghamton University',\n",
    "    'Akron': 'University of Akron Main Campus',\n",
    "    'South Alabama': 'University of South Alabama',\n",
    "    'Portland St.': 'Portland State University',\n",
    "    'Boise St.': 'Boise State University',\n",
    "    'Mississippi St.': 'Mississippi State University',\n",
    "    'UNLV': 'University of Nevada-Las Vegas',\n",
    "    'Washington St.': 'Washington State University',\n",
    "    'Oral Roberts': 'Oral Roberts University',\n",
    "    'Mississippi Valley St.': 'Mississippi Valley State University',\n",
    "    'UT Arlington': 'The University of Texas at Arlington',\n",
    "    'UC Santa Barbara': 'University of California-Santa Barbara',\n",
    "    'Boston University': 'Boston University',\n",
    "    'Colorado St.': 'Colorado State University-Fort Collins',\n",
    "    'Southern Miss': 'University of Southern Mississippi',\n",
    "    'Loyola MD': 'Loyola University Maryland',\n",
    "    'New Mexico': 'University of New Mexico-Main Campus',\n",
    "    'Creighton': 'Creighton University',\n",
    "    'Long Beach St.': 'California State University-Long Beach',\n",
    "    'Detroit': 'University of Detroit Mercy',\n",
    "    'Pacific': 'University of the Pacific',\n",
    "    \"Saint Peter's\": \"Saint Peter's University\",\n",
    "    'UTSA': 'The University of Texas at San Antonio',\n",
    "    'Massachusetts': 'University of Massachusetts-Amherst',\n",
    "    'TCU': 'Texas Christian University',\n",
    "    'Drake': 'Drake University',\n",
    "    'Boston College': 'Boston College',\n",
    "    'Oregon St.': 'Oregon State University',\n",
    "    'Georgetown': 'Georgetown University',\n",
    "    'SMU': 'Southern Methodist University'\n",
    "}\n",
    "processed_data['School Identifier'] = processed_data['School Identifier'].map(college_names).fillna(processed_data['School Identifier'])\n",
    "unique_schools = processed_data['School Identifier'].unique()\n",
    "len(unique_schools)"
   ]
  },
  {
   "cell_type": "code",
   "execution_count": 15,
   "metadata": {},
   "outputs": [
    {
     "name": "stderr",
     "output_type": "stream",
     "text": [
      "/var/folders/0w/g3wjj_rs5c50q2c5fmh30m200000gn/T/ipykernel_16484/3988981923.py:1: DtypeWarning:\n",
      "\n",
      "Columns (1,1351,1408,1431,1432,1433,1445,1446,1447,1451,1452,1459,1460,1461,1465,1466,1473,1474,1475,1537,1538,1539,1540,1542,1547,1553,1554,1559,1560,1606,1610,1611,1614,1615,1616,1729,1909,1910,1911,1912,1913) have mixed types. Specify dtype option on import or set low_memory=False.\n",
      "\n",
      "/var/folders/0w/g3wjj_rs5c50q2c5fmh30m200000gn/T/ipykernel_16484/3988981923.py:2: DtypeWarning:\n",
      "\n",
      "Columns (1,1351,1365,1377,1378,1407,1408,1411,1426,1431,1432,1433,1445,1446,1447,1461,1489,1537,1538,1539,1540,1541,1542,1547,1548,1549,1553,1554,1559,1560,1561,1562,1563,1567,1568,1571,1572,1573,1574,1606,1609,1610,1611,1613,1614,1615,1616,1636,1637,1711,1723,1724,1729,1909,1910,1911,1912,1913) have mixed types. Specify dtype option on import or set low_memory=False.\n",
      "\n",
      "/var/folders/0w/g3wjj_rs5c50q2c5fmh30m200000gn/T/ipykernel_16484/3988981923.py:3: DtypeWarning:\n",
      "\n",
      "Columns (1,1170,1171,1173,1174,1175,1177,1179,1180,1183,1184,1186,1187,1196,1209,1222,1223,1225,1226,1235,1236,1238,1239,1248,1249,1251,1252,1261,1262,1264,1265,1274,1275,1277,1278,1279,1287,1288,1290,1291,1292,1326,1327,1329,1330,1331,1335,1339,1340,1342,1343,1344,1348,1407,1408,1409,1410,1411,1412,1413,1414,1415,1416,1420,1426,1427,1431,1432,1461,1475,1487,1488,1489,1490,1491,1492,1493,1494,1495,1496,1497,1498,1499,1500,1501,1502,1503,1506,1509,1510,1511,1512,1513,1514,1515,1516,1517,1520,1521,1522,1523,1524,1525,1526,1527,1528,1529,1530,1532,1534,1535,1537,1538,1539,1540,1541,1542,1546,1547,1559,1560,1561,1604,1605,1606,1609,1610,1611,1613,1614,1615,1616,1688,1689,1690,1691,1692,1703,1704,1705,1706,1707,1708,1729,1909,1910,1911,1912,1913) have mixed types. Specify dtype option on import or set low_memory=False.\n",
      "\n",
      "/var/folders/0w/g3wjj_rs5c50q2c5fmh30m200000gn/T/ipykernel_16484/3988981923.py:4: DtypeWarning:\n",
      "\n",
      "Columns (1433,1447,1489,1501,1502,1537,1540,1542,1547,1553,1554,1559,1560,1606,1614,1615,1636,1637,1638,1639,1640,1641,1642,1643,1644,1645,1646,1647,1648,1649,1650,1651,1652,1653,1658,1659,1693,1694,1729,1909,1910,1911,1912,1913) have mixed types. Specify dtype option on import or set low_memory=False.\n",
      "\n",
      "/var/folders/0w/g3wjj_rs5c50q2c5fmh30m200000gn/T/ipykernel_16484/3988981923.py:5: DtypeWarning:\n",
      "\n",
      "Columns (1489,1537,1540,1542,1561,1575,1606,1614,1615,1729,1909,1910,1911,1912,1913) have mixed types. Specify dtype option on import or set low_memory=False.\n",
      "\n",
      "/var/folders/0w/g3wjj_rs5c50q2c5fmh30m200000gn/T/ipykernel_16484/3988981923.py:6: DtypeWarning:\n",
      "\n",
      "Columns (1547,1575,1576,1577,1587,1588,1729,1909,1910,1911,1912,1913) have mixed types. Specify dtype option on import or set low_memory=False.\n",
      "\n",
      "/var/folders/0w/g3wjj_rs5c50q2c5fmh30m200000gn/T/ipykernel_16484/3988981923.py:7: DtypeWarning:\n",
      "\n",
      "Columns (1537,1540,1542,1575,1589,1606,1610,1614,1615,1729,1909,1910,1911,1912,1913) have mixed types. Specify dtype option on import or set low_memory=False.\n",
      "\n",
      "/var/folders/0w/g3wjj_rs5c50q2c5fmh30m200000gn/T/ipykernel_16484/3988981923.py:8: DtypeWarning:\n",
      "\n",
      "Columns (1537,1540,1542,1561,1589,1590,1591,1601,1602,1606,1614,1615,1729,1909,1910,1911,1912,1913) have mixed types. Specify dtype option on import or set low_memory=False.\n",
      "\n",
      "/var/folders/0w/g3wjj_rs5c50q2c5fmh30m200000gn/T/ipykernel_16484/3988981923.py:9: DtypeWarning:\n",
      "\n",
      "Columns (1729,1909,1910,1911,1912,1913) have mixed types. Specify dtype option on import or set low_memory=False.\n",
      "\n",
      "/var/folders/0w/g3wjj_rs5c50q2c5fmh30m200000gn/T/ipykernel_16484/3988981923.py:10: DtypeWarning:\n",
      "\n",
      "Columns (1729,1909,1910,1911,1912,1913) have mixed types. Specify dtype option on import or set low_memory=False.\n",
      "\n",
      "/var/folders/0w/g3wjj_rs5c50q2c5fmh30m200000gn/T/ipykernel_16484/3988981923.py:11: DtypeWarning:\n",
      "\n",
      "Columns (1729,1909,1910,1911,1912,1913,2376,2377,2958) have mixed types. Specify dtype option on import or set low_memory=False.\n",
      "\n",
      "/var/folders/0w/g3wjj_rs5c50q2c5fmh30m200000gn/T/ipykernel_16484/3988981923.py:12: DtypeWarning:\n",
      "\n",
      "Columns (1503,1517,1729,1909,1910,1911,1912,1913,2376,2377,2958) have mixed types. Specify dtype option on import or set low_memory=False.\n",
      "\n",
      "/var/folders/0w/g3wjj_rs5c50q2c5fmh30m200000gn/T/ipykernel_16484/3988981923.py:13: DtypeWarning:\n",
      "\n",
      "Columns (1729,1908,1909,1910,1911,1912,1913,1991,1992,1993,1994,1995,1996,1997,1998,1999,2000,2001,2002,2003,2004,2005,2006,2007,2008,2009,2010,2011,2012,2013,2014,2015,2016,2017,2018,2019,2020,2021,2022,2023,2024,2025,2026,2027,2028,2029,2030,2031,2032,2033,2034,2035,2036,2037,2038,2039,2040,2044,2045,2046,2047,2048,2049,2050,2051,2052,2053,2054,2055,2056,2057,2058,2059,2060,2061,2062,2063,2064,2065,2066,2067,2068,2069,2070,2071,2092,2093,2094,2095,2096,2097,2098,2099,2100,2101,2102,2103,2104,2105,2106,2107,2108,2109,2110,2111,2112,2113,2114,2115,2116,2117,2118,2119,2120,2121,2122,2123,2124,2125,2126,2127,2128,2129,2130,2131,2148,2149,2150,2151,2152,2153,2154,2155,2156,2157,2158,2159,2376,2377) have mixed types. Specify dtype option on import or set low_memory=False.\n",
      "\n",
      "/var/folders/0w/g3wjj_rs5c50q2c5fmh30m200000gn/T/ipykernel_16484/3988981923.py:14: DtypeWarning:\n",
      "\n",
      "Columns (9,1725,1726,1727,1728,1729,1743,1815,1816,1817,1818,1823,1824,1830,1831,1879,1880,1881,1882,1883,1884,1885,1886,1887,1888,1889,1890,1891,1892,1893,1894,1895,1896,1897,1898,1909,1910,1911,1912,1913,1957,1958,1959,1960,1961,1962,1963,1964,1965,1966,1967,1968,1969,1970,1971,1972,1973,1974,1975,1976,1983,1984,2403,2404,2495,2496,2497,2498,2499,2500,2501,2502,2503,2504,2505,2506,2507,2508,2509,2510,2511,2512,2513,2514,2515,2516,2517,2518,2519,2520,2521,2522,2523,2524,2525,2526,2527,2528,2529,2530,3215,3231) have mixed types. Specify dtype option on import or set low_memory=False.\n",
      "\n"
     ]
    },
    {
     "data": {
      "text/plain": [
       "'\\n# Check each school\\nfor school in unique_schools:\\n    # Check if the school is found in the \\'INSTNM\\' column of school_2008\\n    if school_2008[school_2008[\\'INSTNM\\'] == school].empty:\\n        print(f\"School not found: {school}\")\\n'"
      ]
     },
     "execution_count": 15,
     "metadata": {},
     "output_type": "execute_result"
    }
   ],
   "source": [
    "school_2009 = pd.read_csv('school_data/MERGED2008_09_PP.csv')\n",
    "school_2010 = pd.read_csv('school_data/MERGED2009_10_PP.csv')\n",
    "school_2011 = pd.read_csv('school_data/MERGED2010_11_PP.csv')   \n",
    "school_2012 = pd.read_csv('school_data/MERGED2011_12_PP.csv')\n",
    "school_2013 = pd.read_csv('school_data/MERGED2012_13_PP.csv')\n",
    "school_2014 = pd.read_csv('school_data/MERGED2013_14_PP.csv')\n",
    "school_2015 = pd.read_csv('school_data/MERGED2014_15_PP.csv')\n",
    "school_2016 = pd.read_csv('school_data/MERGED2015_16_PP.csv')\n",
    "school_2017 = pd.read_csv('school_data/MERGED2016_17_PP.csv')\n",
    "school_2018 = pd.read_csv('school_data/MERGED2017_18_PP.csv')\n",
    "school_2019 = pd.read_csv('school_data/MERGED2018_19_PP.csv')\n",
    "school_2020 = pd.read_csv('school_data/MERGED2019_20_PP.csv')\n",
    "school_2021 = pd.read_csv('school_data/MERGED2020_21_PP.csv')\n",
    "school_2022 = pd.read_csv('school_data/MERGED2021_22_PP.csv')\n",
    "\n",
    "'''\n",
    "# Check each school\n",
    "for school in unique_schools:\n",
    "    # Check if the school is found in the 'INSTNM' column of school_2008\n",
    "    if school_2008[school_2008['INSTNM'] == school].empty:\n",
    "        print(f\"School not found: {school}\")\n",
    "'''\n"
   ]
  },
  {
   "cell_type": "code",
   "execution_count": 16,
   "metadata": {},
   "outputs": [
    {
     "name": "stdout",
     "output_type": "stream",
     "text": [
      "Western Kentucky University 2008\n",
      "1594   NaN\n",
      "Name: SAT_AVG, dtype: float64\n",
      "Western Kentucky University 2008\n",
      "1594   NaN\n",
      "Name: ADM_RATE, dtype: float64\n",
      "University of Arkansas at Little Rock 2008\n",
      "134   NaN\n",
      "Name: SAT_AVG, dtype: float64\n",
      "University of Arkansas at Little Rock 2008\n",
      "134   NaN\n",
      "Name: ADM_RATE, dtype: float64\n",
      "Wright State University-Main Campus 2008\n",
      "3300   NaN\n",
      "Name: SAT_AVG, dtype: float64\n",
      "Wright State University-Main Campus 2008\n",
      "3300   NaN\n",
      "Name: ADM_RATE, dtype: float64\n",
      "Weber State University 2008\n",
      "4174   NaN\n",
      "Name: SAT_AVG, dtype: float64\n",
      "Weber State University 2008\n",
      "4174   NaN\n",
      "Name: ADM_RATE, dtype: float64\n",
      "University of Akron Main Campus 2008\n",
      "3072   NaN\n",
      "Name: SAT_AVG, dtype: float64\n",
      "University of Akron Main Campus 2008\n",
      "3072   NaN\n",
      "Name: ADM_RATE, dtype: float64\n",
      "Kansas State University 2009\n",
      "1471   NaN\n",
      "Name: SAT_AVG, dtype: float64\n",
      "University of Arkansas at Little Rock 2009\n",
      "134   NaN\n",
      "Name: SAT_AVG, dtype: float64\n",
      "University of Arkansas at Little Rock 2009\n",
      "134   NaN\n",
      "Name: ADM_RATE, dtype: float64\n",
      "Wake Forest University 2009\n",
      "2993   NaN\n",
      "Name: SAT_AVG, dtype: float64\n",
      "Liberty University 2009\n",
      "4191   NaN\n",
      "Name: SAT_AVG, dtype: float64\n",
      "Liberty University 2009\n",
      "4191   NaN\n",
      "Name: ADM_RATE, dtype: float64\n",
      "Wright State University-Main Campus 2009\n",
      "3264   NaN\n",
      "Name: SAT_AVG, dtype: float64\n",
      "Wright State University-Main Campus 2009\n",
      "3264   NaN\n",
      "Name: ADM_RATE, dtype: float64\n",
      "Weber State University 2009\n",
      "4134   NaN\n",
      "Name: SAT_AVG, dtype: float64\n",
      "Weber State University 2009\n",
      "4134   NaN\n",
      "Name: ADM_RATE, dtype: float64\n",
      "College of the Holy Cross 2009\n",
      "1837   NaN\n",
      "Name: SAT_AVG, dtype: float64\n",
      "Hampton University 2009\n",
      "4185   NaN\n",
      "Name: SAT_AVG, dtype: float64\n",
      "Hampton University 2009\n",
      "4185   NaN\n",
      "Name: ADM_RATE, dtype: float64\n",
      "University of Akron Main Campus 2009\n",
      "3036   NaN\n",
      "Name: SAT_AVG, dtype: float64\n",
      "University of Akron Main Campus 2009\n",
      "3036   NaN\n",
      "Name: ADM_RATE, dtype: float64\n",
      "Kansas State University 2010\n",
      "1466   NaN\n",
      "Name: SAT_AVG, dtype: float64\n",
      "Wake Forest University 2010\n",
      "2949   NaN\n",
      "Name: SAT_AVG, dtype: float64\n",
      "Liberty University 2010\n",
      "4141   NaN\n",
      "Name: SAT_AVG, dtype: float64\n",
      "Liberty University 2010\n",
      "4141   NaN\n",
      "Name: ADM_RATE, dtype: float64\n",
      "Wright State University-Main Campus 2010\n",
      "3216   NaN\n",
      "Name: SAT_AVG, dtype: float64\n",
      "Wright State University-Main Campus 2010\n",
      "3216   NaN\n",
      "Name: ADM_RATE, dtype: float64\n",
      "Weber State University 2010\n",
      "4084   NaN\n",
      "Name: SAT_AVG, dtype: float64\n",
      "Weber State University 2010\n",
      "4084   NaN\n",
      "Name: ADM_RATE, dtype: float64\n",
      "College of the Holy Cross 2010\n",
      "1801   NaN\n",
      "Name: SAT_AVG, dtype: float64\n",
      "University of Akron Main Campus 2010\n",
      "2992   NaN\n",
      "Name: SAT_AVG, dtype: float64\n",
      "University of Akron Main Campus 2010\n",
      "2992   NaN\n",
      "Name: ADM_RATE, dtype: float64\n",
      "Kansas State University 2011\n",
      "1456   NaN\n",
      "Name: SAT_AVG, dtype: float64\n",
      "Wake Forest University 2011\n",
      "2922   NaN\n",
      "Name: SAT_AVG, dtype: float64\n",
      "Liberty University 2011\n",
      "4108   NaN\n",
      "Name: SAT_AVG, dtype: float64\n",
      "Liberty University 2011\n",
      "4108   NaN\n",
      "Name: ADM_RATE, dtype: float64\n",
      "Wright State University-Main Campus 2011\n",
      "3186   NaN\n",
      "Name: SAT_AVG, dtype: float64\n",
      "Wright State University-Main Campus 2011\n",
      "3186   NaN\n",
      "Name: ADM_RATE, dtype: float64\n",
      "Weber State University 2011\n",
      "4052   NaN\n",
      "Name: SAT_AVG, dtype: float64\n",
      "Weber State University 2011\n",
      "4052   NaN\n",
      "Name: ADM_RATE, dtype: float64\n",
      "Manhattan College 2011\n",
      "2624   NaN\n",
      "Name: SAT_AVG, dtype: float64\n",
      "Manhattan College 2011\n",
      "2624   NaN\n",
      "Name: ADM_RATE, dtype: float64\n",
      "College of the Holy Cross 2011\n",
      "1784   NaN\n",
      "Name: SAT_AVG, dtype: float64\n",
      "University of Akron Main Campus 2011\n",
      "2966   NaN\n",
      "Name: SAT_AVG, dtype: float64\n",
      "University of Akron Main Campus 2011\n",
      "2966   NaN\n",
      "Name: ADM_RATE, dtype: float64\n",
      "Kansas State University 2012\n",
      "1422   NaN\n",
      "Name: SAT_AVG, dtype: float64\n",
      "Wake Forest University 2012\n",
      "2880   NaN\n",
      "Name: SAT_AVG, dtype: float64\n",
      "Liberty University 2012\n",
      "4058   NaN\n",
      "Name: SAT_AVG, dtype: float64\n",
      "Liberty University 2012\n",
      "4058   NaN\n",
      "Name: ADM_RATE, dtype: float64\n",
      "Wright State University-Main Campus 2012\n",
      "3142   NaN\n",
      "Name: SAT_AVG, dtype: float64\n",
      "Wright State University-Main Campus 2012\n",
      "3142   NaN\n",
      "Name: ADM_RATE, dtype: float64\n",
      "Weber State University 2012\n",
      "4002   NaN\n",
      "Name: SAT_AVG, dtype: float64\n",
      "Weber State University 2012\n",
      "4002   NaN\n",
      "Name: ADM_RATE, dtype: float64\n",
      "Manhattan College 2012\n",
      "2584   NaN\n",
      "Name: SAT_AVG, dtype: float64\n",
      "Manhattan College 2012\n",
      "2584   NaN\n",
      "Name: ADM_RATE, dtype: float64\n",
      "College of the Holy Cross 2012\n",
      "1751   NaN\n",
      "Name: SAT_AVG, dtype: float64\n",
      "Kansas State University 2013\n",
      "1395   NaN\n",
      "Name: SAT_AVG, dtype: float64\n",
      "Wake Forest University 2013\n",
      "2832   NaN\n",
      "Name: SAT_AVG, dtype: float64\n",
      "Wright State University-Main Campus 2013\n",
      "3086   NaN\n",
      "Name: SAT_AVG, dtype: float64\n",
      "Wright State University-Main Campus 2013\n",
      "3086   NaN\n",
      "Name: ADM_RATE, dtype: float64\n",
      "Weber State University 2013\n",
      "3941   NaN\n",
      "Name: SAT_AVG, dtype: float64\n",
      "Weber State University 2013\n",
      "3941   NaN\n",
      "Name: ADM_RATE, dtype: float64\n",
      "College of the Holy Cross 2013\n",
      "1718   NaN\n",
      "Name: SAT_AVG, dtype: float64\n",
      "Wichita State University 2014\n",
      "1403   NaN\n",
      "Name: SAT_AVG, dtype: float64\n",
      "Kansas State University 2014\n",
      "1378   NaN\n",
      "Name: SAT_AVG, dtype: float64\n",
      "University of Arizona 2014\n",
      "85   NaN\n",
      "Name: SAT_AVG, dtype: float64\n",
      "Wake Forest University 2014\n",
      "2800   NaN\n",
      "Name: SAT_AVG, dtype: float64\n",
      "Providence College 2014\n",
      "3461   NaN\n",
      "Name: SAT_AVG, dtype: float64\n",
      "Wright State University-Main Campus 2014\n",
      "3051   NaN\n",
      "Name: SAT_AVG, dtype: float64\n",
      "Wright State University-Main Campus 2014\n",
      "3051   NaN\n",
      "Name: ADM_RATE, dtype: float64\n",
      "Weber State University 2014\n",
      "3892   NaN\n",
      "Name: SAT_AVG, dtype: float64\n",
      "Weber State University 2014\n",
      "3892   NaN\n",
      "Name: ADM_RATE, dtype: float64\n",
      "Saint Joseph's University 2014\n",
      "3402   NaN\n",
      "Name: SAT_AVG, dtype: float64\n",
      "College of the Holy Cross 2014\n",
      "1698   NaN\n",
      "Name: SAT_AVG, dtype: float64\n",
      "California State University-Bakersfield 2014\n",
      "231   NaN\n",
      "Name: SAT_AVG, dtype: float64\n",
      "Loyola University Maryland 2014\n",
      "1606   NaN\n",
      "Name: SAT_AVG, dtype: float64\n",
      "Kansas State University 2015\n",
      "1326   NaN\n",
      "Name: SAT_AVG, dtype: float64\n",
      "University of Arizona 2015\n",
      "82   NaN\n",
      "Name: SAT_AVG, dtype: float64\n",
      "Temple University 2015\n",
      "3330   NaN\n",
      "Name: SAT_AVG, dtype: float64\n",
      "Wake Forest University 2015\n",
      "2719   NaN\n",
      "Name: SAT_AVG, dtype: float64\n",
      "Providence College 2015\n",
      "3368   NaN\n",
      "Name: SAT_AVG, dtype: float64\n",
      "Siena College 2015\n",
      "2522   NaN\n",
      "Name: SAT_AVG, dtype: float64\n",
      "Radford University 2015\n",
      "3866   NaN\n",
      "Name: SAT_AVG, dtype: float64\n",
      "Weber State University 2015\n",
      "3789   NaN\n",
      "Name: SAT_AVG, dtype: float64\n",
      "Weber State University 2015\n",
      "3789   NaN\n",
      "Name: ADM_RATE, dtype: float64\n",
      "Saint Joseph's University 2015\n",
      "3310   NaN\n",
      "Name: SAT_AVG, dtype: float64\n",
      "College of the Holy Cross 2015\n",
      "1640   NaN\n",
      "Name: SAT_AVG, dtype: float64\n",
      "California State University-Bakersfield 2015\n",
      "228   NaN\n",
      "Name: SAT_AVG, dtype: float64\n",
      "Loyola University Maryland 2015\n",
      "1551   NaN\n",
      "Name: SAT_AVG, dtype: float64\n",
      "Kansas State University 2016\n",
      "1290   NaN\n",
      "Name: SAT_AVG, dtype: float64\n",
      "University of Arizona 2016\n",
      "81   NaN\n",
      "Name: SAT_AVG, dtype: float64\n",
      "Temple University 2016\n",
      "3226   NaN\n",
      "Name: SAT_AVG, dtype: float64\n",
      "Wake Forest University 2016\n",
      "2636   NaN\n",
      "Name: SAT_AVG, dtype: float64\n",
      "Siena College 2016\n",
      "2445   NaN\n",
      "Name: SAT_AVG, dtype: float64\n",
      "Radford University 2016\n",
      "3753   NaN\n",
      "Name: SAT_AVG, dtype: float64\n",
      "Weber State University 2016\n",
      "3676   NaN\n",
      "Name: SAT_AVG, dtype: float64\n",
      "Weber State University 2016\n",
      "3676   NaN\n",
      "Name: ADM_RATE, dtype: float64\n",
      "College of the Holy Cross 2016\n",
      "1593   NaN\n",
      "Name: SAT_AVG, dtype: float64\n",
      "California State University-Bakersfield 2016\n",
      "221   NaN\n",
      "Name: SAT_AVG, dtype: float64\n",
      "Loyola University Maryland 2016\n",
      "1506   NaN\n",
      "Name: SAT_AVG, dtype: float64\n",
      "Kansas State University 2017\n",
      "1262   NaN\n",
      "Name: SAT_AVG, dtype: float64\n",
      "University of Arizona 2017\n",
      "79   NaN\n",
      "Name: SAT_AVG, dtype: float64\n",
      "La Salle University 2017\n",
      "3033   NaN\n",
      "Name: SAT_AVG, dtype: float64\n",
      "Temple University 2017\n",
      "3157   NaN\n",
      "Name: SAT_AVG, dtype: float64\n",
      "Wake Forest University 2017\n",
      "2581   NaN\n",
      "Name: SAT_AVG, dtype: float64\n",
      "Siena College 2017\n",
      "2394   NaN\n",
      "Name: SAT_AVG, dtype: float64\n",
      "Radford University 2017\n",
      "3680   NaN\n",
      "Name: SAT_AVG, dtype: float64\n",
      "Weber State University 2017\n",
      "3604   NaN\n",
      "Name: SAT_AVG, dtype: float64\n",
      "Weber State University 2017\n",
      "3604   NaN\n",
      "Name: ADM_RATE, dtype: float64\n",
      "College of the Holy Cross 2017\n",
      "1560   NaN\n",
      "Name: SAT_AVG, dtype: float64\n",
      "California State University-Bakersfield 2017\n",
      "216   NaN\n",
      "Name: SAT_AVG, dtype: float64\n",
      "Loyola University Maryland 2017\n",
      "1475   NaN\n",
      "Name: SAT_AVG, dtype: float64\n",
      "Kansas State University 2018\n",
      "1210   NaN\n",
      "Name: SAT_AVG, dtype: float64\n",
      "La Salle University 2018\n",
      "2920   NaN\n",
      "Name: SAT_AVG, dtype: float64\n",
      "Temple University 2018\n",
      "3040   NaN\n",
      "Name: SAT_AVG, dtype: float64\n",
      "Wake Forest University 2018\n",
      "2495   NaN\n",
      "Name: SAT_AVG, dtype: float64\n",
      "Siena College 2018\n",
      "2311   NaN\n",
      "Name: SAT_AVG, dtype: float64\n",
      "Radford University 2018\n",
      "3553   NaN\n",
      "Name: SAT_AVG, dtype: float64\n",
      "Fairleigh Dickinson University-Metropolitan Campus 2018\n",
      "2012   NaN\n",
      "Name: SAT_AVG, dtype: float64\n",
      "Weber State University 2018\n",
      "3479   NaN\n",
      "Name: SAT_AVG, dtype: float64\n",
      "Weber State University 2018\n",
      "3479   NaN\n",
      "Name: ADM_RATE, dtype: float64\n",
      "College of the Holy Cross 2018\n",
      "1495   NaN\n",
      "Name: SAT_AVG, dtype: float64\n",
      "Hampton University 2018\n",
      "3527   NaN\n",
      "Name: SAT_AVG, dtype: float64\n",
      "California State University-Bakersfield 2018\n",
      "207   NaN\n",
      "Name: SAT_AVG, dtype: float64\n",
      "Loyola University Maryland 2018\n",
      "1412   NaN\n",
      "Name: SAT_AVG, dtype: float64\n",
      "Kansas State University 2019\n",
      "1191   NaN\n",
      "Name: SAT_AVG, dtype: float64\n",
      "La Salle University 2019\n",
      "2857   NaN\n",
      "Name: SAT_AVG, dtype: float64\n",
      "Temple University 2019\n",
      "2977   NaN\n",
      "Name: SAT_AVG, dtype: float64\n",
      "Wake Forest University 2019\n",
      "2446   NaN\n",
      "Name: SAT_AVG, dtype: float64\n",
      "Siena College 2019\n",
      "2264   NaN\n",
      "Name: SAT_AVG, dtype: float64\n",
      "Radford University 2019\n",
      "3477   NaN\n",
      "Name: SAT_AVG, dtype: float64\n",
      "Fairleigh Dickinson University-Metropolitan Campus 2019\n",
      "1971   NaN\n",
      "Name: SAT_AVG, dtype: float64\n",
      "Weber State University 2019\n",
      "3407   NaN\n",
      "Name: SAT_AVG, dtype: float64\n",
      "Weber State University 2019\n",
      "3407   NaN\n",
      "Name: ADM_RATE, dtype: float64\n",
      "Hampton University 2019\n",
      "3451   NaN\n",
      "Name: SAT_AVG, dtype: float64\n",
      "California State University-Bakersfield 2019\n",
      "201   NaN\n",
      "Name: SAT_AVG, dtype: float64\n",
      "The University of Texas at El Paso 2019\n",
      "3354   NaN\n",
      "Name: SAT_AVG, dtype: float64\n",
      "Indiana State University 2019\n",
      "1046   NaN\n",
      "Name: SAT_AVG, dtype: float64\n",
      "Loyola University Maryland 2019\n",
      "1388   NaN\n",
      "Name: SAT_AVG, dtype: float64\n"
     ]
    }
   ],
   "source": [
    "dataframes_p = [school_2009, school_2010, school_2011, school_2012, school_2013, school_2014, school_2015, school_2016, school_2017, school_2018, school_2019, school_2020]\n",
    "dataframes_n = [school_2010, school_2011, school_2012, school_2013, school_2014, school_2015, school_2016, school_2017, school_2018, school_2019, school_2020, school_2021]\n",
    "dataframes_nn = [school_2011, school_2012, school_2013, school_2014, school_2015, school_2016, school_2017, school_2018, school_2019, school_2020, school_2021, school_2022]\n",
    "\n",
    "\n",
    "school_columns = ['SAT_AVG', 'ADM_RATE', 'UGDS'] #Sat average, admission rate, Net tuition revenue per full-time equivalent student ('TUITFTE')\n",
    "unique_schools = processed_data['School Identifier'].unique()\n",
    "lst = []\n",
    "counter = 2008\n",
    "for data in dataframes_p:\n",
    "    for school in unique_schools:\n",
    "        # Extract values safely as single values using next(iter()) or default to 0 if none\n",
    "        sat_avg = next(iter(data.loc[data['INSTNM'] == school, 'SAT_AVG']), 0)\n",
    "        adm_rate = next(iter(data.loc[data['INSTNM'] == school, 'ADM_RATE']), 0)\n",
    "        ugds = next(iter(data.loc[data['INSTNM'] == school, 'UGDS']), 0)\n",
    "\n",
    "        \n",
    "        # Ensure values are not null and update accordingly\n",
    "        if not pd.isna(sat_avg):\n",
    "            processed_data.loc[(processed_data['School Identifier'] == school) & (processed_data['Year'] == counter), 'SAT_AVG (Y to Y+1)'] = sat_avg\n",
    "        else:\n",
    "            print(school, counter)\n",
    "            print(data.loc[data['INSTNM'] == school, 'SAT_AVG'])\n",
    "        if not pd.isna(adm_rate):\n",
    "            processed_data.loc[(processed_data['School Identifier'] == school) & (processed_data['Year'] == counter), 'Admission Rate (Y to Y+1)'] = adm_rate\n",
    "        else:\n",
    "            print(school, counter)\n",
    "            print(data.loc[data['INSTNM'] == school, 'ADM_RATE'])\n",
    "        if not pd.isna(ugds):\n",
    "            processed_data.loc[(processed_data['School Identifier'] == school) & (processed_data['Year'] == counter), 'Undergraduate Size (Y to Y+1)'] = ugds\n",
    "\n",
    "    counter += 1\n",
    "\n",
    "counter = 2008\n",
    "for data in dataframes_n:\n",
    "    for school in unique_schools:\n",
    "        # Extract values safely as single values using next(iter()) or default to 0 if none\n",
    "        sat_avg = next(iter(data.loc[data['INSTNM'] == school, 'SAT_AVG']), 0)\n",
    "        adm_rate = next(iter(data.loc[data['INSTNM'] == school, 'ADM_RATE']), 0)\n",
    "\n",
    "        # Ensure values are not null and update accordingly\n",
    "        if not pd.isna(sat_avg):\n",
    "            processed_data.loc[(processed_data['School Identifier'] == school) & (processed_data['Year'] == counter), 'SAT_AVG (Y+1 to Y+2)'] = sat_avg\n",
    "        if not pd.isna(adm_rate):\n",
    "            processed_data.loc[(processed_data['School Identifier'] == school) & (processed_data['Year'] == counter), 'Admission Rate (Y+1 to Y+2)'] = adm_rate\n",
    "\n",
    "\n",
    "    counter += 1\n",
    "\n",
    "counter = 2008\n",
    "for data in dataframes_nn:\n",
    "    for school in unique_schools:\n",
    "        # Extract values safely as single values using next(iter()) or default to 0 if none\n",
    "        sat_avg = next(iter(data.loc[data['INSTNM'] == school, 'SAT_AVG']), 0)\n",
    "        adm_rate = next(iter(data.loc[data['INSTNM'] == school, 'ADM_RATE']), 0)\n",
    "\n",
    "        # Ensure values are not null and update accordingly\n",
    "        if not pd.isna(sat_avg):\n",
    "            processed_data.loc[(processed_data['School Identifier'] == school) & (processed_data['Year'] == counter), 'SAT_AVG (Y+2 to Y+3)'] = sat_avg\n",
    "        if not pd.isna(adm_rate):\n",
    "            processed_data.loc[(processed_data['School Identifier'] == school) & (processed_data['Year'] == counter), 'Admission Rate (Y+2 to Y+3)'] = adm_rate\n",
    "\n",
    "\n",
    "    counter += 1\n",
    "\n",
    "#school_2008[school_2008['INSTNM'] == 'University of Connecticut'][school_columns]\n",
    "\n",
    "#processed_data.to_csv('processed_data_double_lag.csv', index=False)"
   ]
  },
  {
   "cell_type": "code",
   "execution_count": 17,
   "metadata": {},
   "outputs": [
    {
     "data": {
      "text/plain": [
       "224"
      ]
     },
     "execution_count": 17,
     "metadata": {},
     "output_type": "execute_result"
    }
   ],
   "source": [
    "college_classifications = {\n",
    "    'University of Connecticut': 'public',\n",
    "    'Virginia Commonwealth University': 'public',\n",
    "    'Syracuse University': 'private',\n",
    "    'Wichita State University': 'public',\n",
    "    'Loyola University Chicago': 'private',\n",
    "    'University of Kentucky': 'public',\n",
    "    'Butler University': 'private',\n",
    "    'Kansas State University': 'public',\n",
    "    'University of Dayton': 'private',\n",
    "    'Auburn University': 'public',\n",
    "    'Texas Tech University': 'public',\n",
    "    'Davidson College': 'private',\n",
    "    'University of Michigan-Ann Arbor': 'public',\n",
    "    'Michigan State University': 'public',\n",
    "    'Florida State University': 'public',\n",
    "    'University of South Carolina-Columbia': 'public',\n",
    "    'Xavier University': 'private',\n",
    "    'North Carolina State University at Raleigh': 'public',\n",
    "    \"Saint Mary's College of California\": 'private',\n",
    "    'University of California-Los Angeles': 'public',\n",
    "    'University of Florida': 'public',\n",
    "    'Villanova University': 'private',\n",
    "    'University of Notre Dame': 'private',\n",
    "    'University of Arizona': 'public',\n",
    "    'Cornell University': 'private',  # Note: Cornell has both private and public colleges.\n",
    "    'University of Washington-Seattle Campus': 'public',\n",
    "    'Gonzaga University': 'private',\n",
    "    'University of Richmond': 'private',\n",
    "    'University of Oregon': 'public',\n",
    "    'University of Northern Iowa': 'public',\n",
    "    'The University of Tennessee-Knoxville': 'public',\n",
    "    'Marquette University': 'private',\n",
    "    'Florida Gulf Coast University': 'public',\n",
    "    'Western Kentucky University': 'public',\n",
    "    'University of Louisville': 'public',\n",
    "    'La Salle University': 'private',\n",
    "    'Stanford University': 'private',\n",
    "    'Ohio University-Main Campus': 'public',\n",
    "    'University of Minnesota-Twin Cities': 'public',\n",
    "    'University of Arkansas at Little Rock': 'public',\n",
    "    'University of Hawaii at Manoa': 'public',\n",
    "    'Harvard University': 'private',\n",
    "    'Temple University': 'public',\n",
    "    'Yale University': 'private',\n",
    "    'Middle Tennessee State University': 'public',\n",
    "    'University of North Carolina at Chapel Hill': 'public',\n",
    "    'Murray State University': 'public',\n",
    "    'Wake Forest University': 'private',\n",
    "    'University of Utah': 'public',\n",
    "    'Old Dominion University': 'public',\n",
    "    'University of Mississippi': 'public',\n",
    "    'University of California-Berkeley': 'public',\n",
    "    'University of Rhode Island': 'public',\n",
    "    'University of Southern California': 'private',\n",
    "    'University of Wisconsin-Madison': 'public',\n",
    "    'Baylor University': 'private',\n",
    "    'University of Pittsburgh-Pittsburgh Campus': 'public',\n",
    "    'University of Missouri-Columbia': 'public',\n",
    "    'North Dakota State University-Main Campus': 'public',\n",
    "    'Georgia Institute of Technology-Main Campus': 'public',\n",
    "    'Stephen F Austin State University': 'public',\n",
    "    'University of Illinois Urbana-Champaign': 'public',\n",
    "    'West Virginia University': 'public',\n",
    "    'Purdue University-Main Campus': 'public',\n",
    "    'University of Kansas': 'public',\n",
    "    'Georgia State University': 'public',\n",
    "    'Lehigh University': 'private',\n",
    "    'Duke University': 'private',\n",
    "    'Saint Louis University': 'private',\n",
    "    'Ohio State University-Main Campus': 'public',\n",
    "    'University of Alabama at Birmingham': 'public',\n",
    "    'Providence College': 'private',\n",
    "    'University of Cincinnati-Main Campus': 'public',\n",
    "    'Iowa State University': 'public',\n",
    "    'University of Maryland-College Park': 'public',\n",
    "    'Morehead State University': 'public',\n",
    "    'Mercer University': 'private',\n",
    "    'Norfolk State University': 'public',\n",
    "    'University of South Florida': 'public',\n",
    "    'University of Colorado Boulder': 'public',\n",
    "    'Indiana University-Bloomington': 'public',\n",
    "    'University of San Diego': 'private',\n",
    "    'Texas A & M University-College Station': 'public',\n",
    "    'University of Arkansas': 'public',\n",
    "    'The University of Alabama': 'public',\n",
    "    'Liberty University': 'private',\n",
    "    'University of Oklahoma-Norman Campus': 'public',\n",
    "    'Siena College': 'private',\n",
    "    'Marshall University': 'public',\n",
    "    'University at Buffalo': 'public',\n",
    "    'Clemson University': 'public',\n",
    "    'University of Central Florida': 'public',\n",
    "    'Cleveland State University': 'public',\n",
    "    'University of Iowa': 'public',\n",
    "    'University of California-Irvine': 'public',\n",
    "    'University of Virginia-Main Campus': 'public',\n",
    "    'University of Nevada-Reno': 'public',\n",
    "    'University of Maryland-Baltimore County': 'public',\n",
    "    'American University': 'private',\n",
    "    'SUNY at Albany': 'public',\n",
    "    'California Polytechnic State University-San Luis Obispo': 'public',\n",
    "    'New Mexico State University-Main Campus': 'public',\n",
    "    'Lafayette College': 'private',\n",
    "    'Wofford College': 'private',\n",
    "    'University of Wisconsin-Milwaukee': 'public',\n",
    "    'Oklahoma State University-Main Campus': 'public',\n",
    "    \"St. John's University-New York\": 'private',\n",
    "    'Western Michigan University': 'public',\n",
    "    'Wright State University-Main Campus': 'public',\n",
    "    'Radford University': 'public',\n",
    "    'Louisiana State University and Agricultural & Mechanical College': 'public',\n",
    "    'The University of Texas at Austin': 'public',\n",
    "    'University of Houston': 'public',\n",
    "    'Belmont University': 'private',\n",
    "    'Eastern Washington University': 'public',\n",
    "    'Coastal Carolina University': 'public',\n",
    "    'Virginia Polytechnic Institute and State University': 'public',\n",
    "    'Bucknell University': 'private',\n",
    "    'Fairleigh Dickinson University-Metropolitan Campus': 'private',\n",
    "    'University of Vermont': 'public',\n",
    "    'The University of Montana': 'public',\n",
    "    'Brigham Young University': 'private',\n",
    "    'Gardner-Webb University': 'private',\n",
    "    'Iona University': 'private',\n",
    "    'Abilene Christian University': 'private',\n",
    "    'North Carolina A & T State University': 'public',\n",
    "    'Southern University and A & M College': 'public',\n",
    "    'James Madison University': 'public',\n",
    "    'Weber State University': 'public',\n",
    "    'Arizona State University Campus Immersion': 'public',\n",
    "    'University of Tulsa': 'private',\n",
    "    'North Carolina Central University': 'public',\n",
    "    'Manhattan College': 'private',\n",
    "    'San Diego State University': 'public',\n",
    "    'University of Nebraska-Lincoln': 'public',\n",
    "    'George Washington University': 'private',\n",
    "    \"Saint Joseph's University\": 'private',\n",
    "    'University of Delaware': 'public',\n",
    "    'University of Louisiana at Lafayette': 'public',\n",
    "    'Eastern Kentucky University': 'public',\n",
    "    'Colgate University': 'private',\n",
    "    'Northern Kentucky University': 'public',\n",
    "    'University of Memphis': 'public',\n",
    "    'Seton Hall University': 'private',\n",
    "    'Northeastern University': 'private',\n",
    "    'University of North Carolina Wilmington': 'public',\n",
    "    'College of the Holy Cross': 'private',\n",
    "    'Hampton University': 'private',\n",
    "    'Austin Peay State University': 'public',\n",
    "    'California State University-Bakersfield': 'public',\n",
    "    'The University of Tennessee-Chattanooga': 'public',\n",
    "    'Jacksonville State University': 'public',\n",
    "    'East Tennessee State University': 'public',\n",
    "    'Princeton University': 'private',\n",
    "    'South Dakota State University': 'public',\n",
    "    'Troy University': 'public',\n",
    "    'Winthrop University': 'public',\n",
    "    'Kent State University at Kent': 'public',\n",
    "    'University of North Dakota': 'public',\n",
    "    'Northwestern University': 'private',\n",
    "    'Texas Southern University': 'public',\n",
    "    \"Mount St. Mary's University\": 'private',\n",
    "    'Vanderbilt University': 'private',\n",
    "    'University of California-Davis': 'public',\n",
    "    'California State University-Fresno': 'public',\n",
    "    'University of Georgia': 'public',\n",
    "    'University of Wyoming': 'public',\n",
    "    'Robert Morris University': 'private',\n",
    "    'University of North Carolina at Greensboro': 'public',\n",
    "    'Valparaiso University': 'private',\n",
    "    'University of Pennsylvania': 'private',\n",
    "    'Lipscomb University': 'private',\n",
    "    'California State University-Fullerton': 'public',\n",
    "    'College of Charleston': 'public',\n",
    "    'Stony Brook University': 'public',\n",
    "    'University of Wisconsin-Green Bay': 'public',\n",
    "    'St Bonaventure University': 'private',\n",
    "    'University of Miami': 'private',\n",
    "    'University of North Carolina at Asheville': 'public',\n",
    "    'Bradley University': 'private',\n",
    "    'University of North Texas': 'public',\n",
    "    'Morgan State University': 'public',\n",
    "    'Oakland University': 'public',\n",
    "    'The University of Texas at El Paso': 'public',\n",
    "    'Sam Houston State University': 'public',\n",
    "    'Northwestern State University of Louisiana': 'public',\n",
    "    'Utah State University': 'public',\n",
    "    'California State University-Northridge': 'public',\n",
    "    'Indiana State University': 'public',\n",
    "    'University of Northern Colorado': 'public',\n",
    "    'Long Island University': 'private',\n",
    "    'Pennsylvania State University-Main Campus': 'public',\n",
    "    'George Mason University': 'public',\n",
    "    'University of Arkansas at Pine Bluff': 'public',\n",
    "    'Binghamton University': 'public',\n",
    "    'University of Akron Main Campus': 'public',\n",
    "    'University of South Alabama': 'public',\n",
    "    'Portland State University': 'public',\n",
    "    'Boise State University': 'public',\n",
    "    'Mississippi State University': 'public',\n",
    "    'University of Nevada-Las Vegas': 'public',\n",
    "    'Washington State University': 'public',\n",
    "    'Oral Roberts University': 'private',\n",
    "    'Mississippi Valley State University': 'public',\n",
    "    'The University of Texas at Arlington': 'public',\n",
    "    'University of California-Santa Barbara': 'public',\n",
    "    'Boston University': 'private',\n",
    "    'Colorado State University-Fort Collins': 'public',\n",
    "    'University of Southern Mississippi': 'public',\n",
    "    'Loyola University Maryland': 'private',\n",
    "    'University of New Mexico-Main Campus': 'public',\n",
    "    'Creighton University': 'private',\n",
    "    'California State University-Long Beach': 'public',\n",
    "    'University of Detroit Mercy': 'private',\n",
    "    'University of the Pacific': 'private',\n",
    "    \"Saint Peter's University\": 'private',\n",
    "    'The University of Texas at San Antonio': 'public',\n",
    "    'University of Massachusetts-Amherst': 'public',\n",
    "    'Texas Christian University': 'private',\n",
    "    'Drake University': 'private',\n",
    "    'Boston College': 'private',\n",
    "    'Oregon State University': 'public',\n",
    "    'Georgetown University': 'private',\n",
    "    'Southern Methodist University': 'private'\n",
    "}\n",
    "def get_school_type(school_name):\n",
    "    school_name = school_name.strip()\n",
    "    return college_classifications.get(school_name, 'unknown')\n",
    "\n",
    "# Apply the function to the DataFrame\n",
    "processed_data['Type'] = processed_data['School Identifier'].apply(get_school_type)\n",
    "\n",
    "#processed_data.to_csv('processed_data_double_lag_with_3.csv', index=False)\n",
    "len(college_classifications)"
   ]
  },
  {
   "cell_type": "code",
   "execution_count": 18,
   "metadata": {},
   "outputs": [],
   "source": [
    "import pandas as pd\n",
    "processed_data_lags = \n",
    "processed_data_lags['Type'] = processed_data_lags['Type'].apply(lambda x: 1 if x == 'private' else 0)\n",
    "processed_data_lags['Time_Trend'] = processed_data_lags['Year'] - processed_data_lags['Year'].min()\n",
    "processed_data_lags = processed_data_lags[processed_data_lags['Year'] != 2019]\n",
    "\n",
    "#processed_data_lags[processed_data_lags['Cinderella_3+ (Y)'] == 1][processed_data_lags['Type'] == 1][processed_data_lags['Undergraduate Size (Y to Y+1)'] < 10000]\n"
   ]
  },
  {
   "cell_type": "code",
   "execution_count": 19,
   "metadata": {},
   "outputs": [],
   "source": [
    "#Loyola University Maryland\n",
    "processed_data_lags.loc[2513, 'SAT_AVG (Y+1 to Y+2)'] = 1185.0\n",
    "processed_data_lags.loc[2514, 'SAT_AVG (Y to Y+1)'] = 1185.0\n",
    "processed_data_lags.loc[2514, 'SAT_AVG (Y+1 to Y+2)'] = 1200.0\n",
    "processed_data_lags.loc[2515, 'SAT_AVG (Y to Y+1)'] = 1200.0\n",
    "processed_data_lags.loc[2515, 'SAT_AVG (Y+1 to Y+2)'] = 1270.0\n",
    "processed_data_lags.loc[2516, 'SAT_AVG (Y to Y+1)'] = 1270.0\n",
    "processed_data_lags.loc[2516, 'SAT_AVG (Y+1 to Y+2)'] = 1225.0\n",
    "processed_data_lags.loc[2517, 'SAT_AVG (Y to Y+1)'] = 1225.0\n",
    "processed_data_lags.loc[2517, 'SAT_AVG (Y+1 to Y+2)'] = 1230.0\n",
    "processed_data_lags.loc[2518, 'SAT_AVG (Y to Y+1)'] = 1230.0\n",
    "processed_data_lags.loc[2518, 'SAT_AVG (Y+1 to Y+2)'] = 1235.0\n",
    "\n",
    "# Indiana State University\n",
    "processed_data_lags.loc[2266, 'SAT_AVG (Y+1 to Y+2)'] = 1036.5\n",
    "\n",
    "#'The University of Texas at El Paso'\n",
    "processed_data_lags.loc[2206, 'SAT_AVG (Y+1 to Y+2)'] = 1005.0\n",
    "\n",
    "#california state university bakersfield\n",
    "processed_data_lags.loc[1793, 'SAT_AVG (Y+1 to Y+2)'] = 900.0\n",
    "processed_data_lags.loc[1794, 'SAT_AVG (Y to Y+1)'] = 900.0\n",
    "processed_data_lags.loc[1794, 'SAT_AVG (Y+1 to Y+2)'] = 905.0\n",
    "processed_data_lags.loc[1795, 'SAT_AVG (Y to Y+1)'] = 905.0\n",
    "processed_data_lags.loc[1795, 'SAT_AVG (Y+1 to Y+2)'] = 905.0\n",
    "processed_data_lags.loc[1796, 'SAT_AVG (Y to Y+1)'] = 905.0\n",
    "processed_data_lags.loc[1796, 'SAT_AVG (Y+1 to Y+2)'] = 930.0\n",
    "processed_data_lags.loc[1797, 'SAT_AVG (Y to Y+1)'] = 930.0\n",
    "processed_data_lags.loc[1797, 'SAT_AVG (Y+1 to Y+2)'] = 980.0\n",
    "processed_data_lags.loc[1798, 'SAT_AVG (Y to Y+1)'] = 980.0\n",
    "processed_data_lags.loc[1798, 'SAT_AVG (Y+1 to Y+2)'] = 980.0\n",
    "\n",
    "\n",
    "#witicha state university\n",
    "processed_data_lags.loc[41, 'SAT_AVG (Y+1 to Y+2)'] = 1130.0\n",
    "processed_data_lags.loc[42, 'SAT_AVG (Y to Y+1)'] = 1130.0\n",
    "\n",
    "#kansas state university\n",
    "processed_data_lags.loc[84, 'SAT_AVG (Y to Y+1)'] = 1178.0\n",
    "processed_data_lags.loc[84, 'SAT_AVG (Y+1 to Y+2)'] = 1184.0\n",
    "processed_data_lags.loc[85, 'SAT_AVG (Y to Y+1)'] = 1184.0\n",
    "processed_data_lags.loc[85, 'SAT_AVG (Y+1 to Y+2)'] = 1184.0\n",
    "processed_data_lags.loc[86, 'SAT_AVG (Y to Y+1)'] = 1184.0\n",
    "processed_data_lags.loc[86, 'SAT_AVG (Y+1 to Y+2)'] = 1178.0\n",
    "processed_data_lags.loc[87, 'SAT_AVG (Y to Y+1)'] = 1178.0\n",
    "processed_data_lags.loc[87, 'SAT_AVG (Y+1 to Y+2)'] = 1162.0\n",
    "processed_data_lags.loc[88, 'SAT_AVG (Y to Y+1)'] = 1162.0\n",
    "processed_data_lags.loc[88, 'SAT_AVG (Y+1 to Y+2)'] = 1166.0\n",
    "processed_data_lags.loc[89, 'SAT_AVG (Y to Y+1)'] = 1166.0\n",
    "processed_data_lags.loc[89, 'SAT_AVG (Y+1 to Y+2)'] = 1174.0\n",
    "processed_data_lags.loc[90, 'SAT_AVG (Y to Y+1)'] = 1174.0\n",
    "processed_data_lags.loc[90, 'SAT_AVG (Y+1 to Y+2)'] = 1182.0\n",
    "processed_data_lags.loc[91, 'SAT_AVG (Y to Y+1)'] = 1182.0\n",
    "processed_data_lags.loc[91, 'SAT_AVG (Y+1 to Y+2)'] = 1194.0\n",
    "processed_data_lags.loc[92, 'SAT_AVG (Y to Y+1)'] = 1194.0\n",
    "processed_data_lags.loc[92, 'SAT_AVG (Y+1 to Y+2)'] = 1198.0\n",
    "processed_data_lags.loc[93, 'SAT_AVG (Y to Y+1)'] = 1198.0\n",
    "processed_data_lags.loc[93, 'SAT_AVG (Y+1 to Y+2)'] = 1194.0\n",
    "processed_data_lags.loc[94, 'SAT_AVG (Y to Y+1)'] = 1194.0\n",
    "processed_data_lags.loc[94, 'SAT_AVG (Y+1 to Y+2)'] = 1194.0\n",
    "\n",
    "#university of arizona\n",
    "processed_data_lags.loc[281, 'SAT_AVG (Y+1 to Y+2)'] = 1124.0\n",
    "processed_data_lags.loc[282, 'SAT_AVG (Y to Y+1)'] = 1124.0\n",
    "processed_data_lags.loc[282, 'SAT_AVG (Y+1 to Y+2)'] = 1129.0\n",
    "processed_data_lags.loc[283, 'SAT_AVG (Y to Y+1)'] = 1129.0\n",
    "processed_data_lags.loc[283, 'SAT_AVG (Y+1 to Y+2)'] = 1131.0\n",
    "processed_data_lags.loc[284, 'SAT_AVG (Y to Y+1)'] = 1131.0\n",
    "processed_data_lags.loc[284, 'SAT_AVG (Y+1 to Y+2)'] = 1137.0\n",
    "processed_data_lags.loc[285, 'SAT_AVG (Y to Y+1)'] = 1137.0\n",
    "\n",
    "#Western Kentucky University\n",
    "processed_data_lags.loc[396, 'Admission Rate (Y to Y+1)'] = 0.9720\n",
    "processed_data_lags.loc[396, 'Admission Rate (Y+1 to Y+2)'] = 0.958\n",
    "processed_data_lags.loc[396, 'SAT_AVG (Y to Y+1)'] = 1060.0\n",
    "processed_data_lags.loc[396, 'SAT_AVG (Y+1 to Y+2)'] = 1090.0\n",
    "processed_data_lags.loc[397, 'SAT_AVG (Y to Y+1)'] = 1090.0\n",
    "processed_data_lags.loc[397, 'SAT_AVG (Y+1 to Y+2)'] = 1075.0\n",
    "processed_data_lags.loc[398, 'SAT_AVG (Y to Y+1)'] = 1075.0\n",
    "processed_data_lags.loc[398, 'SAT_AVG (Y+1 to Y+2)'] = 1100.0\n",
    "processed_data_lags.loc[399, 'SAT_AVG (Y to Y+1)'] = 1120.0\n",
    "processed_data_lags.loc[399, 'SAT_AVG (Y+1 to Y+2)'] = 1110.0\n",
    "processed_data_lags.loc[400, 'SAT_AVG (Y to Y+1)'] = 1110.0\n",
    "processed_data_lags.loc[400, 'SAT_AVG (Y+1 to Y+2)'] = 1120.0\n",
    "processed_data_lags.loc[401, 'SAT_AVG (Y to Y+1)'] = 1120.0\n",
    "processed_data_lags.loc[401, 'SAT_AVG (Y+1 to Y+2)'] = 1140.0\n",
    "processed_data_lags.loc[402, 'SAT_AVG (Y to Y+1)'] = 1140.0\n",
    "processed_data_lags.loc[402, 'SAT_AVG (Y+1 to Y+2)'] = 1130.0\n",
    "processed_data_lags.loc[403, 'SAT_AVG (Y to Y+1)'] = 1130.0\n",
    "processed_data_lags.loc[403, 'SAT_AVG (Y+1 to Y+2)'] = 1130.0\n",
    "processed_data_lags.loc[404, 'SAT_AVG (Y to Y+1)'] = 1130.0\n",
    "\n",
    "#la salle university\n",
    "processed_data_lags.loc[428, 'SAT_AVG (Y+1 to Y+2)'] = 990.0\n",
    "processed_data_lags.loc[429, 'SAT_AVG (Y to Y+1)'] = 990.0\n",
    "processed_data_lags.loc[429, 'SAT_AVG (Y+1 to Y+2)'] = 990.0\n",
    "processed_data_lags.loc[430, 'SAT_AVG (Y to Y+1)'] = 990.0\n",
    "processed_data_lags.loc[430, 'SAT_AVG (Y+1 to Y+2)'] = 990.0\n",
    "\n",
    "#Fairleigh Dickinson University-Metropolitan Campus\n",
    "processed_data_lags.loc[1425, 'SAT_AVG (Y+1 to Y+2)'] = 1110.0\n",
    "processed_data_lags.loc[1426, 'SAT_AVG (Y to Y+1)'] = 1110.0\n",
    "processed_data_lags.loc[1426, 'SAT_AVG (Y+1 to Y+2)'] = 1110.0\n",
    "\n",
    "#temple university\n",
    "processed_data_lags.loc[510, 'SAT_AVG (Y+1 to Y+2)'] = 1156.0\n",
    "processed_data_lags.loc[511, 'SAT_AVG (Y to Y+1)'] = 1156.0\n",
    "processed_data_lags.loc[511, 'SAT_AVG (Y+1 to Y+2)'] = 1170.0\n",
    "processed_data_lags.loc[512, 'SAT_AVG (Y to Y+1)'] = 1170.0\n",
    "processed_data_lags.loc[512, 'SAT_AVG (Y+1 to Y+2)'] = 1223.0\n",
    "processed_data_lags.loc[513, 'SAT_AVG (Y to Y+1)'] = 1223.0\n",
    "processed_data_lags.loc[513, 'SAT_AVG (Y+1 to Y+2)'] = 1237.0\n",
    "processed_data_lags.loc[514, 'SAT_AVG (Y to Y+1)'] = 1237.0\n",
    "processed_data_lags.loc[514, 'SAT_AVG (Y+1 to Y+2)'] = 1238.0\n",
    "\n",
    "#wake forest\n",
    "processed_data_lags.loc[564, 'SAT_AVG (Y+1 to Y+2)'] = 1300.0\n",
    "processed_data_lags.loc[565, 'SAT_AVG (Y to Y+1)'] = 1300.0\n",
    "processed_data_lags.loc[565, 'SAT_AVG (Y+1 to Y+2)'] = 1310.0\n",
    "processed_data_lags.loc[566, 'SAT_AVG (Y to Y+1)'] = 1310.0\n",
    "processed_data_lags.loc[566, 'SAT_AVG (Y+1 to Y+2)'] = 1320.0  \n",
    "processed_data_lags.loc[567, 'SAT_AVG (Y to Y+1)'] = 1320.0\n",
    "processed_data_lags.loc[567, 'SAT_AVG (Y+1 to Y+2)'] = 1340.0\n",
    "processed_data_lags.loc[568, 'SAT_AVG (Y to Y+1)'] = 1340.0\n",
    "processed_data_lags.loc[568, 'SAT_AVG (Y+1 to Y+2)'] = 1330.0\n",
    "processed_data_lags.loc[569, 'SAT_AVG (Y to Y+1)'] = 1330.0\n",
    "processed_data_lags.loc[569, 'SAT_AVG (Y+1 to Y+2)'] = 1325.0\n",
    "processed_data_lags.loc[570, 'SAT_AVG (Y to Y+1)'] = 1325.0\n",
    "processed_data_lags.loc[570, 'SAT_AVG (Y+1 to Y+2)'] = 1315.0\n",
    "processed_data_lags.loc[571, 'SAT_AVG (Y to Y+1)'] = 1315.0\n",
    "processed_data_lags.loc[571, 'SAT_AVG (Y+1 to Y+2)'] = 1340.0\n",
    "processed_data_lags.loc[572, 'SAT_AVG (Y to Y+1)'] = 1340.0\n",
    "processed_data_lags.loc[572, 'SAT_AVG (Y+1 to Y+2)'] = 1355.0\n",
    "processed_data_lags.loc[573, 'SAT_AVG (Y to Y+1)'] = 1355.0\n",
    "processed_data_lags.loc[573, 'SAT_AVG (Y+1 to Y+2)'] = 1395.0\n",
    "processed_data_lags.loc[574, 'SAT_AVG (Y to Y+1)'] = 1395.0\n",
    "processed_data_lags.loc[574, 'SAT_AVG (Y+1 to Y+2)'] = 1405.0\n",
    "\n",
    "#providence college\n",
    "processed_data_lags.loc[857, 'SAT_AVG (Y+1 to Y+2)'] = 1230.0\n",
    "processed_data_lags.loc[858, 'SAT_AVG (Y to Y+1)'] = 1230.0\n",
    "processed_data_lags.loc[858, 'SAT_AVG (Y+1 to Y+2)'] = 1230.0\n",
    "processed_data_lags.loc[859, 'SAT_AVG (Y to Y+1)'] = 1230.0\n",
    "\n",
    "#siena college\n",
    "processed_data_lags.loc[1050, 'SAT_AVG (Y+1 to Y+2)'] = 1190.0\n",
    "processed_data_lags.loc[1051, 'SAT_AVG (Y to Y+1)'] = 1190.0\n",
    "processed_data_lags.loc[1051, 'SAT_AVG (Y+1 to Y+2)'] = 1190.0\n",
    "processed_data_lags.loc[1052, 'SAT_AVG (Y to Y+1)'] = 1190.0\n",
    "processed_data_lags.loc[1052, 'SAT_AVG (Y+1 to Y+2)'] = 1210.0\n",
    "processed_data_lags.loc[1053, 'SAT_AVG (Y to Y+1)'] = 1210.0\n",
    "processed_data_lags.loc[1053, 'SAT_AVG (Y+1 to Y+2)'] = 1180.0\n",
    "processed_data_lags.loc[1054, 'SAT_AVG (Y to Y+1)'] = 1180.0\n",
    "processed_data_lags.loc[1054, 'SAT_AVG (Y+1 to Y+2)'] = 1170.0\n",
    "processed_data_lags.loc[1055, 'SAT_AVG (Y to Y+1)'] = 1170.0\n",
    "processed_data_lags.loc[1055, 'SAT_AVG (Y+1 to Y+2)'] = 1170.0\n",
    "\n",
    "#radford university\n",
    "processed_data_lags.loc[1314, 'SAT_AVG (Y+1 to Y+2)'] = 977.0\n",
    "processed_data_lags.loc[1315, 'SAT_AVG (Y to Y+1)'] = 977.0\n",
    "processed_data_lags.loc[1315, 'SAT_AVG (Y+1 to Y+2)'] = 957.0\n",
    "processed_data_lags.loc[1316, 'SAT_AVG (Y to Y+1)'] = 957.0\n",
    "processed_data_lags.loc[1316, 'SAT_AVG (Y+1 to Y+2)'] = 1034.0\n",
    "processed_data_lags.loc[1317, 'SAT_AVG (Y to Y+1)'] = 1034.0\n",
    "processed_data_lags.loc[1317, 'SAT_AVG (Y+1 to Y+2)'] = 1039.0\n",
    "processed_data_lags.loc[1318, 'SAT_AVG (Y to Y+1)'] = 1039.0\n",
    "processed_data_lags.loc[1318, 'SAT_AVG (Y+1 to Y+2)'] = 1030.0\n",
    "\n",
    "#mahattan college\n",
    "processed_data_lags.loc[1586, 'SAT_AVG (Y+1 to Y+2)'] = 1060.0\n",
    "processed_data_lags.loc[1586, 'Admission Rate (Y+1 to Y+2)'] = 0.6400\n",
    "processed_data_lags.loc[1587, 'Admission Rate (Y to Y+1)'] = 0.6400\n",
    "processed_data_lags.loc[1587, 'Admission Rate (Y+1 to Y+2)'] = 0.6500\n",
    "processed_data_lags.loc[1588, 'Admission Rate (Y to Y+1)'] = 0.6500\n",
    "processed_data_lags.loc[1587, 'SAT_AVG (Y to Y+1)'] = 1060.0\n",
    "processed_data_lags.loc[1587, 'SAT_AVG (Y+1 to Y+2)'] = 1060.0\n",
    "processed_data_lags.loc[1588, 'SAT_AVG (Y to Y+1)'] = 1060.0\n",
    "\n",
    "#holy cross\n",
    "processed_data_lags.loc[1752, 'SAT_AVG (Y+1 to Y+2)'] = 1270.0\n",
    "processed_data_lags.loc[1753, 'SAT_AVG (Y to Y+1)'] = 1270.0\n",
    "processed_data_lags.loc[1753, 'SAT_AVG (Y+1 to Y+2)'] = 1290.0\n",
    "processed_data_lags.loc[1754, 'SAT_AVG (Y to Y+1)'] = 1290.0\n",
    "processed_data_lags.loc[1754, 'SAT_AVG (Y+1 to Y+2)'] = 1325.0\n",
    "processed_data_lags.loc[1755, 'SAT_AVG (Y to Y+1)'] = 1325.0\n",
    "processed_data_lags.loc[1755, 'SAT_AVG (Y+1 to Y+2)'] = 1340.0\n",
    "processed_data_lags.loc[1756, 'SAT_AVG (Y to Y+1)'] = 1340.0\n",
    "processed_data_lags.loc[1756, 'SAT_AVG (Y+1 to Y+2)'] = 1360.0\n",
    "processed_data_lags.loc[1757, 'SAT_AVG (Y to Y+1)'] = 1360.0\n",
    "processed_data_lags.loc[1757, 'SAT_AVG (Y+1 to Y+2)'] = 1360.0\n",
    "processed_data_lags.loc[1758, 'SAT_AVG (Y to Y+1)'] = 1360.0\n",
    "processed_data_lags.loc[1758, 'SAT_AVG (Y+1 to Y+2)'] = 1350.0\n",
    "processed_data_lags.loc[1759, 'SAT_AVG (Y to Y+1)'] = 1350.0\n",
    "processed_data_lags.loc[1759, 'SAT_AVG (Y+1 to Y+2)'] = 1350.0\n",
    "processed_data_lags.loc[1760, 'SAT_AVG (Y to Y+1)'] = 1350.0\n",
    "processed_data_lags.loc[1760, 'SAT_AVG (Y+1 to Y+2)'] = 1330.0\n",
    "processed_data_lags.loc[1761, 'SAT_AVG (Y to Y+1)'] = 1330.0\n",
    "processed_data_lags.loc[1761, 'SAT_AVG (Y+1 to Y+2)'] = 1350.0\n",
    "processed_data_lags.loc[1762, 'SAT_AVG (Y to Y+1)'] = 1350.0\n",
    "\n",
    "#saint joseph's university\n",
    "processed_data_lags.loc[1637, 'SAT_AVG (Y+1 to Y+2)'] = 1130.0\n",
    "processed_data_lags.loc[1638, 'SAT_AVG (Y to Y+1)'] = 1130.0\n",
    "processed_data_lags.loc[1638, 'SAT_AVG (Y+1 to Y+2)'] = 1130.0\n",
    "processed_data_lags.loc[1639, 'SAT_AVG (Y to Y+1)'] = 1130.0\n",
    "\n",
    "#hampton university\n",
    "processed_data_lags.loc[1764, 'SAT_AVG (Y+1 to Y+2)'] = 1060.0\n",
    "processed_data_lags.loc[1765, 'SAT_AVG (Y to Y+1)'] = 1060.0\n",
    "processed_data_lags.loc[1773, 'SAT_AVG (Y+1 to Y+2)'] = 1090.0\n",
    "processed_data_lags.loc[1774, 'SAT_AVG (Y to Y+1)'] = 1090.0\n",
    "processed_data_lags.loc[1774, 'SAT_AVG (Y+1 to Y+2)'] = 1070.0\n",
    "processed_data_lags.loc[1764, 'Admission Rate (Y+1 to Y+2)'] = 0.3600\n",
    "processed_data_lags.loc[1765, 'Admission Rate (Y to Y+1)'] = 0.3600\n"
   ]
  },
  {
   "cell_type": "code",
   "execution_count": 20,
   "metadata": {},
   "outputs": [],
   "source": [
    "missing_schools = ['Liberty University', 'Wright State University-Main Campus',\"Weber State University\", 'University of Akron Main Campus', 'University of Arkansas at Little Rock']\n",
    "processed_data_lags = processed_data_lags[~processed_data_lags['School Identifier'].isin(missing_schools)]\n",
    "processed_data_lags = processed_data_lags.dropna()\n",
    "processed_data_lags = processed_data_lags.reset_index(drop=True)\n",
    "# processed_data_lags.to_csv('processed_data', index=False)"
   ]
  },
  {
   "cell_type": "code",
   "execution_count": 25,
   "metadata": {},
   "outputs": [
    {
     "data": {
      "text/html": [
       "<div>\n",
       "<style scoped>\n",
       "    .dataframe tbody tr th:only-of-type {\n",
       "        vertical-align: middle;\n",
       "    }\n",
       "\n",
       "    .dataframe tbody tr th {\n",
       "        vertical-align: top;\n",
       "    }\n",
       "\n",
       "    .dataframe thead th {\n",
       "        text-align: right;\n",
       "    }\n",
       "</style>\n",
       "<table border=\"1\" class=\"dataframe\">\n",
       "  <thead>\n",
       "    <tr style=\"text-align: right;\">\n",
       "      <th></th>\n",
       "      <th>School Identifier</th>\n",
       "      <th>Year</th>\n",
       "      <th>Cinderella_0 (Y)</th>\n",
       "      <th>Cinderella_1 (Y)</th>\n",
       "      <th>Cinderella_2 (Y)</th>\n",
       "      <th>Cinderella_3+ (Y)</th>\n",
       "      <th>March Madness Participation (Y)</th>\n",
       "      <th>SAT_AVG (Y to Y+1)</th>\n",
       "      <th>Admission Rate (Y to Y+1)</th>\n",
       "      <th>Undergraduate Size (Y to Y+1)</th>\n",
       "      <th>SAT_AVG (Y+1 to Y+2)</th>\n",
       "      <th>Admission Rate (Y+1 to Y+2)</th>\n",
       "      <th>SAT_AVG (Y+2 to Y+3)</th>\n",
       "      <th>Admission Rate (Y+2 to Y+3)</th>\n",
       "      <th>Type</th>\n",
       "      <th>Time_Trend</th>\n",
       "      <th>cinderella</th>\n",
       "    </tr>\n",
       "  </thead>\n",
       "  <tbody>\n",
       "    <tr>\n",
       "      <th>32</th>\n",
       "      <td>Syracuse University</td>\n",
       "      <td>2018.0</td>\n",
       "      <td>0.0</td>\n",
       "      <td>0.0</td>\n",
       "      <td>1.0</td>\n",
       "      <td>0.0</td>\n",
       "      <td>1.0</td>\n",
       "      <td>1284.0</td>\n",
       "      <td>0.4986</td>\n",
       "      <td>14759.0</td>\n",
       "      <td>1291.0</td>\n",
       "      <td>0.4438</td>\n",
       "      <td>0.0</td>\n",
       "      <td>0.6872</td>\n",
       "      <td>1.0</td>\n",
       "      <td>10.0</td>\n",
       "      <td>1</td>\n",
       "    </tr>\n",
       "    <tr>\n",
       "      <th>54</th>\n",
       "      <td>Loyola University Chicago</td>\n",
       "      <td>2018.0</td>\n",
       "      <td>0.0</td>\n",
       "      <td>0.0</td>\n",
       "      <td>0.0</td>\n",
       "      <td>1.0</td>\n",
       "      <td>1.0</td>\n",
       "      <td>1261.0</td>\n",
       "      <td>0.6792</td>\n",
       "      <td>11727.0</td>\n",
       "      <td>1263.0</td>\n",
       "      <td>0.6722</td>\n",
       "      <td>1261.0</td>\n",
       "      <td>0.7054</td>\n",
       "      <td>1.0</td>\n",
       "      <td>10.0</td>\n",
       "      <td>1</td>\n",
       "    </tr>\n",
       "    <tr>\n",
       "      <th>87</th>\n",
       "      <td>Kansas State University</td>\n",
       "      <td>2018.0</td>\n",
       "      <td>0.0</td>\n",
       "      <td>0.0</td>\n",
       "      <td>0.0</td>\n",
       "      <td>1.0</td>\n",
       "      <td>1.0</td>\n",
       "      <td>1194.0</td>\n",
       "      <td>0.9340</td>\n",
       "      <td>17611.0</td>\n",
       "      <td>1194.0</td>\n",
       "      <td>0.9537</td>\n",
       "      <td>0.0</td>\n",
       "      <td>0.9415</td>\n",
       "      <td>0.0</td>\n",
       "      <td>10.0</td>\n",
       "      <td>0</td>\n",
       "    </tr>\n",
       "    <tr>\n",
       "      <th>142</th>\n",
       "      <td>University of Michigan-Ann Arbor</td>\n",
       "      <td>2018.0</td>\n",
       "      <td>0.0</td>\n",
       "      <td>0.0</td>\n",
       "      <td>0.0</td>\n",
       "      <td>1.0</td>\n",
       "      <td>1.0</td>\n",
       "      <td>1434.0</td>\n",
       "      <td>0.2283</td>\n",
       "      <td>30079.0</td>\n",
       "      <td>1448.0</td>\n",
       "      <td>0.2291</td>\n",
       "      <td>1445.0</td>\n",
       "      <td>0.2611</td>\n",
       "      <td>0.0</td>\n",
       "      <td>10.0</td>\n",
       "      <td>0</td>\n",
       "    </tr>\n",
       "    <tr>\n",
       "      <th>164</th>\n",
       "      <td>Florida State University</td>\n",
       "      <td>2018.0</td>\n",
       "      <td>0.0</td>\n",
       "      <td>0.0</td>\n",
       "      <td>0.0</td>\n",
       "      <td>1.0</td>\n",
       "      <td>1.0</td>\n",
       "      <td>1289.0</td>\n",
       "      <td>0.3678</td>\n",
       "      <td>32336.0</td>\n",
       "      <td>1284.0</td>\n",
       "      <td>0.3597</td>\n",
       "      <td>1308.0</td>\n",
       "      <td>0.3245</td>\n",
       "      <td>0.0</td>\n",
       "      <td>10.0</td>\n",
       "      <td>0</td>\n",
       "    </tr>\n",
       "  </tbody>\n",
       "</table>\n",
       "</div>"
      ],
      "text/plain": [
       "                    School Identifier    Year  Cinderella_0 (Y)  \\\n",
       "32                Syracuse University  2018.0               0.0   \n",
       "54          Loyola University Chicago  2018.0               0.0   \n",
       "87            Kansas State University  2018.0               0.0   \n",
       "142  University of Michigan-Ann Arbor  2018.0               0.0   \n",
       "164          Florida State University  2018.0               0.0   \n",
       "\n",
       "     Cinderella_1 (Y)  Cinderella_2 (Y)  Cinderella_3+ (Y)  \\\n",
       "32                0.0               1.0                0.0   \n",
       "54                0.0               0.0                1.0   \n",
       "87                0.0               0.0                1.0   \n",
       "142               0.0               0.0                1.0   \n",
       "164               0.0               0.0                1.0   \n",
       "\n",
       "     March Madness Participation (Y)  SAT_AVG (Y to Y+1)  \\\n",
       "32                               1.0              1284.0   \n",
       "54                               1.0              1261.0   \n",
       "87                               1.0              1194.0   \n",
       "142                              1.0              1434.0   \n",
       "164                              1.0              1289.0   \n",
       "\n",
       "     Admission Rate (Y to Y+1)  Undergraduate Size (Y to Y+1)  \\\n",
       "32                      0.4986                        14759.0   \n",
       "54                      0.6792                        11727.0   \n",
       "87                      0.9340                        17611.0   \n",
       "142                     0.2283                        30079.0   \n",
       "164                     0.3678                        32336.0   \n",
       "\n",
       "     SAT_AVG (Y+1 to Y+2)  Admission Rate (Y+1 to Y+2)  SAT_AVG (Y+2 to Y+3)  \\\n",
       "32                 1291.0                       0.4438                   0.0   \n",
       "54                 1263.0                       0.6722                1261.0   \n",
       "87                 1194.0                       0.9537                   0.0   \n",
       "142                1448.0                       0.2291                1445.0   \n",
       "164                1284.0                       0.3597                1308.0   \n",
       "\n",
       "     Admission Rate (Y+2 to Y+3)  Type  Time_Trend  cinderella  \n",
       "32                        0.6872   1.0        10.0           1  \n",
       "54                        0.7054   1.0        10.0           1  \n",
       "87                        0.9415   0.0        10.0           0  \n",
       "142                       0.2611   0.0        10.0           0  \n",
       "164                       0.3245   0.0        10.0           0  "
      ]
     },
     "execution_count": 25,
     "metadata": {},
     "output_type": "execute_result"
    }
   ],
   "source": [
    "import pandas as pd\n",
    "processed_data = pd.read_csv('final_data/processed_data.csv')\n",
    "cinderella_teams_years_updated = [\n",
    "    (\"Davidson College\", 2008),\n",
    "    (\"University of Arizona\", 2009),\n",
    "    (\"Butler University\", 2010),\n",
    "    (\"Cornell University\", 2010),\n",
    "    (\"Saint Mary's College of California\", 2010),\n",
    "    (\"University of Northern Iowa\", 2010),\n",
    "    (\"Butler University\", 2011),\n",
    "    (\"Virginia Commonwealth University\", 2011),\n",
    "    (\"North Carolina State University at Raleigh\", 2012),\n",
    "    (\"Ohio University-Main Campus\", 2012),\n",
    "    (\"Xavier University\", 2012),\n",
    "    (\"Florida Gulf Coast University\", 2013),\n",
    "    (\"La Salle University\", 2013),\n",
    "    (\"Wichita State University\", 2013),\n",
    "    (\"University of Dayton\", 2014),\n",
    "    (\"Syracuse University\", 2016),\n",
    "    (\"University of Michigan-Ann Arbor\", 2017),\n",
    "    (\"University of South Carolina-Columbia\", 2017),\n",
    "    (\"Xavier University\", 2017),\n",
    "    (\"Loyola University Chicago\", 2018),\n",
    "    ('Syracuse University', 2018)\n",
    "]\n",
    "\n",
    "# Function to determine if a school and year combination is in the list of Cinderella teams\n",
    "def is_cinderella(school, year):\n",
    "    for cinderella_school, cinderella_year in cinderella_teams_years_updated:\n",
    "        if school == cinderella_school and cinderella_year == year:\n",
    "            return 1\n",
    "    return 0\n",
    "\n",
    "# Creating the binary variable 'cinderella' with exact matching for revised names\n",
    "processed_data['cinderella'] = processed_data.apply(lambda row: is_cinderella(row['School Identifier'], row['Year']), axis=1)\n",
    "processed_data[(processed_data['Year'] == 2018) & ((processed_data['Cinderella_2 (Y)'] == 1) | (processed_data['Cinderella_3+ (Y)'] == 1))]"
   ]
  },
  {
   "cell_type": "markdown",
   "metadata": {},
   "source": [
    "## Analysis"
   ]
  },
  {
   "cell_type": "code",
   "execution_count": 28,
   "metadata": {},
   "outputs": [],
   "source": [
    "import statsmodels.api as sm\n",
    "\n",
    "\n",
    "# Define the independent variables and the dependent variable for the regression\n",
    "# We are predicting SAT_AVG (Y+1 to Y+2) using the data from Y to Y+1\n",
    "X = processed_data[['cinderella','Time_Trend','Type', 'SAT_AVG (Y to Y+1)','Undergraduate Size (Y to Y+1)']]\n",
    "y = processed_data['SAT_AVG (Y+1 to Y+2)']\n",
    "# Add a constant to the independent variables matrix\n",
    "X = sm.add_constant(X)\n",
    "\n",
    "# Fit the regression model\n",
    "model = sm.OLS(y, X).fit()\n",
    "\n",
    "# Output the regression summary\n",
    "model.summary()\n",
    "results = model.summary2().tables[1]\n"
   ]
  },
  {
   "cell_type": "code",
   "execution_count": 30,
   "metadata": {},
   "outputs": [],
   "source": [
    "X = processed_data[['cinderella','Time_Trend','Type', 'Admission Rate (Y to Y+1)','Undergraduate Size (Y to Y+1)']]\n",
    "y = processed_data['Admission Rate (Y+1 to Y+2)']\n",
    "# Add a constant to the independent variables matrix\n",
    "X = sm.add_constant(X)\n",
    "\n",
    "# Fit the regression model\n",
    "model = sm.OLS(y, X).fit()\n",
    "\n",
    "# Output the regression summary\n",
    "model.summary()\n",
    "results = model.summary2().tables[1]\n"
   ]
  },
  {
   "cell_type": "code",
   "execution_count": 19,
   "metadata": {},
   "outputs": [],
   "source": [
    "import statsmodels.api as sm\n",
    "# Convert 'Type' into a binary indicator (1 for private, 0 for public)\n",
    "\n",
    "import pandas as pd\n",
    "# Convert 'Type' into a binary indicator (1 for private, 0 for public)\n",
    "processed_data = pd.read_csv('final_data/processed_data.csv')\n",
    "# Define the independent variables and the dependent variable for the regression\n",
    "# We are predicting SAT_AVG (Y+1 to Y+2) using the data from Y to Y+1\n",
    "X = processed_data[['Cinderella_0 (Y)', 'Cinderella_1 (Y)', 'Cinderella_2 (Y)', 'Cinderella_3+ (Y)','Time_Trend','Type', 'SAT_AVG (Y to Y+1)','Undergraduate Size (Y to Y+1)']]\n",
    "y = processed_data['SAT_AVG (Y+1 to Y+2)']\n",
    "# Add a constant to the independent variables matrix\n",
    "X = sm.add_constant(X)\n",
    "\n",
    "# Fit the regression model\n",
    "model = sm.OLS(y, X).fit()\n",
    "\n",
    "# Output the regression summary\n",
    "model.summary()\n"
   ]
  },
  {
   "cell_type": "code",
   "execution_count": 23,
   "metadata": {},
   "outputs": [
    {
     "data": {
      "text/html": [
       "<table class=\"simpletable\">\n",
       "<caption>OLS Regression Results</caption>\n",
       "<tr>\n",
       "  <th>Dep. Variable:</th>    <td>Admission Rate (Y+1 to Y+2)</td> <th>  R-squared:         </th> <td>   0.908</td>\n",
       "</tr>\n",
       "<tr>\n",
       "  <th>Model:</th>                        <td>OLS</td>             <th>  Adj. R-squared:    </th> <td>   0.908</td>\n",
       "</tr>\n",
       "<tr>\n",
       "  <th>Method:</th>                  <td>Least Squares</td>        <th>  F-statistic:       </th> <td>   3394.</td>\n",
       "</tr>\n",
       "<tr>\n",
       "  <th>Date:</th>                  <td>Sun, 19 May 2024</td>       <th>  Prob (F-statistic):</th>  <td>  0.00</td> \n",
       "</tr>\n",
       "<tr>\n",
       "  <th>Time:</th>                      <td>00:49:13</td>           <th>  Log-Likelihood:    </th> <td>  3117.0</td>\n",
       "</tr>\n",
       "<tr>\n",
       "  <th>No. Observations:</th>           <td>  2409</td>            <th>  AIC:               </th> <td>  -6218.</td>\n",
       "</tr>\n",
       "<tr>\n",
       "  <th>Df Residuals:</th>               <td>  2401</td>            <th>  BIC:               </th> <td>  -6172.</td>\n",
       "</tr>\n",
       "<tr>\n",
       "  <th>Df Model:</th>                   <td>     7</td>            <th>                     </th>     <td> </td>   \n",
       "</tr>\n",
       "<tr>\n",
       "  <th>Covariance Type:</th>           <td>nonrobust</td>          <th>                     </th>     <td> </td>   \n",
       "</tr>\n",
       "</table>\n",
       "<table class=\"simpletable\">\n",
       "<tr>\n",
       "                <td></td>                   <th>coef</th>     <th>std err</th>      <th>t</th>      <th>P>|t|</th>  <th>[0.025</th>    <th>0.975]</th>  \n",
       "</tr>\n",
       "<tr>\n",
       "  <th>const</th>                         <td>    0.0269</td> <td>    0.007</td> <td>    3.921</td> <td> 0.000</td> <td>    0.013</td> <td>    0.040</td>\n",
       "</tr>\n",
       "<tr>\n",
       "  <th>Cinderella_0 (Y)</th>              <td>    0.0089</td> <td>    0.004</td> <td>    2.025</td> <td> 0.043</td> <td>    0.000</td> <td>    0.018</td>\n",
       "</tr>\n",
       "<tr>\n",
       "  <th>Cinderella_1 (Y)</th>              <td>    0.0202</td> <td>    0.007</td> <td>    3.082</td> <td> 0.002</td> <td>    0.007</td> <td>    0.033</td>\n",
       "</tr>\n",
       "<tr>\n",
       "  <th>Cinderella_2 (Y)</th>              <td>   -0.0058</td> <td>    0.010</td> <td>   -0.565</td> <td> 0.572</td> <td>   -0.026</td> <td>    0.014</td>\n",
       "</tr>\n",
       "<tr>\n",
       "  <th>Cinderella_3+ (Y)</th>             <td>    0.0036</td> <td>    0.013</td> <td>    0.283</td> <td> 0.777</td> <td>   -0.021</td> <td>    0.028</td>\n",
       "</tr>\n",
       "<tr>\n",
       "  <th>Time_Trend</th>                    <td>    0.0011</td> <td>    0.000</td> <td>    2.509</td> <td> 0.012</td> <td>    0.000</td> <td>    0.002</td>\n",
       "</tr>\n",
       "<tr>\n",
       "  <th>Admission Rate (Y to Y+1)</th>     <td>    0.9572</td> <td>    0.007</td> <td>  136.449</td> <td> 0.000</td> <td>    0.943</td> <td>    0.971</td>\n",
       "</tr>\n",
       "<tr>\n",
       "  <th>Type</th>                          <td>   -0.0168</td> <td>    0.004</td> <td>   -4.203</td> <td> 0.000</td> <td>   -0.025</td> <td>   -0.009</td>\n",
       "</tr>\n",
       "<tr>\n",
       "  <th>Undergraduate Size (Y to Y+1)</th> <td>-5.605e-07</td> <td>  1.7e-07</td> <td>   -3.300</td> <td> 0.001</td> <td>-8.94e-07</td> <td>-2.27e-07</td>\n",
       "</tr>\n",
       "</table>\n",
       "<table class=\"simpletable\">\n",
       "<tr>\n",
       "  <th>Omnibus:</th>       <td>740.167</td> <th>  Durbin-Watson:     </th> <td>   2.234</td> \n",
       "</tr>\n",
       "<tr>\n",
       "  <th>Prob(Omnibus):</th> <td> 0.000</td>  <th>  Jarque-Bera (JB):  </th> <td>26042.519</td>\n",
       "</tr>\n",
       "<tr>\n",
       "  <th>Skew:</th>          <td> 0.775</td>  <th>  Prob(JB):          </th> <td>    0.00</td> \n",
       "</tr>\n",
       "<tr>\n",
       "  <th>Kurtosis:</th>      <td>19.033</td>  <th>  Cond. No.          </th> <td>6.29e+18</td> \n",
       "</tr>\n",
       "</table><br/><br/>Notes:<br/>[1] Standard Errors assume that the covariance matrix of the errors is correctly specified.<br/>[2] The smallest eigenvalue is 2.01e-26. This might indicate that there are<br/>strong multicollinearity problems or that the design matrix is singular."
      ],
      "text/latex": [
       "\\begin{center}\n",
       "\\begin{tabular}{lclc}\n",
       "\\toprule\n",
       "\\textbf{Dep. Variable:}                & Admission Rate (Y+1 to Y+2) & \\textbf{  R-squared:         } &     0.908   \\\\\n",
       "\\textbf{Model:}                        &             OLS             & \\textbf{  Adj. R-squared:    } &     0.908   \\\\\n",
       "\\textbf{Method:}                       &        Least Squares        & \\textbf{  F-statistic:       } &     3394.   \\\\\n",
       "\\textbf{Date:}                         &       Sun, 19 May 2024      & \\textbf{  Prob (F-statistic):} &     0.00    \\\\\n",
       "\\textbf{Time:}                         &           00:49:13          & \\textbf{  Log-Likelihood:    } &    3117.0   \\\\\n",
       "\\textbf{No. Observations:}             &              2409           & \\textbf{  AIC:               } &    -6218.   \\\\\n",
       "\\textbf{Df Residuals:}                 &              2401           & \\textbf{  BIC:               } &    -6172.   \\\\\n",
       "\\textbf{Df Model:}                     &                 7           & \\textbf{                     } &             \\\\\n",
       "\\textbf{Covariance Type:}              &          nonrobust          & \\textbf{                     } &             \\\\\n",
       "\\bottomrule\n",
       "\\end{tabular}\n",
       "\\begin{tabular}{lcccccc}\n",
       "                                       & \\textbf{coef} & \\textbf{std err} & \\textbf{t} & \\textbf{P$> |$t$|$} & \\textbf{[0.025} & \\textbf{0.975]}  \\\\\n",
       "\\midrule\n",
       "\\textbf{const}                         &       0.0269  &        0.007     &     3.921  &         0.000        &        0.013    &        0.040     \\\\\n",
       "\\textbf{Cinderella\\_0 (Y)}             &       0.0089  &        0.004     &     2.025  &         0.043        &        0.000    &        0.018     \\\\\n",
       "\\textbf{Cinderella\\_1 (Y)}             &       0.0202  &        0.007     &     3.082  &         0.002        &        0.007    &        0.033     \\\\\n",
       "\\textbf{Cinderella\\_2 (Y)}             &      -0.0058  &        0.010     &    -0.565  &         0.572        &       -0.026    &        0.014     \\\\\n",
       "\\textbf{Cinderella\\_3+ (Y)}            &       0.0036  &        0.013     &     0.283  &         0.777        &       -0.021    &        0.028     \\\\\n",
       "\\textbf{Time\\_Trend}                   &       0.0011  &        0.000     &     2.509  &         0.012        &        0.000    &        0.002     \\\\\n",
       "\\textbf{Admission Rate (Y to Y+1)}     &       0.9572  &        0.007     &   136.449  &         0.000        &        0.943    &        0.971     \\\\\n",
       "\\textbf{Type}                          &      -0.0168  &        0.004     &    -4.203  &         0.000        &       -0.025    &       -0.009     \\\\\n",
       "\\textbf{Undergraduate Size (Y to Y+1)} &   -5.605e-07  &      1.7e-07     &    -3.300  &         0.001        &    -8.94e-07    &    -2.27e-07     \\\\\n",
       "\\bottomrule\n",
       "\\end{tabular}\n",
       "\\begin{tabular}{lclc}\n",
       "\\textbf{Omnibus:}       & 740.167 & \\textbf{  Durbin-Watson:     } &     2.234  \\\\\n",
       "\\textbf{Prob(Omnibus):} &   0.000 & \\textbf{  Jarque-Bera (JB):  } & 26042.519  \\\\\n",
       "\\textbf{Skew:}          &   0.775 & \\textbf{  Prob(JB):          } &      0.00  \\\\\n",
       "\\textbf{Kurtosis:}      &  19.033 & \\textbf{  Cond. No.          } &  6.29e+18  \\\\\n",
       "\\bottomrule\n",
       "\\end{tabular}\n",
       "%\\caption{OLS Regression Results}\n",
       "\\end{center}\n",
       "\n",
       "Notes: \\newline\n",
       " [1] Standard Errors assume that the covariance matrix of the errors is correctly specified. \\newline\n",
       " [2] The smallest eigenvalue is 2.01e-26. This might indicate that there are \\newline\n",
       " strong multicollinearity problems or that the design matrix is singular."
      ],
      "text/plain": [
       "<class 'statsmodels.iolib.summary.Summary'>\n",
       "\"\"\"\n",
       "                                 OLS Regression Results                                \n",
       "=======================================================================================\n",
       "Dep. Variable:     Admission Rate (Y+1 to Y+2)   R-squared:                       0.908\n",
       "Model:                                     OLS   Adj. R-squared:                  0.908\n",
       "Method:                          Least Squares   F-statistic:                     3394.\n",
       "Date:                         Sun, 19 May 2024   Prob (F-statistic):               0.00\n",
       "Time:                                 00:49:13   Log-Likelihood:                 3117.0\n",
       "No. Observations:                         2409   AIC:                            -6218.\n",
       "Df Residuals:                             2401   BIC:                            -6172.\n",
       "Df Model:                                    7                                         \n",
       "Covariance Type:                     nonrobust                                         \n",
       "=================================================================================================\n",
       "                                    coef    std err          t      P>|t|      [0.025      0.975]\n",
       "-------------------------------------------------------------------------------------------------\n",
       "const                             0.0269      0.007      3.921      0.000       0.013       0.040\n",
       "Cinderella_0 (Y)                  0.0089      0.004      2.025      0.043       0.000       0.018\n",
       "Cinderella_1 (Y)                  0.0202      0.007      3.082      0.002       0.007       0.033\n",
       "Cinderella_2 (Y)                 -0.0058      0.010     -0.565      0.572      -0.026       0.014\n",
       "Cinderella_3+ (Y)                 0.0036      0.013      0.283      0.777      -0.021       0.028\n",
       "Time_Trend                        0.0011      0.000      2.509      0.012       0.000       0.002\n",
       "Admission Rate (Y to Y+1)         0.9572      0.007    136.449      0.000       0.943       0.971\n",
       "Type                             -0.0168      0.004     -4.203      0.000      -0.025      -0.009\n",
       "Undergraduate Size (Y to Y+1) -5.605e-07    1.7e-07     -3.300      0.001   -8.94e-07   -2.27e-07\n",
       "==============================================================================\n",
       "Omnibus:                      740.167   Durbin-Watson:                   2.234\n",
       "Prob(Omnibus):                  0.000   Jarque-Bera (JB):            26042.519\n",
       "Skew:                           0.775   Prob(JB):                         0.00\n",
       "Kurtosis:                      19.033   Cond. No.                     6.29e+18\n",
       "==============================================================================\n",
       "\n",
       "Notes:\n",
       "[1] Standard Errors assume that the covariance matrix of the errors is correctly specified.\n",
       "[2] The smallest eigenvalue is 2.01e-26. This might indicate that there are\n",
       "strong multicollinearity problems or that the design matrix is singular.\n",
       "\"\"\""
      ]
     },
     "execution_count": 23,
     "metadata": {},
     "output_type": "execute_result"
    }
   ],
   "source": [
    "import statsmodels.api as sm\n",
    "X = processed_data[['Cinderella_0 (Y)', 'Cinderella_1 (Y)', \n",
    "          'Cinderella_2 (Y)', 'Cinderella_3+ (Y)','Time_Trend','Admission Rate (Y to Y+1)', 'Type', 'Undergraduate Size (Y to Y+1)']]\n",
    "y = processed_data['Admission Rate (Y+1 to Y+2)']\n",
    "\n",
    "# Add a constant to the independent variables matrix\n",
    "X = sm.add_constant(X)\n",
    "\n",
    "# Fit the regression model\n",
    "model = sm.OLS(y, X).fit()\n",
    "\n",
    "# Output the regression summary\n",
    "model.summary()\n"
   ]
  },
  {
   "cell_type": "code",
   "execution_count": 33,
   "metadata": {},
   "outputs": [
    {
     "ename": "ValueError",
     "evalue": "Pandas data cast to numpy dtype of object. Check input data with np.asarray(data).",
     "output_type": "error",
     "traceback": [
      "\u001b[0;31m---------------------------------------------------------------------------\u001b[0m",
      "\u001b[0;31mValueError\u001b[0m                                Traceback (most recent call last)",
      "\u001b[1;32m/Users/edubs5/Desktop/SSI III/dataset.ipynb Cell 27\u001b[0m line \u001b[0;36m1\n\u001b[1;32m     <a href='vscode-notebook-cell:/Users/edubs5/Desktop/SSI%20III/dataset.ipynb#X53sZmlsZQ%3D%3D?line=14'>15</a>\u001b[0m X \u001b[39m=\u001b[39m sm\u001b[39m.\u001b[39madd_constant(X)\n\u001b[1;32m     <a href='vscode-notebook-cell:/Users/edubs5/Desktop/SSI%20III/dataset.ipynb#X53sZmlsZQ%3D%3D?line=16'>17</a>\u001b[0m \u001b[39m# Fit the regression model\u001b[39;00m\n\u001b[0;32m---> <a href='vscode-notebook-cell:/Users/edubs5/Desktop/SSI%20III/dataset.ipynb#X53sZmlsZQ%3D%3D?line=17'>18</a>\u001b[0m model \u001b[39m=\u001b[39m sm\u001b[39m.\u001b[39;49mOLS(y, X)\u001b[39m.\u001b[39mfit()\n\u001b[1;32m     <a href='vscode-notebook-cell:/Users/edubs5/Desktop/SSI%20III/dataset.ipynb#X53sZmlsZQ%3D%3D?line=19'>20</a>\u001b[0m \u001b[39m# Extract the summary table and round coefficients to the hundredth\u001b[39;00m\n\u001b[1;32m     <a href='vscode-notebook-cell:/Users/edubs5/Desktop/SSI%20III/dataset.ipynb#X53sZmlsZQ%3D%3D?line=20'>21</a>\u001b[0m summary_table \u001b[39m=\u001b[39m model\u001b[39m.\u001b[39msummary2()\u001b[39m.\u001b[39mtables[\u001b[39m1\u001b[39m]\u001b[39m.\u001b[39mround(\u001b[39m2\u001b[39m)\n",
      "File \u001b[0;32m/Library/Frameworks/Python.framework/Versions/3.12/lib/python3.12/site-packages/statsmodels/regression/linear_model.py:923\u001b[0m, in \u001b[0;36mOLS.__init__\u001b[0;34m(self, endog, exog, missing, hasconst, **kwargs)\u001b[0m\n\u001b[1;32m    920\u001b[0m     msg \u001b[39m=\u001b[39m (\u001b[39m\"\u001b[39m\u001b[39mWeights are not supported in OLS and will be ignored\u001b[39m\u001b[39m\"\u001b[39m\n\u001b[1;32m    921\u001b[0m            \u001b[39m\"\u001b[39m\u001b[39mAn exception will be raised in the next version.\u001b[39m\u001b[39m\"\u001b[39m)\n\u001b[1;32m    922\u001b[0m     warnings\u001b[39m.\u001b[39mwarn(msg, ValueWarning)\n\u001b[0;32m--> 923\u001b[0m \u001b[39msuper\u001b[39;49m(OLS, \u001b[39mself\u001b[39;49m)\u001b[39m.\u001b[39;49m\u001b[39m__init__\u001b[39;49m(endog, exog, missing\u001b[39m=\u001b[39;49mmissing,\n\u001b[1;32m    924\u001b[0m                           hasconst\u001b[39m=\u001b[39;49mhasconst, \u001b[39m*\u001b[39;49m\u001b[39m*\u001b[39;49mkwargs)\n\u001b[1;32m    925\u001b[0m \u001b[39mif\u001b[39;00m \u001b[39m\"\u001b[39m\u001b[39mweights\u001b[39m\u001b[39m\"\u001b[39m \u001b[39min\u001b[39;00m \u001b[39mself\u001b[39m\u001b[39m.\u001b[39m_init_keys:\n\u001b[1;32m    926\u001b[0m     \u001b[39mself\u001b[39m\u001b[39m.\u001b[39m_init_keys\u001b[39m.\u001b[39mremove(\u001b[39m\"\u001b[39m\u001b[39mweights\u001b[39m\u001b[39m\"\u001b[39m)\n",
      "File \u001b[0;32m/Library/Frameworks/Python.framework/Versions/3.12/lib/python3.12/site-packages/statsmodels/regression/linear_model.py:748\u001b[0m, in \u001b[0;36mWLS.__init__\u001b[0;34m(self, endog, exog, weights, missing, hasconst, **kwargs)\u001b[0m\n\u001b[1;32m    746\u001b[0m \u001b[39melse\u001b[39;00m:\n\u001b[1;32m    747\u001b[0m     weights \u001b[39m=\u001b[39m weights\u001b[39m.\u001b[39msqueeze()\n\u001b[0;32m--> 748\u001b[0m \u001b[39msuper\u001b[39;49m(WLS, \u001b[39mself\u001b[39;49m)\u001b[39m.\u001b[39;49m\u001b[39m__init__\u001b[39;49m(endog, exog, missing\u001b[39m=\u001b[39;49mmissing,\n\u001b[1;32m    749\u001b[0m                           weights\u001b[39m=\u001b[39;49mweights, hasconst\u001b[39m=\u001b[39;49mhasconst, \u001b[39m*\u001b[39;49m\u001b[39m*\u001b[39;49mkwargs)\n\u001b[1;32m    750\u001b[0m nobs \u001b[39m=\u001b[39m \u001b[39mself\u001b[39m\u001b[39m.\u001b[39mexog\u001b[39m.\u001b[39mshape[\u001b[39m0\u001b[39m]\n\u001b[1;32m    751\u001b[0m weights \u001b[39m=\u001b[39m \u001b[39mself\u001b[39m\u001b[39m.\u001b[39mweights\n",
      "File \u001b[0;32m/Library/Frameworks/Python.framework/Versions/3.12/lib/python3.12/site-packages/statsmodels/regression/linear_model.py:202\u001b[0m, in \u001b[0;36mRegressionModel.__init__\u001b[0;34m(self, endog, exog, **kwargs)\u001b[0m\n\u001b[1;32m    201\u001b[0m \u001b[39mdef\u001b[39;00m \u001b[39m__init__\u001b[39m(\u001b[39mself\u001b[39m, endog, exog, \u001b[39m*\u001b[39m\u001b[39m*\u001b[39mkwargs):\n\u001b[0;32m--> 202\u001b[0m     \u001b[39msuper\u001b[39;49m(RegressionModel, \u001b[39mself\u001b[39;49m)\u001b[39m.\u001b[39;49m\u001b[39m__init__\u001b[39;49m(endog, exog, \u001b[39m*\u001b[39;49m\u001b[39m*\u001b[39;49mkwargs)\n\u001b[1;32m    203\u001b[0m     \u001b[39mself\u001b[39m\u001b[39m.\u001b[39mpinv_wexog: Float64Array \u001b[39m|\u001b[39m \u001b[39mNone\u001b[39;00m \u001b[39m=\u001b[39m \u001b[39mNone\u001b[39;00m\n\u001b[1;32m    204\u001b[0m     \u001b[39mself\u001b[39m\u001b[39m.\u001b[39m_data_attr\u001b[39m.\u001b[39mextend([\u001b[39m'\u001b[39m\u001b[39mpinv_wexog\u001b[39m\u001b[39m'\u001b[39m, \u001b[39m'\u001b[39m\u001b[39mwendog\u001b[39m\u001b[39m'\u001b[39m, \u001b[39m'\u001b[39m\u001b[39mwexog\u001b[39m\u001b[39m'\u001b[39m, \u001b[39m'\u001b[39m\u001b[39mweights\u001b[39m\u001b[39m'\u001b[39m])\n",
      "File \u001b[0;32m/Library/Frameworks/Python.framework/Versions/3.12/lib/python3.12/site-packages/statsmodels/base/model.py:270\u001b[0m, in \u001b[0;36mLikelihoodModel.__init__\u001b[0;34m(self, endog, exog, **kwargs)\u001b[0m\n\u001b[1;32m    269\u001b[0m \u001b[39mdef\u001b[39;00m \u001b[39m__init__\u001b[39m(\u001b[39mself\u001b[39m, endog, exog\u001b[39m=\u001b[39m\u001b[39mNone\u001b[39;00m, \u001b[39m*\u001b[39m\u001b[39m*\u001b[39mkwargs):\n\u001b[0;32m--> 270\u001b[0m     \u001b[39msuper\u001b[39;49m()\u001b[39m.\u001b[39;49m\u001b[39m__init__\u001b[39;49m(endog, exog, \u001b[39m*\u001b[39;49m\u001b[39m*\u001b[39;49mkwargs)\n\u001b[1;32m    271\u001b[0m     \u001b[39mself\u001b[39m\u001b[39m.\u001b[39minitialize()\n",
      "File \u001b[0;32m/Library/Frameworks/Python.framework/Versions/3.12/lib/python3.12/site-packages/statsmodels/base/model.py:95\u001b[0m, in \u001b[0;36mModel.__init__\u001b[0;34m(self, endog, exog, **kwargs)\u001b[0m\n\u001b[1;32m     93\u001b[0m missing \u001b[39m=\u001b[39m kwargs\u001b[39m.\u001b[39mpop(\u001b[39m'\u001b[39m\u001b[39mmissing\u001b[39m\u001b[39m'\u001b[39m, \u001b[39m'\u001b[39m\u001b[39mnone\u001b[39m\u001b[39m'\u001b[39m)\n\u001b[1;32m     94\u001b[0m hasconst \u001b[39m=\u001b[39m kwargs\u001b[39m.\u001b[39mpop(\u001b[39m'\u001b[39m\u001b[39mhasconst\u001b[39m\u001b[39m'\u001b[39m, \u001b[39mNone\u001b[39;00m)\n\u001b[0;32m---> 95\u001b[0m \u001b[39mself\u001b[39m\u001b[39m.\u001b[39mdata \u001b[39m=\u001b[39m \u001b[39mself\u001b[39;49m\u001b[39m.\u001b[39;49m_handle_data(endog, exog, missing, hasconst,\n\u001b[1;32m     96\u001b[0m                               \u001b[39m*\u001b[39;49m\u001b[39m*\u001b[39;49mkwargs)\n\u001b[1;32m     97\u001b[0m \u001b[39mself\u001b[39m\u001b[39m.\u001b[39mk_constant \u001b[39m=\u001b[39m \u001b[39mself\u001b[39m\u001b[39m.\u001b[39mdata\u001b[39m.\u001b[39mk_constant\n\u001b[1;32m     98\u001b[0m \u001b[39mself\u001b[39m\u001b[39m.\u001b[39mexog \u001b[39m=\u001b[39m \u001b[39mself\u001b[39m\u001b[39m.\u001b[39mdata\u001b[39m.\u001b[39mexog\n",
      "File \u001b[0;32m/Library/Frameworks/Python.framework/Versions/3.12/lib/python3.12/site-packages/statsmodels/base/model.py:135\u001b[0m, in \u001b[0;36mModel._handle_data\u001b[0;34m(self, endog, exog, missing, hasconst, **kwargs)\u001b[0m\n\u001b[1;32m    134\u001b[0m \u001b[39mdef\u001b[39;00m \u001b[39m_handle_data\u001b[39m(\u001b[39mself\u001b[39m, endog, exog, missing, hasconst, \u001b[39m*\u001b[39m\u001b[39m*\u001b[39mkwargs):\n\u001b[0;32m--> 135\u001b[0m     data \u001b[39m=\u001b[39m handle_data(endog, exog, missing, hasconst, \u001b[39m*\u001b[39;49m\u001b[39m*\u001b[39;49mkwargs)\n\u001b[1;32m    136\u001b[0m     \u001b[39m# kwargs arrays could have changed, easier to just attach here\u001b[39;00m\n\u001b[1;32m    137\u001b[0m     \u001b[39mfor\u001b[39;00m key \u001b[39min\u001b[39;00m kwargs:\n",
      "File \u001b[0;32m/Library/Frameworks/Python.framework/Versions/3.12/lib/python3.12/site-packages/statsmodels/base/data.py:675\u001b[0m, in \u001b[0;36mhandle_data\u001b[0;34m(endog, exog, missing, hasconst, **kwargs)\u001b[0m\n\u001b[1;32m    672\u001b[0m     exog \u001b[39m=\u001b[39m np\u001b[39m.\u001b[39masarray(exog)\n\u001b[1;32m    674\u001b[0m klass \u001b[39m=\u001b[39m handle_data_class_factory(endog, exog)\n\u001b[0;32m--> 675\u001b[0m \u001b[39mreturn\u001b[39;00m klass(endog, exog\u001b[39m=\u001b[39;49mexog, missing\u001b[39m=\u001b[39;49mmissing, hasconst\u001b[39m=\u001b[39;49mhasconst,\n\u001b[1;32m    676\u001b[0m              \u001b[39m*\u001b[39;49m\u001b[39m*\u001b[39;49mkwargs)\n",
      "File \u001b[0;32m/Library/Frameworks/Python.framework/Versions/3.12/lib/python3.12/site-packages/statsmodels/base/data.py:84\u001b[0m, in \u001b[0;36mModelData.__init__\u001b[0;34m(self, endog, exog, missing, hasconst, **kwargs)\u001b[0m\n\u001b[1;32m     82\u001b[0m     \u001b[39mself\u001b[39m\u001b[39m.\u001b[39morig_endog \u001b[39m=\u001b[39m endog\n\u001b[1;32m     83\u001b[0m     \u001b[39mself\u001b[39m\u001b[39m.\u001b[39morig_exog \u001b[39m=\u001b[39m exog\n\u001b[0;32m---> 84\u001b[0m     \u001b[39mself\u001b[39m\u001b[39m.\u001b[39mendog, \u001b[39mself\u001b[39m\u001b[39m.\u001b[39mexog \u001b[39m=\u001b[39m \u001b[39mself\u001b[39;49m\u001b[39m.\u001b[39;49m_convert_endog_exog(endog, exog)\n\u001b[1;32m     86\u001b[0m \u001b[39mself\u001b[39m\u001b[39m.\u001b[39mconst_idx \u001b[39m=\u001b[39m \u001b[39mNone\u001b[39;00m\n\u001b[1;32m     87\u001b[0m \u001b[39mself\u001b[39m\u001b[39m.\u001b[39mk_constant \u001b[39m=\u001b[39m \u001b[39m0\u001b[39m\n",
      "File \u001b[0;32m/Library/Frameworks/Python.framework/Versions/3.12/lib/python3.12/site-packages/statsmodels/base/data.py:509\u001b[0m, in \u001b[0;36mPandasData._convert_endog_exog\u001b[0;34m(self, endog, exog)\u001b[0m\n\u001b[1;32m    507\u001b[0m exog \u001b[39m=\u001b[39m exog \u001b[39mif\u001b[39;00m exog \u001b[39mis\u001b[39;00m \u001b[39mNone\u001b[39;00m \u001b[39melse\u001b[39;00m np\u001b[39m.\u001b[39masarray(exog)\n\u001b[1;32m    508\u001b[0m \u001b[39mif\u001b[39;00m endog\u001b[39m.\u001b[39mdtype \u001b[39m==\u001b[39m \u001b[39mobject\u001b[39m \u001b[39mor\u001b[39;00m exog \u001b[39mis\u001b[39;00m \u001b[39mnot\u001b[39;00m \u001b[39mNone\u001b[39;00m \u001b[39mand\u001b[39;00m exog\u001b[39m.\u001b[39mdtype \u001b[39m==\u001b[39m \u001b[39mobject\u001b[39m:\n\u001b[0;32m--> 509\u001b[0m     \u001b[39mraise\u001b[39;00m \u001b[39mValueError\u001b[39;00m(\u001b[39m\"\u001b[39m\u001b[39mPandas data cast to numpy dtype of object. \u001b[39m\u001b[39m\"\u001b[39m\n\u001b[1;32m    510\u001b[0m                      \u001b[39m\"\u001b[39m\u001b[39mCheck input data with np.asarray(data).\u001b[39m\u001b[39m\"\u001b[39m)\n\u001b[1;32m    511\u001b[0m \u001b[39mreturn\u001b[39;00m \u001b[39msuper\u001b[39m(PandasData, \u001b[39mself\u001b[39m)\u001b[39m.\u001b[39m_convert_endog_exog(endog, exog)\n",
      "\u001b[0;31mValueError\u001b[0m: Pandas data cast to numpy dtype of object. Check input data with np.asarray(data)."
     ]
    }
   ],
   "source": [
    "data = processed_data\n",
    "\n",
    "# Convert 'Type' into a binary indicator (1 for private, 0 for public)\n",
    "data['Type'] = data['Type'].apply(lambda x: 1 if x == 'Private' else 0)\n",
    "\n",
    "# Create dummy variables for time fixed effects\n",
    "data = pd.get_dummies(data, columns=['Year'], drop_first=True)\n",
    "\n",
    "# Define the independent variables and the dependent variable for the regression\n",
    "X = data[['Cinderella_0 (Y)', 'Cinderella_1 (Y)', 'Cinderella_2 (Y)', 'Cinderella_3+ (Y)', 'Type', 'SAT_AVG (Y to Y+1)', 'Undergraduate Size (Y to Y+1)']]\n",
    "X = pd.concat([X, data.filter(like='Year_')], axis=1)  # Add year dummy variables\n",
    "y = data['SAT_AVG (Y+1 to Y+2)']\n",
    "\n",
    "# Add a constant to the independent variables matrix\n",
    "X = sm.add_constant(X)\n",
    "\n",
    "# Fit the regression model\n",
    "model = sm.OLS(y, X).fit()\n",
    "\n",
    "# Extract the summary table and round coefficients to the hundredth\n",
    "summary_table = model.summary2().tables[1].round(2)\n",
    "\n",
    "# Create a Plotly table\n",
    "fig = go.Figure(data=[go.Table(\n",
    "    header=dict(values=list(summary_table.columns),\n",
    "                fill_color='paleturquoise',\n",
    "                align='left'),\n",
    "    cells=dict(values=[summary_table[col] for col in summary_table.columns],\n",
    "               fill_color='lavender',\n",
    "               align='left'))\n",
    "])\n",
    "\n",
    "# Display the table\n",
    "fig.show()"
   ]
  },
  {
   "cell_type": "markdown",
   "metadata": {},
   "source": [
    "# Exploratory Visualization"
   ]
  },
  {
   "cell_type": "code",
   "execution_count": 26,
   "metadata": {},
   "outputs": [
    {
     "data": {
      "text/plain": [
       "1132.7354131627892"
      ]
     },
     "execution_count": 26,
     "metadata": {},
     "output_type": "execute_result"
    }
   ],
   "source": [
    "total_enrollment = 0\n",
    "Sat_score = 0\n",
    "for index, school in processed_data.iterrows():\n",
    "    if pd.isna(school['SAT_AVG (Y to Y+1)']) or pd.isna(school['Undergraduate Size (Y to Y+1)']) or school['Year'] != 2008:\n",
    "        pass\n",
    "    else:\n",
    "        Sat_score = school['SAT_AVG (Y to Y+1)']*school['Undergraduate Size (Y to Y+1)'] + Sat_score\n",
    "        total_enrollment = school['Undergraduate Size (Y to Y+1)'] + total_enrollment\n",
    "\n",
    "average_sat = Sat_score / total_enrollment if total_enrollment > 0 else None\n",
    "average_sat"
   ]
  },
  {
   "cell_type": "code",
   "execution_count": 27,
   "metadata": {},
   "outputs": [
    {
     "data": {
      "image/png": "[encoded data removed]",
      "text/plain": [
       "<Figure size 1000x500 with 1 Axes>"
      ]
     },
     "metadata": {},
     "output_type": "display_data"
    },
    {
     "data": {
      "text/html": [
       "<div>\n",
       "<style scoped>\n",
       "    .dataframe tbody tr th:only-of-type {\n",
       "        vertical-align: middle;\n",
       "    }\n",
       "\n",
       "    .dataframe tbody tr th {\n",
       "        vertical-align: top;\n",
       "    }\n",
       "\n",
       "    .dataframe thead th {\n",
       "        text-align: right;\n",
       "    }\n",
       "</style>\n",
       "<table border=\"1\" class=\"dataframe\">\n",
       "  <thead>\n",
       "    <tr style=\"text-align: right;\">\n",
       "      <th></th>\n",
       "      <th>Year</th>\n",
       "      <th>Mean SAT Score</th>\n",
       "    </tr>\n",
       "  </thead>\n",
       "  <tbody>\n",
       "    <tr>\n",
       "      <th>0</th>\n",
       "      <td>2008.0</td>\n",
       "      <td>1132.735413</td>\n",
       "    </tr>\n",
       "    <tr>\n",
       "      <th>1</th>\n",
       "      <td>2009.0</td>\n",
       "      <td>1137.080856</td>\n",
       "    </tr>\n",
       "    <tr>\n",
       "      <th>2</th>\n",
       "      <td>2010.0</td>\n",
       "      <td>1141.421238</td>\n",
       "    </tr>\n",
       "    <tr>\n",
       "      <th>3</th>\n",
       "      <td>2011.0</td>\n",
       "      <td>1145.406751</td>\n",
       "    </tr>\n",
       "    <tr>\n",
       "      <th>4</th>\n",
       "      <td>2012.0</td>\n",
       "      <td>1148.441105</td>\n",
       "    </tr>\n",
       "    <tr>\n",
       "      <th>5</th>\n",
       "      <td>2013.0</td>\n",
       "      <td>1153.200648</td>\n",
       "    </tr>\n",
       "    <tr>\n",
       "      <th>6</th>\n",
       "      <td>2014.0</td>\n",
       "      <td>1159.610060</td>\n",
       "    </tr>\n",
       "    <tr>\n",
       "      <th>7</th>\n",
       "      <td>2015.0</td>\n",
       "      <td>1164.559534</td>\n",
       "    </tr>\n",
       "    <tr>\n",
       "      <th>8</th>\n",
       "      <td>2016.0</td>\n",
       "      <td>1168.557638</td>\n",
       "    </tr>\n",
       "    <tr>\n",
       "      <th>9</th>\n",
       "      <td>2017.0</td>\n",
       "      <td>1234.094960</td>\n",
       "    </tr>\n",
       "    <tr>\n",
       "      <th>10</th>\n",
       "      <td>2018.0</td>\n",
       "      <td>1243.198074</td>\n",
       "    </tr>\n",
       "  </tbody>\n",
       "</table>\n",
       "</div>"
      ],
      "text/plain": [
       "      Year  Mean SAT Score\n",
       "0   2008.0     1132.735413\n",
       "1   2009.0     1137.080856\n",
       "2   2010.0     1141.421238\n",
       "3   2011.0     1145.406751\n",
       "4   2012.0     1148.441105\n",
       "5   2013.0     1153.200648\n",
       "6   2014.0     1159.610060\n",
       "7   2015.0     1164.559534\n",
       "8   2016.0     1168.557638\n",
       "9   2017.0     1234.094960\n",
       "10  2018.0     1243.198074"
      ]
     },
     "execution_count": 27,
     "metadata": {},
     "output_type": "execute_result"
    }
   ],
   "source": [
    "weighted_scores = processed_data.groupby('Year').apply(\n",
    "    lambda x: (x['SAT_AVG (Y to Y+1)'] * x['Undergraduate Size (Y to Y+1)']).sum() / x['Undergraduate Size (Y to Y+1)'].sum()\n",
    ")\n",
    "\n",
    "# Reset index to simplify plotting\n",
    "weighted_scores = weighted_scores.reset_index(name='Mean SAT Score')\n",
    "import matplotlib.pyplot as plt\n",
    "\n",
    "# Plotting the weighted mean SAT scores by year\n",
    "plt.figure(figsize=(10, 5))\n",
    "plt.plot(weighted_scores['Year'], weighted_scores['Mean SAT Score'], marker='o')\n",
    "plt.title('Mean SAT and ACT Equivalent Score by Year')\n",
    "plt.xlabel('Year (2008 to 2018)')\n",
    "plt.ylabel('Mean SAT and ACT Equivalent Score')\n",
    "plt.grid(True)\n",
    "plt.show()\n",
    "weighted_scores\n"
   ]
  },
  {
   "cell_type": "markdown",
   "metadata": {},
   "source": [
    "The visual depicts the trend of mean SAT and ACT equivalent scores from 2009 to 2020. There is a significant increase after 2016, correlating with the SAT scoring change from a 2400-point scale to a 1600-point scale. While the scores are adjusted for this change, the sharp uptick suggests that the new version of the SAT may be contributing to higher average scores. This raises questions about the comparative difficulty of the exams or other underlying factors that could be influencing this trend. It may be beneficial to investigate further, controlling for the change in scoring and other variables, to understand the true nature of the apparent increase in standardized test performance."
   ]
  },
  {
   "cell_type": "code",
   "execution_count": 28,
   "metadata": {},
   "outputs": [
    {
     "data": {
      "image/png": "[encoded data removed]",
      "text/plain": [
       "<Figure size 1000x500 with 1 Axes>"
      ]
     },
     "metadata": {},
     "output_type": "display_data"
    }
   ],
   "source": [
    "average_enrollment = processed_data.groupby('Year')['Undergraduate Size (Y to Y+1)'].mean()\n",
    "\n",
    "# Reset the index to simplify plotting\n",
    "average_enrollment = average_enrollment.reset_index()\n",
    "plt.figure(figsize=(10, 5))\n",
    "plt.plot(average_enrollment['Year'], average_enrollment['Undergraduate Size (Y to Y+1)'], marker='o', color='b')\n",
    "plt.title('Average Undergraduate Enrollment Size by Year')\n",
    "plt.xlabel('Year')\n",
    "plt.ylabel('Average Enrollment Size')\n",
    "plt.grid(True)\n",
    "plt.show()"
   ]
  },
  {
   "cell_type": "markdown",
   "metadata": {},
   "source": [
    "The visual portrays a steady upward trend in the average undergraduate enrollment size by year over a 12-year period, indicating a consistent increase in the number of students attending these institutions. This pattern may suggest that colleges and universities are expanding their student bodies or that more students are seeking higher education. The unbroken ascent from just over 14,250 to nearly 16,000 underscores a growth in the college-going population, which could reflect broader educational trends, policy changes, or demographic shifts. "
   ]
  },
  {
   "cell_type": "code",
   "execution_count": 29,
   "metadata": {},
   "outputs": [
    {
     "data": {
      "image/png": "[encoded data removed]",
      "text/plain": [
       "<Figure size 1000x500 with 1 Axes>"
      ]
     },
     "metadata": {},
     "output_type": "display_data"
    }
   ],
   "source": [
    "average_admission_rate = processed_data.groupby('Year')['Admission Rate (Y to Y+1)'].mean()\n",
    "\n",
    "# Reset the index to simplify plotting\n",
    "average_admission_rate = average_admission_rate.reset_index()\n",
    "plt.figure(figsize=(10, 5))\n",
    "plt.plot(average_admission_rate['Year'], average_admission_rate['Admission Rate (Y to Y+1)'], marker='o', color='green')\n",
    "plt.title('Average Admission Rate by Year')\n",
    "plt.xlabel('Year')\n",
    "plt.ylabel('Average Admission Rate')\n",
    "plt.grid(True)\n",
    "plt.show()"
   ]
  },
  {
   "cell_type": "code",
   "execution_count": 30,
   "metadata": {},
   "outputs": [
    {
     "data": {
      "image/png": "[encoded data removed]",
      "text/plain": [
       "<Figure size 1000x500 with 1 Axes>"
      ]
     },
     "metadata": {},
     "output_type": "display_data"
    }
   ],
   "source": [
    "# Plotting the average admission rate by year with x-axis limits set from 0.5 to 0.75\n",
    "plt.figure(figsize=(10, 5))\n",
    "plt.plot(average_admission_rate['Year'], average_admission_rate['Admission Rate (Y to Y+1)'], marker='o', color='green')\n",
    "plt.title('Average Admission Rate by Year')\n",
    "plt.xlabel('Year')\n",
    "plt.ylabel('Average Admission Rate')\n",
    "plt.ylim(0.5, 0.75)  # Setting the y-axis limit from 0.5 to 0.75\n",
    "plt.grid(True)\n",
    "plt.show()"
   ]
  },
  {
   "cell_type": "markdown",
   "metadata": {},
   "source": [
    "The two visuals depict the average admission rate by year over a 12-year period for teams that made it to March Madness. The first graph with compressed y-axis from approximately 0.6 to 0.635 revealing that the admission rates got higher. However, the second graph, with a y-axis spanning from 0.5 to 0.75, shows relatively minor fluctuations in the admission rate. The variation in the y-axis scale between the two graphs highlights how graphical representation can affect the perception of data. Despite the seemingly dramatic movements in the first graph, the second graph clarifies that there has been no significant change in the admission rates of March Madness teams over the years."
   ]
  },
  {
   "cell_type": "code",
   "execution_count": 6,
   "metadata": {},
   "outputs": [
    {
     "data": {
      "image/png": "[encoded data removed]",
      "text/plain": [
       "<Figure size 800x600 with 1 Axes>"
      ]
     },
     "metadata": {},
     "output_type": "display_data"
    }
   ],
   "source": [
    "import pandas as pd\n",
    "import matplotlib.pyplot as plt\n",
    "\n",
    "# Load your data\n",
    "data = pd.read_csv('final_data/processed_data.csv')  # Replace with the path to the CSV file you have\n",
    "\n",
    "unique_schools = data.drop_duplicates(subset='School Identifier')\n",
    "type_counts = unique_schools['Type'].value_counts().reset_index()\n",
    "type_counts.columns = ['Type', 'Count']\n",
    "\n",
    "# Create a bar graph using Matplotlib\n",
    "plt.figure(figsize=(8, 6))  # Adjust the figure size\n",
    "\n",
    "# Plot the bars\n",
    "plt.bar(type_counts['Type'], type_counts['Count'], color=['blue', 'orange'])\n",
    "\n",
    "# Add labels and title\n",
    "plt.title('Unique Public vs. Private Institutions')\n",
    "plt.xlabel('Institution Type')\n",
    "plt.ylabel('Count of Unique Institutions')\n",
    "\n",
    "# Set custom x-axis labels\n",
    "plt.xticks(ticks=[0, 1], labels=['Public', 'Private'])\n",
    "\n",
    "# Show the plot\n",
    "plt.show()\n"
   ]
  },
  {
   "cell_type": "markdown",
   "metadata": {},
   "source": [
    "The visual presents a comparative analysis of the average number of public and private institutions per year, based on the data over a 12-year span. The bar graph distinctly shows a higher average number of public institutions than private ones per year, with public institutions exceeding the 150 mark while private institutions are under 100."
   ]
  },
  {
   "cell_type": "markdown",
   "metadata": {},
   "source": [
    "## Regression Results"
   ]
  },
  {
   "cell_type": "code",
   "execution_count": 31,
   "metadata": {},
   "outputs": [
    {
     "data": {
      "application/vnd.plotly.v1+json": {
       "config": {
        "plotlyServerURL": "https://plot.ly"
       },
       "data": [
        {
         "cells": {
          "align": "left",
          "fill": {
           "color": "lavender"
          },
          "values": [
           [
            "const",
            "cinderella",
            "Time_Trend",
            "Type",
            "Admission Rate (Y to Y+1)",
            "Undergraduate Size (Y to Y+1)"
           ],
           [
            0.036,
            -0.03,
            0.001,
            -0.016,
            0.958,
            0
           ],
           [
            0.007,
            0.015,
            0,
            0.004,
            0.007,
            0
           ],
           [
            5.235,
            -2.069,
            2.548,
            -4.118,
            136.483,
            -3.206
           ],
           [
            0,
            0.039,
            0.011,
            0,
            0,
            0.001
           ],
           [
            0.022,
            -0.059,
            0,
            -0.024,
            0.944,
            0
           ],
           [
            0.049,
            -0.002,
            0.002,
            -0.009,
            0.971,
            0
           ]
          ]
         },
         "header": {
          "align": "left",
          "fill": {
           "color": "paleturquoise"
          },
          "values": [
           "index",
           "Coef.",
           "Std.Err.",
           "t",
           "P>|t|",
           "[0.025",
           "0.975]"
          ]
         },
         "type": "table"
        }
       ],
       "layout": {
        "height": 1000,
        "template": {
         "data": {
          "bar": [
           {
            "error_x": {
             "color": "#2a3f5f"
            },
            "error_y": {
             "color": "#2a3f5f"
            },
            "marker": {
             "line": {
              "color": "#E5ECF6",
              "width": 0.5
             },
             "pattern": {
              "fillmode": "overlay",
              "size": 10,
              "solidity": 0.2
             }
            },
            "type": "bar"
           }
          ],
          "barpolar": [
           {
            "marker": {
             "line": {
              "color": "#E5ECF6",
              "width": 0.5
             },
             "pattern": {
              "fillmode": "overlay",
              "size": 10,
              "solidity": 0.2
             }
            },
            "type": "barpolar"
           }
          ],
          "carpet": [
           {
            "aaxis": {
             "endlinecolor": "#2a3f5f",
             "gridcolor": "white",
             "linecolor": "white",
             "minorgridcolor": "white",
             "startlinecolor": "#2a3f5f"
            },
            "baxis": {
             "endlinecolor": "#2a3f5f",
             "gridcolor": "white",
             "linecolor": "white",
             "minorgridcolor": "white",
             "startlinecolor": "#2a3f5f"
            },
            "type": "carpet"
           }
          ],
          "choropleth": [
           {
            "colorbar": {
             "outlinewidth": 0,
             "ticks": ""
            },
            "type": "choropleth"
           }
          ],
          "contour": [
           {
            "colorbar": {
             "outlinewidth": 0,
             "ticks": ""
            },
            "colorscale": [
             [
              0,
              "#0d0887"
             ],
             [
              0.1111111111111111,
              "#46039f"
             ],
             [
              0.2222222222222222,
              "#7201a8"
             ],
             [
              0.3333333333333333,
              "#9c179e"
             ],
             [
              0.4444444444444444,
              "#bd3786"
             ],
             [
              0.5555555555555556,
              "#d8576b"
             ],
             [
              0.6666666666666666,
              "#ed7953"
             ],
             [
              0.7777777777777778,
              "#fb9f3a"
             ],
             [
              0.8888888888888888,
              "#fdca26"
             ],
             [
              1,
              "#f0f921"
             ]
            ],
            "type": "contour"
           }
          ],
          "contourcarpet": [
           {
            "colorbar": {
             "outlinewidth": 0,
             "ticks": ""
            },
            "type": "contourcarpet"
           }
          ],
          "heatmap": [
           {
            "colorbar": {
             "outlinewidth": 0,
             "ticks": ""
            },
            "colorscale": [
             [
              0,
              "#0d0887"
             ],
             [
              0.1111111111111111,
              "#46039f"
             ],
             [
              0.2222222222222222,
              "#7201a8"
             ],
             [
              0.3333333333333333,
              "#9c179e"
             ],
             [
              0.4444444444444444,
              "#bd3786"
             ],
             [
              0.5555555555555556,
              "#d8576b"
             ],
             [
              0.6666666666666666,
              "#ed7953"
             ],
             [
              0.7777777777777778,
              "#fb9f3a"
             ],
             [
              0.8888888888888888,
              "#fdca26"
             ],
             [
              1,
              "#f0f921"
             ]
            ],
            "type": "heatmap"
           }
          ],
          "heatmapgl": [
           {
            "colorbar": {
             "outlinewidth": 0,
             "ticks": ""
            },
            "colorscale": [
             [
              0,
              "#0d0887"
             ],
             [
              0.1111111111111111,
              "#46039f"
             ],
             [
              0.2222222222222222,
              "#7201a8"
             ],
             [
              0.3333333333333333,
              "#9c179e"
             ],
             [
              0.4444444444444444,
              "#bd3786"
             ],
             [
              0.5555555555555556,
              "#d8576b"
             ],
             [
              0.6666666666666666,
              "#ed7953"
             ],
             [
              0.7777777777777778,
              "#fb9f3a"
             ],
             [
              0.8888888888888888,
              "#fdca26"
             ],
             [
              1,
              "#f0f921"
             ]
            ],
            "type": "heatmapgl"
           }
          ],
          "histogram": [
           {
            "marker": {
             "pattern": {
              "fillmode": "overlay",
              "size": 10,
              "solidity": 0.2
             }
            },
            "type": "histogram"
           }
          ],
          "histogram2d": [
           {
            "colorbar": {
             "outlinewidth": 0,
             "ticks": ""
            },
            "colorscale": [
             [
              0,
              "#0d0887"
             ],
             [
              0.1111111111111111,
              "#46039f"
             ],
             [
              0.2222222222222222,
              "#7201a8"
             ],
             [
              0.3333333333333333,
              "#9c179e"
             ],
             [
              0.4444444444444444,
              "#bd3786"
             ],
             [
              0.5555555555555556,
              "#d8576b"
             ],
             [
              0.6666666666666666,
              "#ed7953"
             ],
             [
              0.7777777777777778,
              "#fb9f3a"
             ],
             [
              0.8888888888888888,
              "#fdca26"
             ],
             [
              1,
              "#f0f921"
             ]
            ],
            "type": "histogram2d"
           }
          ],
          "histogram2dcontour": [
           {
            "colorbar": {
             "outlinewidth": 0,
             "ticks": ""
            },
            "colorscale": [
             [
              0,
              "#0d0887"
             ],
             [
              0.1111111111111111,
              "#46039f"
             ],
             [
              0.2222222222222222,
              "#7201a8"
             ],
             [
              0.3333333333333333,
              "#9c179e"
             ],
             [
              0.4444444444444444,
              "#bd3786"
             ],
             [
              0.5555555555555556,
              "#d8576b"
             ],
             [
              0.6666666666666666,
              "#ed7953"
             ],
             [
              0.7777777777777778,
              "#fb9f3a"
             ],
             [
              0.8888888888888888,
              "#fdca26"
             ],
             [
              1,
              "#f0f921"
             ]
            ],
            "type": "histogram2dcontour"
           }
          ],
          "mesh3d": [
           {
            "colorbar": {
             "outlinewidth": 0,
             "ticks": ""
            },
            "type": "mesh3d"
           }
          ],
          "parcoords": [
           {
            "line": {
             "colorbar": {
              "outlinewidth": 0,
              "ticks": ""
             }
            },
            "type": "parcoords"
           }
          ],
          "pie": [
           {
            "automargin": true,
            "type": "pie"
           }
          ],
          "scatter": [
           {
            "fillpattern": {
             "fillmode": "overlay",
             "size": 10,
             "solidity": 0.2
            },
            "type": "scatter"
           }
          ],
          "scatter3d": [
           {
            "line": {
             "colorbar": {
              "outlinewidth": 0,
              "ticks": ""
             }
            },
            "marker": {
             "colorbar": {
              "outlinewidth": 0,
              "ticks": ""
             }
            },
            "type": "scatter3d"
           }
          ],
          "scattercarpet": [
           {
            "marker": {
             "colorbar": {
              "outlinewidth": 0,
              "ticks": ""
             }
            },
            "type": "scattercarpet"
           }
          ],
          "scattergeo": [
           {
            "marker": {
             "colorbar": {
              "outlinewidth": 0,
              "ticks": ""
             }
            },
            "type": "scattergeo"
           }
          ],
          "scattergl": [
           {
            "marker": {
             "colorbar": {
              "outlinewidth": 0,
              "ticks": ""
             }
            },
            "type": "scattergl"
           }
          ],
          "scattermapbox": [
           {
            "marker": {
             "colorbar": {
              "outlinewidth": 0,
              "ticks": ""
             }
            },
            "type": "scattermapbox"
           }
          ],
          "scatterpolar": [
           {
            "marker": {
             "colorbar": {
              "outlinewidth": 0,
              "ticks": ""
             }
            },
            "type": "scatterpolar"
           }
          ],
          "scatterpolargl": [
           {
            "marker": {
             "colorbar": {
              "outlinewidth": 0,
              "ticks": ""
             }
            },
            "type": "scatterpolargl"
           }
          ],
          "scatterternary": [
           {
            "marker": {
             "colorbar": {
              "outlinewidth": 0,
              "ticks": ""
             }
            },
            "type": "scatterternary"
           }
          ],
          "surface": [
           {
            "colorbar": {
             "outlinewidth": 0,
             "ticks": ""
            },
            "colorscale": [
             [
              0,
              "#0d0887"
             ],
             [
              0.1111111111111111,
              "#46039f"
             ],
             [
              0.2222222222222222,
              "#7201a8"
             ],
             [
              0.3333333333333333,
              "#9c179e"
             ],
             [
              0.4444444444444444,
              "#bd3786"
             ],
             [
              0.5555555555555556,
              "#d8576b"
             ],
             [
              0.6666666666666666,
              "#ed7953"
             ],
             [
              0.7777777777777778,
              "#fb9f3a"
             ],
             [
              0.8888888888888888,
              "#fdca26"
             ],
             [
              1,
              "#f0f921"
             ]
            ],
            "type": "surface"
           }
          ],
          "table": [
           {
            "cells": {
             "fill": {
              "color": "#EBF0F8"
             },
             "line": {
              "color": "white"
             }
            },
            "header": {
             "fill": {
              "color": "#C8D4E3"
             },
             "line": {
              "color": "white"
             }
            },
            "type": "table"
           }
          ]
         },
         "layout": {
          "annotationdefaults": {
           "arrowcolor": "#2a3f5f",
           "arrowhead": 0,
           "arrowwidth": 1
          },
          "autotypenumbers": "strict",
          "coloraxis": {
           "colorbar": {
            "outlinewidth": 0,
            "ticks": ""
           }
          },
          "colorscale": {
           "diverging": [
            [
             0,
             "#8e0152"
            ],
            [
             0.1,
             "#c51b7d"
            ],
            [
             0.2,
             "#de77ae"
            ],
            [
             0.3,
             "#f1b6da"
            ],
            [
             0.4,
             "#fde0ef"
            ],
            [
             0.5,
             "#f7f7f7"
            ],
            [
             0.6,
             "#e6f5d0"
            ],
            [
             0.7,
             "#b8e186"
            ],
            [
             0.8,
             "#7fbc41"
            ],
            [
             0.9,
             "#4d9221"
            ],
            [
             1,
             "#276419"
            ]
           ],
           "sequential": [
            [
             0,
             "#0d0887"
            ],
            [
             0.1111111111111111,
             "#46039f"
            ],
            [
             0.2222222222222222,
             "#7201a8"
            ],
            [
             0.3333333333333333,
             "#9c179e"
            ],
            [
             0.4444444444444444,
             "#bd3786"
            ],
            [
             0.5555555555555556,
             "#d8576b"
            ],
            [
             0.6666666666666666,
             "#ed7953"
            ],
            [
             0.7777777777777778,
             "#fb9f3a"
            ],
            [
             0.8888888888888888,
             "#fdca26"
            ],
            [
             1,
             "#f0f921"
            ]
           ],
           "sequentialminus": [
            [
             0,
             "#0d0887"
            ],
            [
             0.1111111111111111,
             "#46039f"
            ],
            [
             0.2222222222222222,
             "#7201a8"
            ],
            [
             0.3333333333333333,
             "#9c179e"
            ],
            [
             0.4444444444444444,
             "#bd3786"
            ],
            [
             0.5555555555555556,
             "#d8576b"
            ],
            [
             0.6666666666666666,
             "#ed7953"
            ],
            [
             0.7777777777777778,
             "#fb9f3a"
            ],
            [
             0.8888888888888888,
             "#fdca26"
            ],
            [
             1,
             "#f0f921"
            ]
           ]
          },
          "colorway": [
           "#636efa",
           "#EF553B",
           "#00cc96",
           "#ab63fa",
           "#FFA15A",
           "#19d3f3",
           "#FF6692",
           "#B6E880",
           "#FF97FF",
           "#FECB52"
          ],
          "font": {
           "color": "#2a3f5f"
          },
          "geo": {
           "bgcolor": "white",
           "lakecolor": "white",
           "landcolor": "#E5ECF6",
           "showlakes": true,
           "showland": true,
           "subunitcolor": "white"
          },
          "hoverlabel": {
           "align": "left"
          },
          "hovermode": "closest",
          "mapbox": {
           "style": "light"
          },
          "paper_bgcolor": "white",
          "plot_bgcolor": "#E5ECF6",
          "polar": {
           "angularaxis": {
            "gridcolor": "white",
            "linecolor": "white",
            "ticks": ""
           },
           "bgcolor": "#E5ECF6",
           "radialaxis": {
            "gridcolor": "white",
            "linecolor": "white",
            "ticks": ""
           }
          },
          "scene": {
           "xaxis": {
            "backgroundcolor": "#E5ECF6",
            "gridcolor": "white",
            "gridwidth": 2,
            "linecolor": "white",
            "showbackground": true,
            "ticks": "",
            "zerolinecolor": "white"
           },
           "yaxis": {
            "backgroundcolor": "#E5ECF6",
            "gridcolor": "white",
            "gridwidth": 2,
            "linecolor": "white",
            "showbackground": true,
            "ticks": "",
            "zerolinecolor": "white"
           },
           "zaxis": {
            "backgroundcolor": "#E5ECF6",
            "gridcolor": "white",
            "gridwidth": 2,
            "linecolor": "white",
            "showbackground": true,
            "ticks": "",
            "zerolinecolor": "white"
           }
          },
          "shapedefaults": {
           "line": {
            "color": "#2a3f5f"
           }
          },
          "ternary": {
           "aaxis": {
            "gridcolor": "white",
            "linecolor": "white",
            "ticks": ""
           },
           "baxis": {
            "gridcolor": "white",
            "linecolor": "white",
            "ticks": ""
           },
           "bgcolor": "#E5ECF6",
           "caxis": {
            "gridcolor": "white",
            "linecolor": "white",
            "ticks": ""
           }
          },
          "title": {
           "x": 0.05
          },
          "xaxis": {
           "automargin": true,
           "gridcolor": "white",
           "linecolor": "white",
           "ticks": "",
           "title": {
            "standoff": 15
           },
           "zerolinecolor": "white",
           "zerolinewidth": 2
          },
          "yaxis": {
           "automargin": true,
           "gridcolor": "white",
           "linecolor": "white",
           "ticks": "",
           "title": {
            "standoff": 15
           },
           "zerolinecolor": "white",
           "zerolinewidth": 2
          }
         }
        },
        "title": {
         "text": "Regression Results"
        },
        "width": 900
       }
      }
     },
     "metadata": {},
     "output_type": "display_data"
    }
   ],
   "source": [
    "import pandas as pd\n",
    "import plotly.graph_objects as go\n",
    "\n",
    "results_rounded = results.round(3).reset_index()\n",
    "\n",
    "# Create table figure using Plotly\n",
    "fig = go.Figure(data=[go.Table(\n",
    "    header=dict(values=list(results_rounded.columns),\n",
    "                fill_color='paleturquoise',\n",
    "                align='left'),\n",
    "    cells=dict(values=[results_rounded[col] for col in results_rounded.columns],\n",
    "               fill_color='lavender',\n",
    "               align='left'))\n",
    "])\n",
    "\n",
    "# Update layout\n",
    "fig.update_layout(title_text=\"Regression Results\", height=1000, width=900)\n",
    "\n",
    "# Show the plot\n",
    "fig.show()\n"
   ]
  },
  {
   "cell_type": "code",
   "execution_count": 37,
   "metadata": {},
   "outputs": [
    {
     "data": {
      "application/vnd.plotly.v1+json": {
       "config": {
        "plotlyServerURL": "https://plot.ly"
       },
       "data": [
        {
         "cells": {
          "align": "left",
          "fill": {
           "color": "lavender"
          },
          "values": [
           [
            "const",
            "Cinderella_0 (Y)",
            "Cinderella_1 (Y)",
            "Cinderella_2 (Y)",
            "Cinderella_3+ (Y)",
            "Type",
            "SAT_AVG (Y to Y+1)",
            "Undergraduate Size (Y to Y+1)",
            "Year_2008.0",
            "Year_2009.0",
            "Year_2010.0",
            "Year_2011.0",
            "Year_2012.0",
            "Year_2013.0",
            "Year_2014.0",
            "Year_2015.0",
            "Year_2016.0",
            "Year_2017.0",
            "Year_2018.0"
           ],
           [
            18.33,
            1.85,
            3.16,
            6.57,
            6.75,
            1.64,
            0.99,
            0,
            -3.6,
            -3.87,
            -3.09,
            -4.84,
            -4.19,
            -2.96,
            -3.74,
            -4.02,
            56.02,
            0.91,
            -8.3
           ],
           [
            2.93,
            1.35,
            1.96,
            2.95,
            3.61,
            1.23,
            0,
            0,
            1.23,
            1.23,
            1.23,
            1.23,
            1.23,
            1.23,
            1.24,
            1.24,
            1.24,
            1.3,
            1.31
           ],
           [
            6.26,
            1.37,
            1.61,
            2.23,
            1.87,
            1.33,
            286.08,
            3.09,
            -2.93,
            -3.15,
            -2.52,
            -3.93,
            -3.4,
            -2.4,
            -3.02,
            -3.24,
            45.18,
            0.7,
            -6.36
           ],
           [
            0,
            0.17,
            0.11,
            0.03,
            0.06,
            0.18,
            0,
            0,
            0,
            0,
            0.01,
            0,
            0,
            0.02,
            0,
            0,
            0,
            0.49,
            0
           ]
          ]
         },
         "columnwidth": [
          200,
          80,
          80,
          80,
          80
         ],
         "header": {
          "align": "left",
          "fill": {
           "color": "paleturquoise"
          },
          "values": [
           "Variable",
           "coef",
           "std err",
           "t",
           "P>|t|"
          ]
         },
         "type": "table"
        }
       ],
       "layout": {
        "height": 600,
        "template": {
         "data": {
          "bar": [
           {
            "error_x": {
             "color": "#2a3f5f"
            },
            "error_y": {
             "color": "#2a3f5f"
            },
            "marker": {
             "line": {
              "color": "#E5ECF6",
              "width": 0.5
             },
             "pattern": {
              "fillmode": "overlay",
              "size": 10,
              "solidity": 0.2
             }
            },
            "type": "bar"
           }
          ],
          "barpolar": [
           {
            "marker": {
             "line": {
              "color": "#E5ECF6",
              "width": 0.5
             },
             "pattern": {
              "fillmode": "overlay",
              "size": 10,
              "solidity": 0.2
             }
            },
            "type": "barpolar"
           }
          ],
          "carpet": [
           {
            "aaxis": {
             "endlinecolor": "#2a3f5f",
             "gridcolor": "white",
             "linecolor": "white",
             "minorgridcolor": "white",
             "startlinecolor": "#2a3f5f"
            },
            "baxis": {
             "endlinecolor": "#2a3f5f",
             "gridcolor": "white",
             "linecolor": "white",
             "minorgridcolor": "white",
             "startlinecolor": "#2a3f5f"
            },
            "type": "carpet"
           }
          ],
          "choropleth": [
           {
            "colorbar": {
             "outlinewidth": 0,
             "ticks": ""
            },
            "type": "choropleth"
           }
          ],
          "contour": [
           {
            "colorbar": {
             "outlinewidth": 0,
             "ticks": ""
            },
            "colorscale": [
             [
              0,
              "#0d0887"
             ],
             [
              0.1111111111111111,
              "#46039f"
             ],
             [
              0.2222222222222222,
              "#7201a8"
             ],
             [
              0.3333333333333333,
              "#9c179e"
             ],
             [
              0.4444444444444444,
              "#bd3786"
             ],
             [
              0.5555555555555556,
              "#d8576b"
             ],
             [
              0.6666666666666666,
              "#ed7953"
             ],
             [
              0.7777777777777778,
              "#fb9f3a"
             ],
             [
              0.8888888888888888,
              "#fdca26"
             ],
             [
              1,
              "#f0f921"
             ]
            ],
            "type": "contour"
           }
          ],
          "contourcarpet": [
           {
            "colorbar": {
             "outlinewidth": 0,
             "ticks": ""
            },
            "type": "contourcarpet"
           }
          ],
          "heatmap": [
           {
            "colorbar": {
             "outlinewidth": 0,
             "ticks": ""
            },
            "colorscale": [
             [
              0,
              "#0d0887"
             ],
             [
              0.1111111111111111,
              "#46039f"
             ],
             [
              0.2222222222222222,
              "#7201a8"
             ],
             [
              0.3333333333333333,
              "#9c179e"
             ],
             [
              0.4444444444444444,
              "#bd3786"
             ],
             [
              0.5555555555555556,
              "#d8576b"
             ],
             [
              0.6666666666666666,
              "#ed7953"
             ],
             [
              0.7777777777777778,
              "#fb9f3a"
             ],
             [
              0.8888888888888888,
              "#fdca26"
             ],
             [
              1,
              "#f0f921"
             ]
            ],
            "type": "heatmap"
           }
          ],
          "heatmapgl": [
           {
            "colorbar": {
             "outlinewidth": 0,
             "ticks": ""
            },
            "colorscale": [
             [
              0,
              "#0d0887"
             ],
             [
              0.1111111111111111,
              "#46039f"
             ],
             [
              0.2222222222222222,
              "#7201a8"
             ],
             [
              0.3333333333333333,
              "#9c179e"
             ],
             [
              0.4444444444444444,
              "#bd3786"
             ],
             [
              0.5555555555555556,
              "#d8576b"
             ],
             [
              0.6666666666666666,
              "#ed7953"
             ],
             [
              0.7777777777777778,
              "#fb9f3a"
             ],
             [
              0.8888888888888888,
              "#fdca26"
             ],
             [
              1,
              "#f0f921"
             ]
            ],
            "type": "heatmapgl"
           }
          ],
          "histogram": [
           {
            "marker": {
             "pattern": {
              "fillmode": "overlay",
              "size": 10,
              "solidity": 0.2
             }
            },
            "type": "histogram"
           }
          ],
          "histogram2d": [
           {
            "colorbar": {
             "outlinewidth": 0,
             "ticks": ""
            },
            "colorscale": [
             [
              0,
              "#0d0887"
             ],
             [
              0.1111111111111111,
              "#46039f"
             ],
             [
              0.2222222222222222,
              "#7201a8"
             ],
             [
              0.3333333333333333,
              "#9c179e"
             ],
             [
              0.4444444444444444,
              "#bd3786"
             ],
             [
              0.5555555555555556,
              "#d8576b"
             ],
             [
              0.6666666666666666,
              "#ed7953"
             ],
             [
              0.7777777777777778,
              "#fb9f3a"
             ],
             [
              0.8888888888888888,
              "#fdca26"
             ],
             [
              1,
              "#f0f921"
             ]
            ],
            "type": "histogram2d"
           }
          ],
          "histogram2dcontour": [
           {
            "colorbar": {
             "outlinewidth": 0,
             "ticks": ""
            },
            "colorscale": [
             [
              0,
              "#0d0887"
             ],
             [
              0.1111111111111111,
              "#46039f"
             ],
             [
              0.2222222222222222,
              "#7201a8"
             ],
             [
              0.3333333333333333,
              "#9c179e"
             ],
             [
              0.4444444444444444,
              "#bd3786"
             ],
             [
              0.5555555555555556,
              "#d8576b"
             ],
             [
              0.6666666666666666,
              "#ed7953"
             ],
             [
              0.7777777777777778,
              "#fb9f3a"
             ],
             [
              0.8888888888888888,
              "#fdca26"
             ],
             [
              1,
              "#f0f921"
             ]
            ],
            "type": "histogram2dcontour"
           }
          ],
          "mesh3d": [
           {
            "colorbar": {
             "outlinewidth": 0,
             "ticks": ""
            },
            "type": "mesh3d"
           }
          ],
          "parcoords": [
           {
            "line": {
             "colorbar": {
              "outlinewidth": 0,
              "ticks": ""
             }
            },
            "type": "parcoords"
           }
          ],
          "pie": [
           {
            "automargin": true,
            "type": "pie"
           }
          ],
          "scatter": [
           {
            "fillpattern": {
             "fillmode": "overlay",
             "size": 10,
             "solidity": 0.2
            },
            "type": "scatter"
           }
          ],
          "scatter3d": [
           {
            "line": {
             "colorbar": {
              "outlinewidth": 0,
              "ticks": ""
             }
            },
            "marker": {
             "colorbar": {
              "outlinewidth": 0,
              "ticks": ""
             }
            },
            "type": "scatter3d"
           }
          ],
          "scattercarpet": [
           {
            "marker": {
             "colorbar": {
              "outlinewidth": 0,
              "ticks": ""
             }
            },
            "type": "scattercarpet"
           }
          ],
          "scattergeo": [
           {
            "marker": {
             "colorbar": {
              "outlinewidth": 0,
              "ticks": ""
             }
            },
            "type": "scattergeo"
           }
          ],
          "scattergl": [
           {
            "marker": {
             "colorbar": {
              "outlinewidth": 0,
              "ticks": ""
             }
            },
            "type": "scattergl"
           }
          ],
          "scattermapbox": [
           {
            "marker": {
             "colorbar": {
              "outlinewidth": 0,
              "ticks": ""
             }
            },
            "type": "scattermapbox"
           }
          ],
          "scatterpolar": [
           {
            "marker": {
             "colorbar": {
              "outlinewidth": 0,
              "ticks": ""
             }
            },
            "type": "scatterpolar"
           }
          ],
          "scatterpolargl": [
           {
            "marker": {
             "colorbar": {
              "outlinewidth": 0,
              "ticks": ""
             }
            },
            "type": "scatterpolargl"
           }
          ],
          "scatterternary": [
           {
            "marker": {
             "colorbar": {
              "outlinewidth": 0,
              "ticks": ""
             }
            },
            "type": "scatterternary"
           }
          ],
          "surface": [
           {
            "colorbar": {
             "outlinewidth": 0,
             "ticks": ""
            },
            "colorscale": [
             [
              0,
              "#0d0887"
             ],
             [
              0.1111111111111111,
              "#46039f"
             ],
             [
              0.2222222222222222,
              "#7201a8"
             ],
             [
              0.3333333333333333,
              "#9c179e"
             ],
             [
              0.4444444444444444,
              "#bd3786"
             ],
             [
              0.5555555555555556,
              "#d8576b"
             ],
             [
              0.6666666666666666,
              "#ed7953"
             ],
             [
              0.7777777777777778,
              "#fb9f3a"
             ],
             [
              0.8888888888888888,
              "#fdca26"
             ],
             [
              1,
              "#f0f921"
             ]
            ],
            "type": "surface"
           }
          ],
          "table": [
           {
            "cells": {
             "fill": {
              "color": "#EBF0F8"
             },
             "line": {
              "color": "white"
             }
            },
            "header": {
             "fill": {
              "color": "#C8D4E3"
             },
             "line": {
              "color": "white"
             }
            },
            "type": "table"
           }
          ]
         },
         "layout": {
          "annotationdefaults": {
           "arrowcolor": "#2a3f5f",
           "arrowhead": 0,
           "arrowwidth": 1
          },
          "autotypenumbers": "strict",
          "coloraxis": {
           "colorbar": {
            "outlinewidth": 0,
            "ticks": ""
           }
          },
          "colorscale": {
           "diverging": [
            [
             0,
             "#8e0152"
            ],
            [
             0.1,
             "#c51b7d"
            ],
            [
             0.2,
             "#de77ae"
            ],
            [
             0.3,
             "#f1b6da"
            ],
            [
             0.4,
             "#fde0ef"
            ],
            [
             0.5,
             "#f7f7f7"
            ],
            [
             0.6,
             "#e6f5d0"
            ],
            [
             0.7,
             "#b8e186"
            ],
            [
             0.8,
             "#7fbc41"
            ],
            [
             0.9,
             "#4d9221"
            ],
            [
             1,
             "#276419"
            ]
           ],
           "sequential": [
            [
             0,
             "#0d0887"
            ],
            [
             0.1111111111111111,
             "#46039f"
            ],
            [
             0.2222222222222222,
             "#7201a8"
            ],
            [
             0.3333333333333333,
             "#9c179e"
            ],
            [
             0.4444444444444444,
             "#bd3786"
            ],
            [
             0.5555555555555556,
             "#d8576b"
            ],
            [
             0.6666666666666666,
             "#ed7953"
            ],
            [
             0.7777777777777778,
             "#fb9f3a"
            ],
            [
             0.8888888888888888,
             "#fdca26"
            ],
            [
             1,
             "#f0f921"
            ]
           ],
           "sequentialminus": [
            [
             0,
             "#0d0887"
            ],
            [
             0.1111111111111111,
             "#46039f"
            ],
            [
             0.2222222222222222,
             "#7201a8"
            ],
            [
             0.3333333333333333,
             "#9c179e"
            ],
            [
             0.4444444444444444,
             "#bd3786"
            ],
            [
             0.5555555555555556,
             "#d8576b"
            ],
            [
             0.6666666666666666,
             "#ed7953"
            ],
            [
             0.7777777777777778,
             "#fb9f3a"
            ],
            [
             0.8888888888888888,
             "#fdca26"
            ],
            [
             1,
             "#f0f921"
            ]
           ]
          },
          "colorway": [
           "#636efa",
           "#EF553B",
           "#00cc96",
           "#ab63fa",
           "#FFA15A",
           "#19d3f3",
           "#FF6692",
           "#B6E880",
           "#FF97FF",
           "#FECB52"
          ],
          "font": {
           "color": "#2a3f5f"
          },
          "geo": {
           "bgcolor": "white",
           "lakecolor": "white",
           "landcolor": "#E5ECF6",
           "showlakes": true,
           "showland": true,
           "subunitcolor": "white"
          },
          "hoverlabel": {
           "align": "left"
          },
          "hovermode": "closest",
          "mapbox": {
           "style": "light"
          },
          "paper_bgcolor": "white",
          "plot_bgcolor": "#E5ECF6",
          "polar": {
           "angularaxis": {
            "gridcolor": "white",
            "linecolor": "white",
            "ticks": ""
           },
           "bgcolor": "#E5ECF6",
           "radialaxis": {
            "gridcolor": "white",
            "linecolor": "white",
            "ticks": ""
           }
          },
          "scene": {
           "xaxis": {
            "backgroundcolor": "#E5ECF6",
            "gridcolor": "white",
            "gridwidth": 2,
            "linecolor": "white",
            "showbackground": true,
            "ticks": "",
            "zerolinecolor": "white"
           },
           "yaxis": {
            "backgroundcolor": "#E5ECF6",
            "gridcolor": "white",
            "gridwidth": 2,
            "linecolor": "white",
            "showbackground": true,
            "ticks": "",
            "zerolinecolor": "white"
           },
           "zaxis": {
            "backgroundcolor": "#E5ECF6",
            "gridcolor": "white",
            "gridwidth": 2,
            "linecolor": "white",
            "showbackground": true,
            "ticks": "",
            "zerolinecolor": "white"
           }
          },
          "shapedefaults": {
           "line": {
            "color": "#2a3f5f"
           }
          },
          "ternary": {
           "aaxis": {
            "gridcolor": "white",
            "linecolor": "white",
            "ticks": ""
           },
           "baxis": {
            "gridcolor": "white",
            "linecolor": "white",
            "ticks": ""
           },
           "bgcolor": "#E5ECF6",
           "caxis": {
            "gridcolor": "white",
            "linecolor": "white",
            "ticks": ""
           }
          },
          "title": {
           "x": 0.05
          },
          "xaxis": {
           "automargin": true,
           "gridcolor": "white",
           "linecolor": "white",
           "ticks": "",
           "title": {
            "standoff": 15
           },
           "zerolinecolor": "white",
           "zerolinewidth": 2
          },
          "yaxis": {
           "automargin": true,
           "gridcolor": "white",
           "linecolor": "white",
           "ticks": "",
           "title": {
            "standoff": 15
           },
           "zerolinecolor": "white",
           "zerolinewidth": 2
          }
         }
        },
        "width": 1200
       }
      }
     },
     "metadata": {},
     "output_type": "display_data"
    }
   ],
   "source": [
    "import plotly.graph_objects as go\n",
    "\n",
    "# Data from the table in the image\n",
    "row_labels = [\n",
    "    'const', 'Cinderella_0 (Y)', 'Cinderella_1 (Y)', 'Cinderella_2 (Y)', 'Cinderella_3+ (Y)', 'Type',\n",
    "    'SAT_AVG (Y to Y+1)', 'Undergraduate Size (Y to Y+1)', 'Year_2008.0', 'Year_2009.0', 'Year_2010.0',\n",
    "    'Year_2011.0', 'Year_2012.0', 'Year_2013.0', 'Year_2014.0', 'Year_2015.0', 'Year_2016.0',\n",
    "    'Year_2017.0', 'Year_2018.0'\n",
    "]\n",
    "header = ['Variable', 'coef', 'std err', 't', 'P>|t|']\n",
    "values = [\n",
    "    row_labels,\n",
    "    [18.33, 1.85, 3.16, 6.57, 6.75, 1.64, 0.99, 0.00, -3.60, -3.87, -3.09, -4.84, -4.19, -2.96, -3.74, -4.02, 56.02, 0.91, -8.30],\n",
    "    [2.93, 1.35, 1.96, 2.95, 3.61, 1.23, 0.00, 0.00, 1.23, 1.23, 1.23, 1.23, 1.23, 1.23, 1.24, 1.24, 1.24, 1.30, 1.31],\n",
    "    [6.26, 1.37, 1.61, 2.23, 1.87, 1.33, 286.08, 3.09, -2.93, -3.15, -2.52, -3.93, -3.40, -2.40, -3.02, -3.24, 45.18, 0.70, -6.36],\n",
    "    [0.00, 0.17, 0.11, 0.03, 0.06, 0.18, 0.00, 0.00, 0.00, 0.00, 0.01, 0.00, 0.00, 0.02, 0.00, 0.00, 0.00, 0.49, 0.00]\n",
    "]\n",
    "\n",
    "# Create the Plotly table\n",
    "fig = go.Figure(data=[go.Table(\n",
    "    columnwidth=[200, 80, 80, 80, 80],  # Specify column widths\n",
    "    header=dict(values=header,\n",
    "                fill_color='paleturquoise',\n",
    "                align='left'),\n",
    "    cells=dict(values=values,\n",
    "               fill_color='lavender',\n",
    "               align='left'))\n",
    "])\n",
    "\n",
    "# Set the dimensions of the figure\n",
    "fig.update_layout(\n",
    "    width=1200,\n",
    "    height=600\n",
    ")\n",
    "\n",
    "# Display the table\n",
    "fig.show()\n"
   ]
  },
  {
   "cell_type": "code",
   "execution_count": 39,
   "metadata": {},
   "outputs": [
    {
     "data": {
      "application/vnd.plotly.v1+json": {
       "config": {
        "plotlyServerURL": "https://plot.ly"
       },
       "data": [
        {
         "cells": {
          "align": "left",
          "fill": {
           "color": "lavender"
          },
          "values": [
           [
            "const",
            "Cinderella_0 (Y)",
            "Cinderella_1 (Y)",
            "Cinderella_2 (Y)",
            "Cinderella_3+ (Y)",
            "Type",
            "Admission Rate (Y to Y+1)",
            "Undergraduate Size (Y to Y+1)",
            "Year_2008.0",
            "Year_2009.0",
            "Year_2010.0",
            "Year_2011.0",
            "Year_2012.0",
            "Year_2013.0",
            "Year_2014.0",
            "Year_2015.0",
            "Year_2016.0",
            "Year_2017.0",
            "Year_2018.0"
           ],
           [
            0.029,
            0.01,
            0.021,
            -0.005,
            0.003,
            -0.017,
            0.958,
            0,
            0.008,
            -0.01,
            -0.006,
            -0.002,
            -0.001,
            0.01,
            0.005,
            0.001,
            0.012,
            -0.002,
            0.012
           ],
           [
            0.006,
            0.004,
            0.007,
            0.01,
            0.013,
            0.004,
            0.007,
            0,
            0.004,
            0.004,
            0.004,
            0.004,
            0.004,
            0.004,
            0.004,
            0.004,
            0.004,
            0.004,
            0.004
           ],
           [
            4.585,
            2.171,
            3.164,
            -0.503,
            0.272,
            -4.173,
            136.756,
            -3.27,
            1.871,
            -2.298,
            -1.403,
            -0.396,
            -0.142,
            2.377,
            1.24,
            0.179,
            2.745,
            -0.336,
            2.793
           ],
           [
            0,
            0.03,
            0.002,
            0.615,
            0.786,
            0,
            0,
            0.001,
            0.061,
            0.022,
            0.161,
            0.692,
            0.887,
            0.018,
            0.215,
            0.858,
            0.006,
            0.737,
            0.005
           ]
          ]
         },
         "columnwidth": [
          200,
          80,
          80,
          80,
          80
         ],
         "header": {
          "align": "left",
          "fill": {
           "color": "paleturquoise"
          },
          "values": [
           "Variable",
           "coef",
           "std err",
           "t",
           "P>|t|"
          ]
         },
         "type": "table"
        }
       ],
       "layout": {
        "height": 600,
        "template": {
         "data": {
          "bar": [
           {
            "error_x": {
             "color": "#2a3f5f"
            },
            "error_y": {
             "color": "#2a3f5f"
            },
            "marker": {
             "line": {
              "color": "#E5ECF6",
              "width": 0.5
             },
             "pattern": {
              "fillmode": "overlay",
              "size": 10,
              "solidity": 0.2
             }
            },
            "type": "bar"
           }
          ],
          "barpolar": [
           {
            "marker": {
             "line": {
              "color": "#E5ECF6",
              "width": 0.5
             },
             "pattern": {
              "fillmode": "overlay",
              "size": 10,
              "solidity": 0.2
             }
            },
            "type": "barpolar"
           }
          ],
          "carpet": [
           {
            "aaxis": {
             "endlinecolor": "#2a3f5f",
             "gridcolor": "white",
             "linecolor": "white",
             "minorgridcolor": "white",
             "startlinecolor": "#2a3f5f"
            },
            "baxis": {
             "endlinecolor": "#2a3f5f",
             "gridcolor": "white",
             "linecolor": "white",
             "minorgridcolor": "white",
             "startlinecolor": "#2a3f5f"
            },
            "type": "carpet"
           }
          ],
          "choropleth": [
           {
            "colorbar": {
             "outlinewidth": 0,
             "ticks": ""
            },
            "type": "choropleth"
           }
          ],
          "contour": [
           {
            "colorbar": {
             "outlinewidth": 0,
             "ticks": ""
            },
            "colorscale": [
             [
              0,
              "#0d0887"
             ],
             [
              0.1111111111111111,
              "#46039f"
             ],
             [
              0.2222222222222222,
              "#7201a8"
             ],
             [
              0.3333333333333333,
              "#9c179e"
             ],
             [
              0.4444444444444444,
              "#bd3786"
             ],
             [
              0.5555555555555556,
              "#d8576b"
             ],
             [
              0.6666666666666666,
              "#ed7953"
             ],
             [
              0.7777777777777778,
              "#fb9f3a"
             ],
             [
              0.8888888888888888,
              "#fdca26"
             ],
             [
              1,
              "#f0f921"
             ]
            ],
            "type": "contour"
           }
          ],
          "contourcarpet": [
           {
            "colorbar": {
             "outlinewidth": 0,
             "ticks": ""
            },
            "type": "contourcarpet"
           }
          ],
          "heatmap": [
           {
            "colorbar": {
             "outlinewidth": 0,
             "ticks": ""
            },
            "colorscale": [
             [
              0,
              "#0d0887"
             ],
             [
              0.1111111111111111,
              "#46039f"
             ],
             [
              0.2222222222222222,
              "#7201a8"
             ],
             [
              0.3333333333333333,
              "#9c179e"
             ],
             [
              0.4444444444444444,
              "#bd3786"
             ],
             [
              0.5555555555555556,
              "#d8576b"
             ],
             [
              0.6666666666666666,
              "#ed7953"
             ],
             [
              0.7777777777777778,
              "#fb9f3a"
             ],
             [
              0.8888888888888888,
              "#fdca26"
             ],
             [
              1,
              "#f0f921"
             ]
            ],
            "type": "heatmap"
           }
          ],
          "heatmapgl": [
           {
            "colorbar": {
             "outlinewidth": 0,
             "ticks": ""
            },
            "colorscale": [
             [
              0,
              "#0d0887"
             ],
             [
              0.1111111111111111,
              "#46039f"
             ],
             [
              0.2222222222222222,
              "#7201a8"
             ],
             [
              0.3333333333333333,
              "#9c179e"
             ],
             [
              0.4444444444444444,
              "#bd3786"
             ],
             [
              0.5555555555555556,
              "#d8576b"
             ],
             [
              0.6666666666666666,
              "#ed7953"
             ],
             [
              0.7777777777777778,
              "#fb9f3a"
             ],
             [
              0.8888888888888888,
              "#fdca26"
             ],
             [
              1,
              "#f0f921"
             ]
            ],
            "type": "heatmapgl"
           }
          ],
          "histogram": [
           {
            "marker": {
             "pattern": {
              "fillmode": "overlay",
              "size": 10,
              "solidity": 0.2
             }
            },
            "type": "histogram"
           }
          ],
          "histogram2d": [
           {
            "colorbar": {
             "outlinewidth": 0,
             "ticks": ""
            },
            "colorscale": [
             [
              0,
              "#0d0887"
             ],
             [
              0.1111111111111111,
              "#46039f"
             ],
             [
              0.2222222222222222,
              "#7201a8"
             ],
             [
              0.3333333333333333,
              "#9c179e"
             ],
             [
              0.4444444444444444,
              "#bd3786"
             ],
             [
              0.5555555555555556,
              "#d8576b"
             ],
             [
              0.6666666666666666,
              "#ed7953"
             ],
             [
              0.7777777777777778,
              "#fb9f3a"
             ],
             [
              0.8888888888888888,
              "#fdca26"
             ],
             [
              1,
              "#f0f921"
             ]
            ],
            "type": "histogram2d"
           }
          ],
          "histogram2dcontour": [
           {
            "colorbar": {
             "outlinewidth": 0,
             "ticks": ""
            },
            "colorscale": [
             [
              0,
              "#0d0887"
             ],
             [
              0.1111111111111111,
              "#46039f"
             ],
             [
              0.2222222222222222,
              "#7201a8"
             ],
             [
              0.3333333333333333,
              "#9c179e"
             ],
             [
              0.4444444444444444,
              "#bd3786"
             ],
             [
              0.5555555555555556,
              "#d8576b"
             ],
             [
              0.6666666666666666,
              "#ed7953"
             ],
             [
              0.7777777777777778,
              "#fb9f3a"
             ],
             [
              0.8888888888888888,
              "#fdca26"
             ],
             [
              1,
              "#f0f921"
             ]
            ],
            "type": "histogram2dcontour"
           }
          ],
          "mesh3d": [
           {
            "colorbar": {
             "outlinewidth": 0,
             "ticks": ""
            },
            "type": "mesh3d"
           }
          ],
          "parcoords": [
           {
            "line": {
             "colorbar": {
              "outlinewidth": 0,
              "ticks": ""
             }
            },
            "type": "parcoords"
           }
          ],
          "pie": [
           {
            "automargin": true,
            "type": "pie"
           }
          ],
          "scatter": [
           {
            "fillpattern": {
             "fillmode": "overlay",
             "size": 10,
             "solidity": 0.2
            },
            "type": "scatter"
           }
          ],
          "scatter3d": [
           {
            "line": {
             "colorbar": {
              "outlinewidth": 0,
              "ticks": ""
             }
            },
            "marker": {
             "colorbar": {
              "outlinewidth": 0,
              "ticks": ""
             }
            },
            "type": "scatter3d"
           }
          ],
          "scattercarpet": [
           {
            "marker": {
             "colorbar": {
              "outlinewidth": 0,
              "ticks": ""
             }
            },
            "type": "scattercarpet"
           }
          ],
          "scattergeo": [
           {
            "marker": {
             "colorbar": {
              "outlinewidth": 0,
              "ticks": ""
             }
            },
            "type": "scattergeo"
           }
          ],
          "scattergl": [
           {
            "marker": {
             "colorbar": {
              "outlinewidth": 0,
              "ticks": ""
             }
            },
            "type": "scattergl"
           }
          ],
          "scattermapbox": [
           {
            "marker": {
             "colorbar": {
              "outlinewidth": 0,
              "ticks": ""
             }
            },
            "type": "scattermapbox"
           }
          ],
          "scatterpolar": [
           {
            "marker": {
             "colorbar": {
              "outlinewidth": 0,
              "ticks": ""
             }
            },
            "type": "scatterpolar"
           }
          ],
          "scatterpolargl": [
           {
            "marker": {
             "colorbar": {
              "outlinewidth": 0,
              "ticks": ""
             }
            },
            "type": "scatterpolargl"
           }
          ],
          "scatterternary": [
           {
            "marker": {
             "colorbar": {
              "outlinewidth": 0,
              "ticks": ""
             }
            },
            "type": "scatterternary"
           }
          ],
          "surface": [
           {
            "colorbar": {
             "outlinewidth": 0,
             "ticks": ""
            },
            "colorscale": [
             [
              0,
              "#0d0887"
             ],
             [
              0.1111111111111111,
              "#46039f"
             ],
             [
              0.2222222222222222,
              "#7201a8"
             ],
             [
              0.3333333333333333,
              "#9c179e"
             ],
             [
              0.4444444444444444,
              "#bd3786"
             ],
             [
              0.5555555555555556,
              "#d8576b"
             ],
             [
              0.6666666666666666,
              "#ed7953"
             ],
             [
              0.7777777777777778,
              "#fb9f3a"
             ],
             [
              0.8888888888888888,
              "#fdca26"
             ],
             [
              1,
              "#f0f921"
             ]
            ],
            "type": "surface"
           }
          ],
          "table": [
           {
            "cells": {
             "fill": {
              "color": "#EBF0F8"
             },
             "line": {
              "color": "white"
             }
            },
            "header": {
             "fill": {
              "color": "#C8D4E3"
             },
             "line": {
              "color": "white"
             }
            },
            "type": "table"
           }
          ]
         },
         "layout": {
          "annotationdefaults": {
           "arrowcolor": "#2a3f5f",
           "arrowhead": 0,
           "arrowwidth": 1
          },
          "autotypenumbers": "strict",
          "coloraxis": {
           "colorbar": {
            "outlinewidth": 0,
            "ticks": ""
           }
          },
          "colorscale": {
           "diverging": [
            [
             0,
             "#8e0152"
            ],
            [
             0.1,
             "#c51b7d"
            ],
            [
             0.2,
             "#de77ae"
            ],
            [
             0.3,
             "#f1b6da"
            ],
            [
             0.4,
             "#fde0ef"
            ],
            [
             0.5,
             "#f7f7f7"
            ],
            [
             0.6,
             "#e6f5d0"
            ],
            [
             0.7,
             "#b8e186"
            ],
            [
             0.8,
             "#7fbc41"
            ],
            [
             0.9,
             "#4d9221"
            ],
            [
             1,
             "#276419"
            ]
           ],
           "sequential": [
            [
             0,
             "#0d0887"
            ],
            [
             0.1111111111111111,
             "#46039f"
            ],
            [
             0.2222222222222222,
             "#7201a8"
            ],
            [
             0.3333333333333333,
             "#9c179e"
            ],
            [
             0.4444444444444444,
             "#bd3786"
            ],
            [
             0.5555555555555556,
             "#d8576b"
            ],
            [
             0.6666666666666666,
             "#ed7953"
            ],
            [
             0.7777777777777778,
             "#fb9f3a"
            ],
            [
             0.8888888888888888,
             "#fdca26"
            ],
            [
             1,
             "#f0f921"
            ]
           ],
           "sequentialminus": [
            [
             0,
             "#0d0887"
            ],
            [
             0.1111111111111111,
             "#46039f"
            ],
            [
             0.2222222222222222,
             "#7201a8"
            ],
            [
             0.3333333333333333,
             "#9c179e"
            ],
            [
             0.4444444444444444,
             "#bd3786"
            ],
            [
             0.5555555555555556,
             "#d8576b"
            ],
            [
             0.6666666666666666,
             "#ed7953"
            ],
            [
             0.7777777777777778,
             "#fb9f3a"
            ],
            [
             0.8888888888888888,
             "#fdca26"
            ],
            [
             1,
             "#f0f921"
            ]
           ]
          },
          "colorway": [
           "#636efa",
           "#EF553B",
           "#00cc96",
           "#ab63fa",
           "#FFA15A",
           "#19d3f3",
           "#FF6692",
           "#B6E880",
           "#FF97FF",
           "#FECB52"
          ],
          "font": {
           "color": "#2a3f5f"
          },
          "geo": {
           "bgcolor": "white",
           "lakecolor": "white",
           "landcolor": "#E5ECF6",
           "showlakes": true,
           "showland": true,
           "subunitcolor": "white"
          },
          "hoverlabel": {
           "align": "left"
          },
          "hovermode": "closest",
          "mapbox": {
           "style": "light"
          },
          "paper_bgcolor": "white",
          "plot_bgcolor": "#E5ECF6",
          "polar": {
           "angularaxis": {
            "gridcolor": "white",
            "linecolor": "white",
            "ticks": ""
           },
           "bgcolor": "#E5ECF6",
           "radialaxis": {
            "gridcolor": "white",
            "linecolor": "white",
            "ticks": ""
           }
          },
          "scene": {
           "xaxis": {
            "backgroundcolor": "#E5ECF6",
            "gridcolor": "white",
            "gridwidth": 2,
            "linecolor": "white",
            "showbackground": true,
            "ticks": "",
            "zerolinecolor": "white"
           },
           "yaxis": {
            "backgroundcolor": "#E5ECF6",
            "gridcolor": "white",
            "gridwidth": 2,
            "linecolor": "white",
            "showbackground": true,
            "ticks": "",
            "zerolinecolor": "white"
           },
           "zaxis": {
            "backgroundcolor": "#E5ECF6",
            "gridcolor": "white",
            "gridwidth": 2,
            "linecolor": "white",
            "showbackground": true,
            "ticks": "",
            "zerolinecolor": "white"
           }
          },
          "shapedefaults": {
           "line": {
            "color": "#2a3f5f"
           }
          },
          "ternary": {
           "aaxis": {
            "gridcolor": "white",
            "linecolor": "white",
            "ticks": ""
           },
           "baxis": {
            "gridcolor": "white",
            "linecolor": "white",
            "ticks": ""
           },
           "bgcolor": "#E5ECF6",
           "caxis": {
            "gridcolor": "white",
            "linecolor": "white",
            "ticks": ""
           }
          },
          "title": {
           "x": 0.05
          },
          "xaxis": {
           "automargin": true,
           "gridcolor": "white",
           "linecolor": "white",
           "ticks": "",
           "title": {
            "standoff": 15
           },
           "zerolinecolor": "white",
           "zerolinewidth": 2
          },
          "yaxis": {
           "automargin": true,
           "gridcolor": "white",
           "linecolor": "white",
           "ticks": "",
           "title": {
            "standoff": 15
           },
           "zerolinecolor": "white",
           "zerolinewidth": 2
          }
         }
        },
        "width": 1200
       }
      }
     },
     "metadata": {},
     "output_type": "display_data"
    }
   ],
   "source": [
    "import plotly.graph_objects as go\n",
    "\n",
    "# Data from the new regression results in the image\n",
    "row_labels = [\n",
    "    'const', 'Cinderella_0 (Y)', 'Cinderella_1 (Y)', 'Cinderella_2 (Y)', 'Cinderella_3+ (Y)', 'Type',\n",
    "    'Admission Rate (Y to Y+1)', 'Undergraduate Size (Y to Y+1)', 'Year_2008.0', 'Year_2009.0', 'Year_2010.0',\n",
    "    'Year_2011.0', 'Year_2012.0', 'Year_2013.0', 'Year_2014.0', 'Year_2015.0', 'Year_2016.0',\n",
    "    'Year_2017.0', 'Year_2018.0'\n",
    "]\n",
    "header = ['Variable', 'coef', 'std err', 't', 'P>|t|']\n",
    "values = [\n",
    "    row_labels,\n",
    "    [0.029, 0.010, 0.021, -0.005, 0.003, -0.017, 0.958, -0.000, 0.008, -0.010, -0.006, -0.002, -0.001, 0.010, 0.005, 0.001, 0.012, -0.002, 0.012],\n",
    "    [0.006, 0.004, 0.007, 0.010, 0.013, 0.004, 0.007, 0.000, 0.004, 0.004, 0.004, 0.004, 0.004, 0.004, 0.004, 0.004, 0.004, 0.004, 0.004],\n",
    "    [4.585, 2.171, 3.164, -0.503, 0.272, -4.173, 136.756, -3.270, 1.871, -2.298, -1.403, -0.396, -0.142, 2.377, 1.240, 0.179, 2.745, -0.336, 2.793],\n",
    "    [0.000, 0.030, 0.002, 0.615, 0.786, 0.000, 0.000, 0.001, 0.061, 0.022, 0.161, 0.692, 0.887, 0.018, 0.215, 0.858, 0.006, 0.737, 0.005]\n",
    "]\n",
    "\n",
    "# Create the Plotly table\n",
    "fig = go.Figure(data=[go.Table(\n",
    "    columnwidth=[200, 80, 80, 80, 80],  # Specify column widths\n",
    "    header=dict(values=header,\n",
    "                fill_color='paleturquoise',\n",
    "                align='left'),\n",
    "    cells=dict(values=values,\n",
    "               fill_color='lavender',\n",
    "               align='left'))\n",
    "])\n",
    "\n",
    "# Set the dimensions of the figure\n",
    "fig.update_layout(\n",
    "    width=1200,\n",
    "    height=600\n",
    ")\n",
    "\n",
    "# Display the table\n",
    "fig.show()\n"
   ]
  }
 ],
 "metadata": {
  "kernelspec": {
   "display_name": "Python 3",
   "language": "python",
   "name": "python3"
  },
  "language_info": {
   "codemirror_mode": {
    "name": "ipython",
    "version": 3
   },
   "file_extension": ".py",
   "mimetype": "text/x-python",
   "name": "python",
   "nbconvert_exporter": "python",
   "pygments_lexer": "ipython3",
   "version": "3.12.0"
  }
 },
 "nbformat": 4,
 "nbformat_minor": 2
}
